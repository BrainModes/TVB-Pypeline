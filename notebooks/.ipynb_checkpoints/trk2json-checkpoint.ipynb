{
 "cells": [
  {
   "cell_type": "code",
   "execution_count": 1,
   "metadata": {
    "collapsed": true
   },
   "outputs": [],
   "source": [
    "import nipype.interfaces.mrtrix as mrt\n",
    "import json\n",
    "import numpy as np\n",
    "from collections import defaultdict\n"
   ]
  },
  {
   "cell_type": "code",
   "execution_count": 2,
   "metadata": {
    "collapsed": true
   },
   "outputs": [],
   "source": [
    "workindDir = '/Users/srothmei/Desktop/charite/toronto/AJ_20140516_1600/mrtrix_68/tracks_68/'\n",
    "trackFile = '10011_tracksCN.tck'"
   ]
  },
  {
   "cell_type": "markdown",
   "metadata": {},
   "source": [
    "### TRK"
   ]
  },
  {
   "cell_type": "code",
   "execution_count": 3,
   "metadata": {
    "collapsed": false
   },
   "outputs": [
    {
     "data": {
      "text/plain": [
       "\n",
       "image_file = <undefined>\n",
       "in_file = /Users/srothmei/Desktop/charite/toronto/AJ_20140516_1600/mrtrix_68/tracks_68/10011_tracksCN.tck\n",
       "matrix_file = <undefined>\n",
       "out_filename = converted.trk\n",
       "registration_image_file = <undefined>"
      ]
     },
     "execution_count": 3,
     "metadata": {},
     "output_type": "execute_result"
    }
   ],
   "source": [
    "tck2trk = mrt.convert.MRTrix2TrackVis()\n",
    "tck2trk.inputs.in_file = workindDir + trackFile\n",
    "tck2trk.inputs.image_file = '/Users/srothmei/Desktop/charite/toronto/AJ_20140516_1600/mrtrix_68/masks_68/gmwmborder_1mm.nii.gz'\n"
   ]
  },
  {
   "cell_type": "markdown",
   "metadata": {},
   "source": [
    "### NPY"
   ]
  },
  {
   "cell_type": "code",
   "execution_count": null,
   "metadata": {
    "collapsed": false
   },
   "outputs": [],
   "source": [
    "#tracks_header, tracks = mrt.convert.read_mrtrix_tracks(workindDir + trackFile, as_generator=False)\n"
   ]
  },
  {
   "cell_type": "code",
   "execution_count": null,
   "metadata": {
    "collapsed": false
   },
   "outputs": [],
   "source": [
    "#trackDict = defaultdict(list)\n",
    "tracks_header['test'] = tracks\n",
    "#tracks_header['test'][1]\n",
    "\n",
    "#np.save(workindDir + '10011_tracksCN.npy', tracks_header)"
   ]
  },
  {
   "cell_type": "code",
   "execution_count": null,
   "metadata": {
    "collapsed": true
   },
   "outputs": [],
   "source": [
    "test = np.load(workindDir + '10011_tracksCN.npy').item()"
   ]
  },
  {
   "cell_type": "code",
   "execution_count": null,
   "metadata": {
    "collapsed": false
   },
   "outputs": [],
   "source": [
    "print len(tracks[0])\n",
    "print tracks.count(tracks)\n",
    "print type(tracks_header['test'])"
   ]
  },
  {
   "cell_type": "code",
   "execution_count": null,
   "metadata": {
    "collapsed": true
   },
   "outputs": [],
   "source": []
  }
 ],
 "metadata": {
  "kernelspec": {
   "display_name": "Python 2",
   "language": "python",
   "name": "python2"
  },
  "language_info": {
   "codemirror_mode": {
    "name": "ipython",
    "version": 2
   },
   "file_extension": ".py",
   "mimetype": "text/x-python",
   "name": "python",
   "nbconvert_exporter": "python",
   "pygments_lexer": "ipython2",
   "version": "2.7.10"
  }
 },
 "nbformat": 4,
 "nbformat_minor": 0
}
