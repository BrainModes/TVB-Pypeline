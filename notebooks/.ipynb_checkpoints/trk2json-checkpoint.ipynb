{
 "cells": [
  {
   "cell_type": "code",
   "execution_count": 1,
   "metadata": {
    "collapsed": true
   },
   "outputs": [],
   "source": [
    "import nipype.interfaces.mrtrix as mrt\n",
    "import json\n",
    "import numpy as np\n",
    "from collections import defaultdict\n"
   ]
  },
  {
   "cell_type": "code",
   "execution_count": 2,
   "metadata": {
    "collapsed": true
   },
   "outputs": [],
   "source": [
    "workindDir = '/Users/srothmei/Desktop/charite/toronto/AJ_20140516_1600/mrtrix_68/tracks_68/'\n",
    "trackFile = '10011_tracksCN.tck'"
   ]
  },
  {
   "cell_type": "markdown",
   "metadata": {},
   "source": [
    "### TRK"
   ]
  },
  {
   "cell_type": "code",
   "execution_count": 3,
   "metadata": {
    "collapsed": false
   },
   "outputs": [
    {
     "name": "stderr",
     "output_type": "stream",
     "text": [
      "INFO:workflow:Executing node tckFinder in dir: /var/folders/tg/2g576vk174s3m9znw1sgjpbm0000gn/T/tmpIA2IMC/tckFinder\n"
     ]
    },
    {
     "name": "stdout",
     "output_type": "stream",
     "text": [
      "['/Users/srothmei/Desktop/charite/toronto/AJ_20140516_1600/mrtrix_68/tracks_68/10011_tracksCN.tck', '/Users/srothmei/Desktop/charite/toronto/AJ_20140516_1600/mrtrix_68/tracks_68/10012_tracksCN.tck', '/Users/srothmei/Desktop/charite/toronto/AJ_20140516_1600/mrtrix_68/tracks_68/10013_tracksCN.tck', '/Users/srothmei/Desktop/charite/toronto/AJ_20140516_1600/mrtrix_68/tracks_68/10021_tracksCN.tck', '/Users/srothmei/Desktop/charite/toronto/AJ_20140516_1600/mrtrix_68/tracks_68/10022_tracksCN.tck', '/Users/srothmei/Desktop/charite/toronto/AJ_20140516_1600/mrtrix_68/tracks_68/20351_tracksCN.tck', '/Users/srothmei/Desktop/charite/toronto/AJ_20140516_1600/mrtrix_68/tracks_68/20352_tracksCN.tck', '/Users/srothmei/Desktop/charite/toronto/AJ_20140516_1600/mrtrix_68/tracks_68/20353_tracksCN.tck', '/Users/srothmei/Desktop/charite/toronto/AJ_20140516_1600/mrtrix_68/tracks_68/20354_tracksCN.tck']\n"
     ]
    }
   ],
   "source": [
    "# Data finder\n",
    "import re\n",
    "from nipype import Node\n",
    "from nipype.interfaces.io import DataFinder\n",
    "tckFinder = Node(DataFinder(match_regex = '.*\\.tck', root_paths = workindDir), name = 'tckFinder')\n",
    "\n",
    "res = tckFinder.run()\n",
    "\n",
    "#for i in res.outputs.out_paths:\n",
    "#    print i[:-3]\n",
    "print res.outputs.out_paths"
   ]
  },
  {
   "cell_type": "code",
   "execution_count": null,
   "metadata": {
    "collapsed": false
   },
   "outputs": [],
   "source": [
    "tck2trk = mrt.convert.MRTrix2TrackVis()\n",
    "#tck2trk.inputs.in_file = workindDir + trackFile\n",
    "#tck2trk.inputs.image_file = '/Users/srothmei/Desktop/charite/toronto/AJ_20140516_1600/mrtrix_68/masks_68/gmwmborder_1mm.nii.gz'\n",
    "for i in res.outputs.out_paths:\n",
    "    print i\n",
    "    tck2trk.inputs.in_file = i\n",
    "    tck2trk.inputs.out_filename = i[:-3] + 'trk'\n",
    "    tck2trk.run()"
   ]
  },
  {
   "cell_type": "markdown",
   "metadata": {},
   "source": [
    "### NPY"
   ]
  },
  {
   "cell_type": "code",
   "execution_count": null,
   "metadata": {
    "collapsed": false
   },
   "outputs": [],
   "source": [
    "#tracks_header, tracks = mrt.convert.read_mrtrix_tracks(workindDir + trackFile, as_generator=False)\n"
   ]
  },
  {
   "cell_type": "code",
   "execution_count": null,
   "metadata": {
    "collapsed": false
   },
   "outputs": [],
   "source": [
    "#trackDict = defaultdict(list)\n",
    "tracks_header['test'] = tracks\n",
    "#tracks_header['test'][1]\n",
    "\n",
    "#np.save(workindDir + '10011_tracksCN.npy', tracks_header)"
   ]
  },
  {
   "cell_type": "code",
   "execution_count": null,
   "metadata": {
    "collapsed": true
   },
   "outputs": [],
   "source": [
    "test = np.load(workindDir + '10011_tracksCN.npy').item()"
   ]
  },
  {
   "cell_type": "code",
   "execution_count": null,
   "metadata": {
    "collapsed": false
   },
   "outputs": [],
   "source": [
    "print len(tracks[0])\n",
    "print tracks.count(tracks)\n",
    "print type(tracks_header['test'])"
   ]
  },
  {
   "cell_type": "code",
   "execution_count": null,
   "metadata": {
    "collapsed": true
   },
   "outputs": [],
   "source": []
  }
 ],
 "metadata": {
  "kernelspec": {
   "display_name": "Python 2",
   "language": "python",
   "name": "python2"
  },
  "language_info": {
   "codemirror_mode": {
    "name": "ipython",
    "version": 2
   },
   "file_extension": ".py",
   "mimetype": "text/x-python",
   "name": "python",
   "nbconvert_exporter": "python",
   "pygments_lexer": "ipython2",
   "version": "2.7.10"
  }
 },
 "nbformat": 4,
 "nbformat_minor": 0
}
