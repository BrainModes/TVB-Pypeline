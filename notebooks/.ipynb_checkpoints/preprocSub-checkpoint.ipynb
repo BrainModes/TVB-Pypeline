{
 "cells": [
  {
   "cell_type": "markdown",
   "metadata": {},
   "source": [
    "#### Handle the imports"
   ]
  },
  {
   "cell_type": "code",
   "execution_count": 1,
   "metadata": {
    "collapsed": false
   },
   "outputs": [],
   "source": [
    "from nipype import Node, Workflow\n",
    "from nipype.interfaces.utility import IdentityInterface, Function\n",
    "from nipype.interfaces import freesurfer, fsl, mrtrix\n",
    "from nipype.interfaces.dcm2nii import Dcm2nii\n",
    "from nipype.interfaces.io import DataFinder\n",
    "from nipype import utils as nputils"
   ]
  },
  {
   "cell_type": "code",
   "execution_count": 2,
   "metadata": {
    "collapsed": true
   },
   "outputs": [],
   "source": [
    "from multiprocessing import cpu_count\n",
    "import numpy as np\n",
    "import logging, os, shutil"
   ]
  },
  {
   "cell_type": "markdown",
   "metadata": {},
   "source": [
    "#### Define a function for the preprocessing workflow"
   ]
  },
  {
   "cell_type": "code",
   "execution_count": null,
   "metadata": {
    "collapsed": false
   },
   "outputs": [],
   "source": [
    "# def preproc_sub(subject_folder, subject_id):"
   ]
  },
  {
   "cell_type": "markdown",
   "metadata": {},
   "source": [
    "#### Start the logging"
   ]
  },
  {
   "cell_type": "code",
   "execution_count": 3,
   "metadata": {
    "collapsed": false
   },
   "outputs": [],
   "source": [
    "logger = logging.getLogger('interface')\n",
    "logger.setLevel(logging.DEBUG)\n",
    "# create console handler and set level to debug\n",
    "ch = logging.StreamHandler()\n",
    "ch.setLevel(logging.INFO)\n",
    "# create formatter\n",
    "formatter = logging.Formatter('%(asctime)s - %(levelname)s - %(message)s')\n",
    "# add formatter to ch\n",
    "ch.setFormatter(formatter)\n",
    "# add ch to logger\n",
    "logger.addHandler(ch)"
   ]
  },
  {
   "cell_type": "markdown",
   "metadata": {},
   "source": [
    "#### Define the later function variables in hard-code for debuging"
   ]
  },
  {
   "cell_type": "code",
   "execution_count": 4,
   "metadata": {
    "collapsed": true
   },
   "outputs": [],
   "source": [
    "subject_folder = '/Users/srothmei/Desktop/charite/toronto/'\n",
    "subject_id = 'FR_20120903'"
   ]
  },
  {
   "cell_type": "markdown",
   "metadata": {},
   "source": [
    "### Define Inputnode and Outputnode"
   ]
  },
  {
   "cell_type": "code",
   "execution_count": 5,
   "metadata": {
    "collapsed": false
   },
   "outputs": [],
   "source": [
    "inputNode = Node(IdentityInterface(fields=['subject_id', 'subject_folder']), mandatory_inputs=True, name='input')\n",
    "inputNode.inputs.subject_id = subject_id\n",
    "inputNode.inputs.subject_folder = subject_folder\n",
    "\n",
    "# TODO: Define Output node"
   ]
  },
  {
   "cell_type": "markdown",
   "metadata": {},
   "source": [
    "### Utility Nodes"
   ]
  },
  {
   "cell_type": "code",
   "execution_count": 6,
   "metadata": {
    "collapsed": false
   },
   "outputs": [],
   "source": [
    "def extractB0(dwMriFile):\n",
    "    # This function is used to extract the b0 image out of the 4D series of diffusion images by splitting the\n",
    "    # series, copying the first image and merging the images together into a single file afterwards\n",
    "    pth, fname, ext = nputils.filemanip.split_filename(dwMriFile)\n",
    "    currPth = os.path.realpath('.')\n",
    "\n",
    "    # Change dir because FSL split takes no input for storing things somewhere else....\n",
    "    os.chdir(pth)    \n",
    "\n",
    "    splitter = fsl.utils.Split(dimension = 't', out_base_name = 'tmp_', in_file = dwMriFile)\n",
    "    res = splitter.run()\n",
    "    b0 = res.outputs.out_files[0]\n",
    "\n",
    "    # Copy the b0 image and rename it accordingly\n",
    "    shutil.copy(b0, 'no_diffusion.nii.gz')\n",
    "    b0 = os.path.abspath('no_diffusion.nii.gz')\n",
    "\n",
    "    # Delete the sliced files...\n",
    "    for f in res.outputs.out_files:\n",
    "        os.remove(f)\n",
    "\n",
    "    # Change back into previous directory\n",
    "    os.chdir(currPth)\n",
    "    \n",
    "    return b0"
   ]
  },
  {
   "cell_type": "markdown",
   "metadata": {},
   "source": [
    "## Set parameters and build variables"
   ]
  },
  {
   "cell_type": "code",
   "execution_count": 7,
   "metadata": {
    "collapsed": false
   },
   "outputs": [],
   "source": [
    "reconallFolderName = 'recon_all' # Define what the output folder of recon-all should be named\n",
    "\n",
    "def pathBuilder(subject_folder, subject_id, ):\n",
    "    subPath = subject_folder + '/' + subject_id # Build full path to subject folder\n",
    "    \n",
    "    #Path definitions\n",
    "    dwiPreprocFolder = subPath + '/diff_processed'\n",
    "    trackingFolder = subPath + '/tractography'\n",
    "    \n",
    "    # Make folders\n",
    "    os.makedirs(dwiPreprocFolder)\n",
    "    os.makedirs(trackingFolder)\n",
    "    \n",
    "    # RawData Structure\n",
    "    rawdataFolder = subPath + '/RAWDATA' # Define the path to the folder holding the rawdata dicom-files\n",
    "    T1RawFolder = rawdataFolder + '/MPRAGE/' # The T1 rawdata folder\n",
    "    dwiRawFolder = rawdataFolder + '/DTI' # The dwMRI rawdata folder\n",
    "    fmriRawFolder = rawdataFolder + '/BOLD-EPI/' # The fMRI rawdata folder\n",
    "    \n",
    "    return subPath, rawdataFolder, T1RawFolder, dwiRawFolder, fmriRawFolder, dwiPreprocFolder, trackingFolder\n",
    "\n",
    "pathBuildingNode = Node(Function(input_names = ['subject_folder', 'subject_id'],\n",
    "                                output_names = ['subPath', 'rawdataFolder', 'T1RawFolder',\n",
    "                                                'dwiRawFolder', 'fmriRawFolder', \n",
    "                                                'dwiPreprocFolder', 'trackingFolder'],\n",
    "                                function = pathBuilder),\n",
    "                        name='pathBuilder')"
   ]
  },
  {
   "cell_type": "code",
   "execution_count": 8,
   "metadata": {
    "collapsed": false
   },
   "outputs": [
    {
     "name": "stderr",
     "output_type": "stream",
     "text": [
      "2015-11-03 16:31:49,282 - INFO - Start the preprocessing for subject FR_20120903\n",
      "INFO:interface:Start the preprocessing for subject FR_20120903\n"
     ]
    }
   ],
   "source": [
    "logger.info('Start the preprocessing for subject ' + subject_id)"
   ]
  },
  {
   "cell_type": "markdown",
   "metadata": {},
   "source": [
    "### Structural Data (T1) preprocessing"
   ]
  },
  {
   "cell_type": "code",
   "execution_count": 9,
   "metadata": {
    "collapsed": false
   },
   "outputs": [
    {
     "name": "stderr",
     "output_type": "stream",
     "text": [
      "2015-11-03 16:31:50,872 - INFO - Start recon_all\n",
      "INFO:interface:Start recon_all\n"
     ]
    }
   ],
   "source": [
    "logger.info('Start recon_all')\n",
    "\n",
    "# Setup a datafinder to find the paths to the specific DICOM files\n",
    "t1FinderNode = Node(DataFinder(), name = 't1Finder')\n",
    "t1FinderNode.inputs.match_regex = '.*\\.dcm'\n",
    "#df = DataFinder(root_paths = T1RawFolder, match_regex = '.*\\.dcm')\n",
    "#firstFile = df.run().outputs.out_paths[0]\n",
    "\n",
    "# Set recon-all parameters\n",
    "reconallNode = Node(freesurfer.preprocess.ReconAll(), name = 'reconall')\n",
    "#reconallNode.inputs.T1_files = firstFile\n",
    "#reconallNode.inputs.subjects_dir = subPath\n",
    "reconallNode.inputs.subject_id = reconallFolderName\n",
    "reconallNode.inputs.directive = 'all'\n",
    "reconallNode.inputs.openmp = cpu_count()\n",
    "\n",
    "# Convert the T1 mgz image to nifti format for later usage\n",
    "mriConverter = Node(freesurfer.preprocess.MRIConvert(), name = 'convertAparcAseg')\n",
    "#convertT1.inputs.out_file = subPath + reconallFolderName + '/mri/aparc+aseg.nii.gz'\n",
    "mriConverter.inputs.out_type = 'niigz'\n",
    "mriConverter.inputs.out_orientation = 'RAS'"
   ]
  },
  {
   "cell_type": "markdown",
   "metadata": {},
   "source": [
    "### Diffusion Data (dwMRI) preprocessing"
   ]
  },
  {
   "cell_type": "code",
   "execution_count": 31,
   "metadata": {
    "collapsed": false
   },
   "outputs": [
    {
     "name": "stderr",
     "output_type": "stream",
     "text": [
      "2015-11-03 16:52:40,194 - INFO - Start dt_recon\n",
      "INFO:interface:Start dt_recon\n"
     ]
    }
   ],
   "source": [
    "logger.info('Start dt_recon')\n",
    "\n",
    "# First extract the diffusion vectors and the pulse intensity (bvec and bval)\n",
    "# Use dcm2nii for this task\n",
    "#dwiFinderNode = t1FinderNode.clone('dwiFinder')\n",
    "\n",
    "dcm2niiNode = Node(Dcm2nii(), name = 'dcm2niiAndBvecs')\n",
    "dcm2niiNode.inputs.gzip_output = True\n",
    "dcm2niiNode.inputs.date_in_filename = False\n",
    "dcm2niiNode.inputs.events_in_filename = False\n",
    "\n",
    "\n",
    "# Extract the first image of the DTI series i.e. the b0 image\n",
    "extrctB0Node = Node(Function(input_names = ['dwMriFile'], output_names = ['b0'],\n",
    "                             function = extractB0), name = 'Extract_b0')\n",
    "\n",
    "\n",
    "# Perform the registration between subject T1 space and dwMRI space\n",
    "bbregNode = Node(freesurfer.preprocess.BBRegister(), name = 'BBRegister')\n",
    "bbregNode.inputs.init = \"fsl\"\n",
    "bbregNode.inputs.contrast_type = \"t2\"\n",
    "bbregNode.inputs.epi_mask = True\n",
    "bbregNode.inputs.out_fsl_file = True\n",
    "bbregNode.inputs.args = \"--tol1d 1e-3\"\n",
    "bbregNode.inputs.subject_id = reconallFolderName\n",
    "bbregNode.inputs.out_reg_file = str(pathBuildingNode.outputs.dwiPreprocFolder) + '/register.dat'\n"
   ]
  },
  {
   "cell_type": "markdown",
   "metadata": {},
   "source": [
    "### Connect the Nodes"
   ]
  },
  {
   "cell_type": "code",
   "execution_count": 32,
   "metadata": {
    "collapsed": false
   },
   "outputs": [],
   "source": [
    "wf = Workflow(name = 'preprocSub')\n",
    "\n",
    "# Input strings to pathbuilder\n",
    "wf.connect([(inputNode, pathBuildingNode, [('subject_id', 'subject_id'),\n",
    "                                          ('subject_folder', 'subject_folder')])])\n",
    "# T1-Rawdata-path into dataFinder to find T1 DICOMs\n",
    "wf.connect(pathBuildingNode, 'T1RawFolder', t1FinderNode, 'root_paths')\n",
    "# T1 DICOM-paths into recon_all\n",
    "wf.connect(t1FinderNode, 'out_paths', reconallNode, 'T1_files')\n",
    "# aparc+aseg into mriConverter\n",
    "wf.connect(reconallNode, 'aparc_aseg', mriConverter, 'in_file')\n",
    "\n",
    "# dcm2nii\n",
    "wf.connect([(pathBuildingNode, dcm2niiNode, [('dwiRawFolder', 'source_names'),\n",
    "                                            ('dwiPreprocFolder', 'output_dir')])])\n",
    "# B0 extraction\n",
    "wf.connect(dcm2niiNode, 'converted_files', extrctB0Node, 'dwMriFile')\n",
    "\n",
    "# Register b0 into T1 space\n",
    "wf.connect([(extrctB0Node, bbregNode, [('b0', 'source_file')]),\n",
    "           (pathBuildingNode, bbregNode, [('dwiPreprocFolder', 'out_reg_file'),\n",
    "                                         ('subPath', 'subjects_dir')])])"
   ]
  },
  {
   "cell_type": "code",
   "execution_count": 28,
   "metadata": {
    "collapsed": false
   },
   "outputs": [
    {
     "data": {
      "text/plain": [
       "\n",
       "args = --tol1d 1e-3\n",
       "contrast_type = t2\n",
       "environ = {'SUBJECTS_DIR': '/Applications/freesurfer/subjects'}\n",
       "epi_mask = True\n",
       "ignore_exception = False\n",
       "init = fsl\n",
       "init_reg_file = <undefined>\n",
       "intermediate_file = <undefined>\n",
       "out_fsl_file = True\n",
       "out_reg_file = <undefined>\n",
       "reg_frame = <undefined>\n",
       "reg_middle_frame = <undefined>\n",
       "registered_file = <undefined>\n",
       "source_file = <undefined>\n",
       "spm_nifti = <undefined>\n",
       "subject_id = recon_all\n",
       "subjects_dir = /Applications/freesurfer/subjects\n",
       "terminal_output = stream"
      ]
     },
     "execution_count": 28,
     "metadata": {},
     "output_type": "execute_result"
    }
   ],
   "source": [
    "fsl.Info.standard_image(\"MNI152_T1_1mm.nii.gz\")\n",
    "#bbregNode.inputs"
   ]
  },
  {
   "cell_type": "markdown",
   "metadata": {
    "collapsed": true
   },
   "source": [
    "### Plot the workflow graph"
   ]
  },
  {
   "cell_type": "code",
   "execution_count": 20,
   "metadata": {
    "collapsed": false,
    "scrolled": true
   },
   "outputs": [
    {
     "name": "stderr",
     "output_type": "stream",
     "text": [
      "DEBUG:interface:{'DISPLAY': ':1'}\n",
      "INFO:workflow:Converting dotfile: /Users/srothmei/Documents/TVB-Pypeline/notebooks/workflow_graph.dot to png format\n"
     ]
    },
    {
     "data": {
      "image/png": "[encoded data removed]",
      "text/plain": [
       "<IPython.core.display.Image object>"
      ]
     },
     "execution_count": 20,
     "metadata": {},
     "output_type": "execute_result"
    }
   ],
   "source": [
    "wf.write_graph(\"workflow_graph.dot\")\n",
    "from IPython.display import Image\n",
    "Image(filename=\"workflow_graph.dot.png\")\n",
    "#from matplotlib import image as Image\n",
    "#print(wf.write_graph.__doc__)"
   ]
  },
  {
   "cell_type": "code",
   "execution_count": null,
   "metadata": {
    "collapsed": true
   },
   "outputs": [],
   "source": []
  }
 ],
 "metadata": {
  "kernelspec": {
   "display_name": "Python 2",
   "language": "python",
   "name": "python2"
  },
  "language_info": {
   "codemirror_mode": {
    "name": "ipython",
    "version": 2
   },
   "file_extension": ".py",
   "mimetype": "text/x-python",
   "name": "python",
   "nbconvert_exporter": "python",
   "pygments_lexer": "ipython2",
   "version": "2.7.10"
  }
 },
 "nbformat": 4,
 "nbformat_minor": 0
}
