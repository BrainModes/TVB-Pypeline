{
 "cells": [
  {
   "cell_type": "markdown",
   "metadata": {},
   "source": [
    "# Pipeline Preprocessing Workflow"
   ]
  },
  {
   "cell_type": "markdown",
   "metadata": {},
   "source": [
    "This script handles all the preprocessing of the rawdata for structural MRI and also diffusion weighted MRI\n",
    "The tools used in this workflow are <b>FSL</b>, <b>FREESURFER</b> & <b>Dicom2Nii</b>"
   ]
  },
  {
   "cell_type": "markdown",
   "metadata": {},
   "source": [
    "#### Handle the imports"
   ]
  },
  {
   "cell_type": "code",
   "execution_count": 1,
   "metadata": {
    "collapsed": false
   },
   "outputs": [],
   "source": [
    "from nipype import Node, Workflow\n",
    "from nipype.interfaces.utility import IdentityInterface, Function\n",
    "from nipype.interfaces import freesurfer, fsl\n",
    "from nipype.interfaces.dcm2nii import Dcm2nii\n",
    "from nipype.interfaces.io import DataFinder, DataSink\n",
    "from nipype import utils as nputils"
   ]
  },
  {
   "cell_type": "code",
   "execution_count": 2,
   "metadata": {
    "collapsed": true
   },
   "outputs": [],
   "source": [
    "from multiprocessing import cpu_count\n",
    "import numpy as np\n",
    "import logging, os, shutil, re"
   ]
  },
  {
   "cell_type": "markdown",
   "metadata": {},
   "source": [
    "#### Define a function for the preprocessing workflow"
   ]
  },
  {
   "cell_type": "code",
   "execution_count": null,
   "metadata": {
    "collapsed": false
   },
   "outputs": [],
   "source": [
    "# TODO: Lookup function definition in the notebook\n",
    "#def preproc_sub(subject_folder, subject_id):"
   ]
  },
  {
   "cell_type": "markdown",
   "metadata": {},
   "source": [
    "#### Start the logging"
   ]
  },
  {
   "cell_type": "code",
   "execution_count": 34,
   "metadata": {
    "collapsed": false
   },
   "outputs": [],
   "source": [
    "logger = logging.getLogger('workflow')\n",
    "logger.setLevel(logging.DEBUG)\n",
    "# create console handler and set level to debug\n",
    "ch = logging.StreamHandler()\n",
    "ch.setLevel(logging.INFO)\n",
    "# create formatter\n",
    "formatter = logging.Formatter('%(asctime)s - %(levelname)s - %(message)s')\n",
    "# add formatter to ch\n",
    "ch.setFormatter(formatter)\n",
    "# add ch to logger\n",
    "logger.addHandler(ch)"
   ]
  },
  {
   "cell_type": "markdown",
   "metadata": {},
   "source": [
    "#### Define the later function variables in hard-code for debuging"
   ]
  },
  {
   "cell_type": "code",
   "execution_count": 4,
   "metadata": {
    "collapsed": true
   },
   "outputs": [],
   "source": [
    "subject_folder = '/Users/srothmei/Desktop/charite/toronto/'\n",
    "subject_id = 'FR_20120903'"
   ]
  },
  {
   "cell_type": "markdown",
   "metadata": {},
   "source": [
    "### Utility Nodes"
   ]
  },
  {
   "cell_type": "code",
   "execution_count": 5,
   "metadata": {
    "collapsed": false
   },
   "outputs": [],
   "source": [
    "def extractB0(dwMriFile):\n",
    "    # This function is used to extract the b0 image out of the 4D series of diffusion images by splitting the\n",
    "    # series, copying the first image and merging the images together into a single file afterwards\n",
    "    pth, fname, ext = nputils.filemanip.split_filename(dwMriFile)\n",
    "    currPth = os.path.realpath('.')\n",
    "\n",
    "    # Change dir because FSL split takes no input for storing things somewhere else....\n",
    "    os.chdir(pth)    \n",
    "\n",
    "    splitter = fsl.utils.Split(dimension = 't', out_base_name = 'tmp_', in_file = dwMriFile)\n",
    "    res = splitter.run()\n",
    "    b0 = res.outputs.out_files[0]\n",
    "\n",
    "    # Copy the b0 image and rename it accordingly\n",
    "    shutil.copy(b0, 'no_diffusion.nii.gz')\n",
    "    b0 = os.path.abspath('no_diffusion.nii.gz')\n",
    "\n",
    "    # Delete the sliced files...\n",
    "    for f in res.outputs.out_files:\n",
    "        os.remove(f)\n",
    "\n",
    "    # Change back into previous directory\n",
    "    os.chdir(currPth)\n",
    "    \n",
    "    return b0"
   ]
  },
  {
   "cell_type": "markdown",
   "metadata": {},
   "source": [
    "## Set parameters and build variables"
   ]
  },
  {
   "cell_type": "code",
   "execution_count": 6,
   "metadata": {
    "collapsed": false
   },
   "outputs": [],
   "source": [
    "reconallFolderName = 'recon_all' # Define what the output folder of recon-all should be named\n",
    "# Predefine some filenames\n",
    "fileNames = {'wmSurf_lh': 'lh_white.nii.gz',\n",
    "            'wmSurf_rh': 'rh_white.nii.gz',\n",
    "            'wmSurf': 'wm_outline.nii.gz',\n",
    "            'wmoutline2diff_1mm': 'wmoutline2diff_1mm.nii.gz',\n",
    "            'wmoutline2diff': 'wmoutline2diff.nii.gz',\n",
    "            'wmparc2diff_1mm': 'wmparc2diff_1mm.nii.gz',\n",
    "            'aparc+aseg2diff_1mm':' aparc+aseg_1mm.nii.gz',\n",
    "            'aparc+aseg2diff': 'aparc+aseg2diff.nii.gz',\n",
    "            'lowresWmMask': 'wmmask.nii.gz',\n",
    "            'highresWmMask': 'wmmask_1mm.nii.gz'}\n",
    "\n",
    "def fileNameBuilder(path, fname):\n",
    "    return path + fname\n",
    "\n",
    "def pathBuilder(subject_folder, subject_id, ):\n",
    "    subPath = subject_folder + '/' + subject_id # Build full path to subject folder\n",
    "    \n",
    "    #Path definitions\n",
    "    dwiPreprocFolder = subPath + '/diff_processed'\n",
    "    trackingFolder = subPath + '/tractography'\n",
    "    calc_images = subPath + '/calc_images'\n",
    "    \n",
    "    # Make folders\n",
    "    os.makedirs(dwiPreprocFolder)\n",
    "    os.makedirs(trackingFolder)\n",
    "    os.makedirs(calc_images)\n",
    "    \n",
    "    # RawData Structure\n",
    "    rawdataFolder = subPath + '/RAWDATA' # Define the path to the folder holding the rawdata dicom-files\n",
    "    T1RawFolder = rawdataFolder + '/MPRAGE/' # The T1 rawdata folder\n",
    "    dwiRawFolder = rawdataFolder + '/DTI' # The dwMRI rawdata folder\n",
    "    fmriRawFolder = rawdataFolder + '/BOLD-EPI/' # The fMRI rawdata folder\n",
    "    \n",
    "    return subPath, rawdataFolder, T1RawFolder, dwiRawFolder, fmriRawFolder, dwiPreprocFolder, trackingFolder, bbRegFile\n",
    "\n",
    "pathBuildingNode = Node(Function(input_names = ['subject_folder', 'subject_id'],\n",
    "                                output_names = ['subPath', 'rawdataFolder', 'T1RawFolder',\n",
    "                                                'dwiRawFolder', 'fmriRawFolder', \n",
    "                                                'dwiPreprocFolder', 'trackingFolder', 'calc_images'],\n",
    "                                function = pathBuilder),\n",
    "                        name='pathBuilder')"
   ]
  },
  {
   "cell_type": "markdown",
   "metadata": {},
   "source": [
    "### Define Inputnode and Outputnode"
   ]
  },
  {
   "cell_type": "code",
   "execution_count": 7,
   "metadata": {
    "collapsed": false
   },
   "outputs": [],
   "source": [
    "inputNode = Node(IdentityInterface(fields=['subject_id', 'subject_folder']), mandatory_inputs=True, name='input')\n",
    "inputNode.inputs.subject_id = subject_id\n",
    "inputNode.inputs.subject_folder = subject_folder\n",
    "\n",
    "# TODO: Define Output node\n",
    "mergedOutputs = pathBuildingNode.outputs.trait_names()\n",
    "mergedOutputs.extend(fileNames.keys())\n",
    "\n",
    "outputNode = Node(IdentityInterface(fields = mergedOutputs), mandatory_inputs = False, name = 'output')"
   ]
  },
  {
   "cell_type": "code",
   "execution_count": 8,
   "metadata": {
    "collapsed": false
   },
   "outputs": [
    {
     "name": "stderr",
     "output_type": "stream",
     "text": [
      "2015-11-06 08:53:27,395 - INFO - Start the preprocessing for subject FR_20120903\n",
      "INFO:interface:Start the preprocessing for subject FR_20120903\n"
     ]
    }
   ],
   "source": [
    "logger.info('Start the preprocessing for subject ' + subject_id)"
   ]
  },
  {
   "cell_type": "markdown",
   "metadata": {},
   "source": [
    "### Structural Data (T1) preprocessing"
   ]
  },
  {
   "cell_type": "code",
   "execution_count": 9,
   "metadata": {
    "collapsed": false
   },
   "outputs": [
    {
     "name": "stderr",
     "output_type": "stream",
     "text": [
      "2015-11-06 08:53:28,844 - INFO - Start recon_all\n",
      "INFO:interface:Start recon_all\n"
     ]
    }
   ],
   "source": [
    "logger.info('Start recon_all')\n",
    "\n",
    "# Setup a datafinder to find the paths to the specific DICOM files\n",
    "t1FinderNode = Node(DataFinder(), name = 't1Finder')\n",
    "t1FinderNode.inputs.match_regex = '.*\\.dcm'\n",
    "#df = DataFinder(root_paths = T1RawFolder, match_regex = '.*\\.dcm')\n",
    "#firstFile = df.run().outputs.out_paths[0]\n",
    "\n",
    "# Set recon-all parameters\n",
    "reconallNode = Node(freesurfer.preprocess.ReconAll(), name = 'reconall')\n",
    "#reconallNode.inputs.T1_files = firstFile\n",
    "#reconallNode.inputs.subjects_dir = subPath\n",
    "reconallNode.inputs.subject_id = reconallFolderName\n",
    "reconallNode.inputs.directive = 'all'\n",
    "reconallNode.inputs.openmp = cpu_count()\n",
    "\n",
    "# Convert the T1 mgz image to nifti format for later usage\n",
    "mriConverter = Node(freesurfer.preprocess.MRIConvert(), name = 'convertAparcAseg')\n",
    "#convertT1.inputs.out_file = subPath + reconallFolderName + '/mri/aparc+aseg.nii.gz'\n",
    "mriConverter.inputs.out_type = 'niigz'\n",
    "mriConverter.inputs.out_orientation = 'RAS'"
   ]
  },
  {
   "cell_type": "markdown",
   "metadata": {},
   "source": [
    "### Diffusion Data (dwMRI) preprocessing"
   ]
  },
  {
   "cell_type": "code",
   "execution_count": 10,
   "metadata": {
    "collapsed": false
   },
   "outputs": [
    {
     "name": "stderr",
     "output_type": "stream",
     "text": [
      "2015-11-06 08:53:30,118 - INFO - Start dt_recon\n",
      "INFO:interface:Start dt_recon\n"
     ]
    }
   ],
   "source": [
    "logger.info('Start dt_recon')\n",
    "\n",
    "# First extract the diffusion vectors and the pulse intensity (bvec and bval)\n",
    "# Use dcm2nii for this task\n",
    "#dwiFinderNode = t1FinderNode.clone('dwiFinder')\n",
    "\n",
    "dcm2niiNode = Node(Dcm2nii(), name = 'dcm2niiAndBvecs')\n",
    "dcm2niiNode.inputs.gzip_output = True\n",
    "dcm2niiNode.inputs.date_in_filename = False\n",
    "dcm2niiNode.inputs.events_in_filename = False\n",
    "\n",
    "\n",
    "# Extract the first image of the DTI series i.e. the b0 image\n",
    "extrctB0Node = Node(Function(input_names = ['dwMriFile'], output_names = ['b0'],\n",
    "                             function = extractB0), name = 'Extract_b0')\n",
    "\n",
    "\n",
    "# Perform the registration between subject T1 space and dwMRI space\n",
    "bbregNode = Node(freesurfer.preprocess.BBRegister(), name = 'BBRegister')\n",
    "bbregNode.inputs.init = \"fsl\"\n",
    "bbregNode.inputs.contrast_type = \"t2\"\n",
    "bbregNode.inputs.epi_mask = True\n",
    "bbregNode.inputs.out_fsl_file = True\n",
    "bbregNode.inputs.args = \"--tol1d 1e-3\"\n",
    "bbregNode.inputs.subject_id = reconallFolderName"
   ]
  },
  {
   "cell_type": "markdown",
   "metadata": {},
   "source": [
    "### Surface2Vol"
   ]
  },
  {
   "cell_type": "code",
   "execution_count": 11,
   "metadata": {
    "collapsed": false
   },
   "outputs": [
    {
     "name": "stderr",
     "output_type": "stream",
     "text": [
      "2015-11-06 08:53:31,294 - INFO - Start wm-surface transformation\n",
      "INFO:interface:Start wm-surface transformation\n"
     ]
    }
   ],
   "source": [
    "logger.info('Start wm-surface transformation')\n",
    "\n",
    "# Transform Left Hemisphere\n",
    "lhWhiteFilename = 'lh_white.nii.gz'\n",
    "surf2volNode_lh = Node(freesurfer.utils.Surface2VolTransform(), name = 'surf2vol_lh')\n",
    "surf2volNode_lh.inputs.hemi = 'lh'\n",
    "surf2volNode_lh.inputs.mkmask = True\n",
    "surf2volNode_lh.inputs.subject_id = reconallFolderName\n",
    "\n",
    "# Transform right hemisphere\n",
    "surf2volNode_rh = surf2volNode_lh.clone('surf2vol_rh')\n",
    "surf2volNode_rh.inputs.hemi = 'rh'\n",
    "\n",
    "# Merge the hemispheres\n",
    "mergeHemisNode = Node(fsl.BinaryMaths(), name = 'mergeHemis')\n",
    "mergeHemisNode.inputs.operation = 'add'\n",
    "mergeHemisNode.inputs.output_type = 'NIFTI_GZ'"
   ]
  },
  {
   "cell_type": "markdown",
   "metadata": {},
   "source": [
    "### Registration"
   ]
  },
  {
   "cell_type": "code",
   "execution_count": 12,
   "metadata": {
    "collapsed": false
   },
   "outputs": [
    {
     "name": "stderr",
     "output_type": "stream",
     "text": [
      "2015-11-06 08:53:32,587 - INFO - Start inter-image-space registration\n",
      "INFO:interface:Start inter-image-space registration\n"
     ]
    }
   ],
   "source": [
    "logger.info('Start inter-image-space registration')\n",
    "\n",
    "# Rotate high-res (1mm) WM-border to match dwi data w/o resampling\n",
    "applyReg_anat2diff_1mm = Node(freesurfer.ApplyVolTransform(), name = 'wmoutline2diff_1mm')\n",
    "applyReg_anat2diff_1mm.inputs.inverse = True\n",
    "applyReg_anat2diff_1mm.inputs.interp = 'nearest'\n",
    "applyReg_anat2diff_1mm.inputs.no_resample = True\n",
    "applyReg_anat2diff_1mm.inputs.args = '--no-save-reg'\n",
    "\n",
    "# Rotate high-res (1mm) WM-border to match dwi data with resampling\n",
    "applyReg_anat2diff = applyReg_anat2diff_1mm.clone('wmoutline2diff')\n",
    "applyReg_anat2diff.inputs.no_resample = False\n",
    "applyReg_anat2diff.inputs.interp = 'trilin'\n",
    "# Filter out low voxels produced by trilin. interp.\n",
    "thresholdNode = Node(fsl.maths.Threshold(), name = 'remove_interp_residuals')\n",
    "thresholdNode.inputs.thresh = 0.1\n",
    "thresholdNode.inputs.output_type = 'NIFTI_GZ'\n",
    "\n",
    "# Binarize\n",
    "binarizeNode = Node(fsl.maths.UnaryMaths(), name = 'binarize')\n",
    "binarizeNode.inputs.operation = 'bin'\n",
    "binarizeNode.inputs.output_type = 'NIFTI_GZ'\n",
    "\n",
    "# Rotate high-res (1mm) wmparc to match dwi data w/o resampling\n",
    "applyReg_wmparc2diff_1mm = applyReg_anat2diff_1mm.clone('wmparc2diff_1mm')\n",
    "\n",
    "# Rotate high-res (1mm) aparc+aseg to match dwi data w/o resampling\n",
    "applyReg_aparc2diff_1mm = applyReg_anat2diff_1mm.clone('aparc2diff_1mm')\n",
    "\n",
    "# Rotate high-res (1mm) aparc+aseg to match dwi data with resampling\n",
    "applyReg_aparc2diff = applyReg_anat2diff.clone('aparc2diff')\n",
    "applyReg_aparc2diff.inputs.interp = 'nearest'"
   ]
  },
  {
   "cell_type": "markdown",
   "metadata": {},
   "source": [
    "### Create Whitematter Brainmasks"
   ]
  },
  {
   "cell_type": "code",
   "execution_count": 13,
   "metadata": {
    "collapsed": false
   },
   "outputs": [
    {
     "name": "stderr",
     "output_type": "stream",
     "text": [
      "2015-11-06 08:53:34,113 - INFO - Start Creating Brainmasks\n",
      "INFO:interface:Start Creating Brainmasks\n"
     ]
    }
   ],
   "source": [
    "logger.info('Start Creating Brainmasks')\n",
    "\n",
    "def extractWhitematter(input_image, wmoutline_image, output_image):\n",
    "    thresHolder = fsl.MultiImageMaths(input_file = input_image, out_file = output_image)\n",
    "    thresHolder.inputs.op_string = '-uthr 41 -thr 41'\n",
    "    thresHolder.run()\n",
    "    \n",
    "    thresHolder.inputs.input_file = output_image\n",
    "    thresHolder.inputs.op_string = '-uthr 2 -thr 2'\n",
    "    thresHolder.run()\n",
    "    \n",
    "    thresHolder.inputs.op_string = '-uthr 255 -thr 251'\n",
    "    thresHolder.run()\n",
    "    \n",
    "    # Combine and binarize\n",
    "    combinizer = fsl.BinaryMaths(operation = 'add', in_file = output_image, \n",
    "                                 operand_file = wmoutline_image, out_file = output_image)\n",
    "    binarizer = fsl.UnaryMaths(operation = 'bin', in_file = output_image, out_file = output_image)\n",
    "    \n",
    "    return output_image\n",
    "\n",
    "# Create the Nodes\n",
    "wmmask_lowres = Node(Function(input_names = ['input_image', 'wmoutline_image', 'output_image'],\n",
    "                             output_names = ['output_image'],\n",
    "                             function = extractWhitematter), name = 'extract_WM_lowres')\n",
    "\n",
    "wmmask_highres = wmmask_lowres.clone('extract_WM_highres')"
   ]
  },
  {
   "cell_type": "markdown",
   "metadata": {},
   "source": [
    "### Connect the Nodes"
   ]
  },
  {
   "cell_type": "code",
   "execution_count": 23,
   "metadata": {
    "collapsed": false
   },
   "outputs": [
    {
     "name": "stderr",
     "output_type": "stream",
     "text": [
      "2015-11-06 09:14:26,649 - DEBUG - (preprocSub.input, preprocSub.pathBuilder): No edge data\n",
      "DEBUG:workflow:(preprocSub.input, preprocSub.pathBuilder): No edge data\n",
      "2015-11-06 09:14:26,650 - DEBUG - (preprocSub.input, preprocSub.pathBuilder): new edge data: {'connect': [('subject_id', 'subject_id'), ('subject_folder', 'subject_folder')]}\n",
      "DEBUG:workflow:(preprocSub.input, preprocSub.pathBuilder): new edge data: {'connect': [('subject_id', 'subject_id'), ('subject_folder', 'subject_folder')]}\n",
      "2015-11-06 09:14:26,652 - DEBUG - (preprocSub.pathBuilder, preprocSub.t1Finder): No edge data\n",
      "DEBUG:workflow:(preprocSub.pathBuilder, preprocSub.t1Finder): No edge data\n",
      "2015-11-06 09:14:26,653 - DEBUG - (preprocSub.pathBuilder, preprocSub.t1Finder): new edge data: {'connect': [('T1RawFolder', 'root_paths')]}\n",
      "DEBUG:workflow:(preprocSub.pathBuilder, preprocSub.t1Finder): new edge data: {'connect': [('T1RawFolder', 'root_paths')]}\n",
      "2015-11-06 09:14:26,654 - DEBUG - (preprocSub.t1Finder, preprocSub.reconall): No edge data\n",
      "DEBUG:workflow:(preprocSub.t1Finder, preprocSub.reconall): No edge data\n",
      "2015-11-06 09:14:26,656 - DEBUG - (preprocSub.t1Finder, preprocSub.reconall): new edge data: {'connect': [('out_paths', 'T1_files')]}\n",
      "DEBUG:workflow:(preprocSub.t1Finder, preprocSub.reconall): new edge data: {'connect': [('out_paths', 'T1_files')]}\n",
      "2015-11-06 09:14:26,657 - DEBUG - (preprocSub.reconall, preprocSub.convertAparcAseg): No edge data\n",
      "DEBUG:workflow:(preprocSub.reconall, preprocSub.convertAparcAseg): No edge data\n",
      "2015-11-06 09:14:26,659 - DEBUG - (preprocSub.reconall, preprocSub.convertAparcAseg): new edge data: {'connect': [('aparc_aseg', 'in_file')]}\n",
      "DEBUG:workflow:(preprocSub.reconall, preprocSub.convertAparcAseg): new edge data: {'connect': [('aparc_aseg', 'in_file')]}\n",
      "2015-11-06 09:14:26,661 - DEBUG - (preprocSub.pathBuilder, preprocSub.dcm2niiAndBvecs): No edge data\n",
      "DEBUG:workflow:(preprocSub.pathBuilder, preprocSub.dcm2niiAndBvecs): No edge data\n",
      "2015-11-06 09:14:26,663 - DEBUG - (preprocSub.pathBuilder, preprocSub.dcm2niiAndBvecs): new edge data: {'connect': [('dwiRawFolder', 'source_names'), ('dwiPreprocFolder', 'output_dir')]}\n",
      "DEBUG:workflow:(preprocSub.pathBuilder, preprocSub.dcm2niiAndBvecs): new edge data: {'connect': [('dwiRawFolder', 'source_names'), ('dwiPreprocFolder', 'output_dir')]}\n",
      "2015-11-06 09:14:26,665 - DEBUG - (preprocSub.dcm2niiAndBvecs, preprocSub.Extract_b0): No edge data\n",
      "DEBUG:workflow:(preprocSub.dcm2niiAndBvecs, preprocSub.Extract_b0): No edge data\n",
      "2015-11-06 09:14:26,666 - DEBUG - (preprocSub.dcm2niiAndBvecs, preprocSub.Extract_b0): new edge data: {'connect': [('converted_files', 'dwMriFile')]}\n",
      "DEBUG:workflow:(preprocSub.dcm2niiAndBvecs, preprocSub.Extract_b0): new edge data: {'connect': [('converted_files', 'dwMriFile')]}\n",
      "2015-11-06 09:14:26,667 - DEBUG - (preprocSub.Extract_b0, preprocSub.BBRegister): No edge data\n",
      "DEBUG:workflow:(preprocSub.Extract_b0, preprocSub.BBRegister): No edge data\n",
      "2015-11-06 09:14:26,669 - DEBUG - (preprocSub.Extract_b0, preprocSub.BBRegister): new edge data: {'connect': [('b0', 'source_file')]}\n",
      "DEBUG:workflow:(preprocSub.Extract_b0, preprocSub.BBRegister): new edge data: {'connect': [('b0', 'source_file')]}\n",
      "2015-11-06 09:14:26,669 - DEBUG - (preprocSub.pathBuilder, preprocSub.BBRegister): No edge data\n",
      "DEBUG:workflow:(preprocSub.pathBuilder, preprocSub.BBRegister): No edge data\n",
      "2015-11-06 09:14:26,670 - DEBUG - (preprocSub.pathBuilder, preprocSub.BBRegister): new edge data: {'connect': [('subPath', 'subjects_dir')]}\n",
      "DEBUG:workflow:(preprocSub.pathBuilder, preprocSub.BBRegister): new edge data: {'connect': [('subPath', 'subjects_dir')]}\n",
      "2015-11-06 09:14:26,673 - DEBUG - (preprocSub.pathBuilder, preprocSub.surf2vol_lh): No edge data\n",
      "DEBUG:workflow:(preprocSub.pathBuilder, preprocSub.surf2vol_lh): No edge data\n",
      "2015-11-06 09:14:26,674 - DEBUG - (preprocSub.pathBuilder, preprocSub.surf2vol_lh): new edge data: {'connect': [('subPath', 'subjects_dir'), (('calc_images', 'Vdef fileNameBuilder(path, fname):\\\\u000a    return path + fname\\\\u000a\\n.', ('lh_white.nii.gz',)), 'transformed_file')]}\n",
      "DEBUG:workflow:(preprocSub.pathBuilder, preprocSub.surf2vol_lh): new edge data: {'connect': [('subPath', 'subjects_dir'), (('calc_images', 'Vdef fileNameBuilder(path, fname):\\\\u000a    return path + fname\\\\u000a\\n.', ('lh_white.nii.gz',)), 'transformed_file')]}\n",
      "2015-11-06 09:14:26,675 - DEBUG - (preprocSub.reconall, preprocSub.surf2vol_lh): No edge data\n",
      "DEBUG:workflow:(preprocSub.reconall, preprocSub.surf2vol_lh): No edge data\n",
      "2015-11-06 09:14:26,676 - DEBUG - (preprocSub.reconall, preprocSub.surf2vol_lh): new edge data: {'connect': [('T1', 'template_file')]}\n",
      "DEBUG:workflow:(preprocSub.reconall, preprocSub.surf2vol_lh): new edge data: {'connect': [('T1', 'template_file')]}\n",
      "2015-11-06 09:14:26,679 - DEBUG - (preprocSub.pathBuilder, preprocSub.surf2vol_rh): No edge data\n",
      "DEBUG:workflow:(preprocSub.pathBuilder, preprocSub.surf2vol_rh): No edge data\n",
      "2015-11-06 09:14:26,680 - DEBUG - (preprocSub.pathBuilder, preprocSub.surf2vol_rh): new edge data: {'connect': [('subPath', 'subjects_dir'), (('calc_images', 'Vdef fileNameBuilder(path, fname):\\\\u000a    return path + fname\\\\u000a\\n.', ('rh_white.nii.gz',)), 'transformed_file')]}\n",
      "DEBUG:workflow:(preprocSub.pathBuilder, preprocSub.surf2vol_rh): new edge data: {'connect': [('subPath', 'subjects_dir'), (('calc_images', 'Vdef fileNameBuilder(path, fname):\\\\u000a    return path + fname\\\\u000a\\n.', ('rh_white.nii.gz',)), 'transformed_file')]}\n",
      "2015-11-06 09:14:26,681 - DEBUG - (preprocSub.reconall, preprocSub.surf2vol_rh): No edge data\n",
      "DEBUG:workflow:(preprocSub.reconall, preprocSub.surf2vol_rh): No edge data\n",
      "2015-11-06 09:14:26,682 - DEBUG - (preprocSub.reconall, preprocSub.surf2vol_rh): new edge data: {'connect': [('T1', 'template_file')]}\n",
      "DEBUG:workflow:(preprocSub.reconall, preprocSub.surf2vol_rh): new edge data: {'connect': [('T1', 'template_file')]}\n",
      "2015-11-06 09:14:26,684 - DEBUG - (preprocSub.surf2vol_lh, preprocSub.mergeHemis): No edge data\n",
      "DEBUG:workflow:(preprocSub.surf2vol_lh, preprocSub.mergeHemis): No edge data\n",
      "2015-11-06 09:14:26,685 - DEBUG - (preprocSub.surf2vol_lh, preprocSub.mergeHemis): new edge data: {'connect': [('transformed_file', 'in_file')]}\n",
      "DEBUG:workflow:(preprocSub.surf2vol_lh, preprocSub.mergeHemis): new edge data: {'connect': [('transformed_file', 'in_file')]}\n",
      "2015-11-06 09:14:26,687 - DEBUG - (preprocSub.surf2vol_rh, preprocSub.mergeHemis): No edge data\n",
      "DEBUG:workflow:(preprocSub.surf2vol_rh, preprocSub.mergeHemis): No edge data\n",
      "2015-11-06 09:14:26,688 - DEBUG - (preprocSub.surf2vol_rh, preprocSub.mergeHemis): new edge data: {'connect': [('transformed_file', 'operand_file')]}\n",
      "DEBUG:workflow:(preprocSub.surf2vol_rh, preprocSub.mergeHemis): new edge data: {'connect': [('transformed_file', 'operand_file')]}\n",
      "2015-11-06 09:14:26,689 - DEBUG - (preprocSub.pathBuilder, preprocSub.mergeHemis): No edge data\n",
      "DEBUG:workflow:(preprocSub.pathBuilder, preprocSub.mergeHemis): No edge data\n",
      "2015-11-06 09:14:26,690 - DEBUG - (preprocSub.pathBuilder, preprocSub.mergeHemis): new edge data: {'connect': [(('calc_images', 'Vdef fileNameBuilder(path, fname):\\\\u000a    return path + fname\\\\u000a\\n.', ('wm_outline.nii.gz',)), 'out_file')]}\n",
      "DEBUG:workflow:(preprocSub.pathBuilder, preprocSub.mergeHemis): new edge data: {'connect': [(('calc_images', 'Vdef fileNameBuilder(path, fname):\\\\u000a    return path + fname\\\\u000a\\n.', ('wm_outline.nii.gz',)), 'out_file')]}\n",
      "2015-11-06 09:14:26,693 - DEBUG - (preprocSub.Extract_b0, preprocSub.wmoutline2diff_1mm): No edge data\n",
      "DEBUG:workflow:(preprocSub.Extract_b0, preprocSub.wmoutline2diff_1mm): No edge data\n",
      "2015-11-06 09:14:26,694 - DEBUG - (preprocSub.Extract_b0, preprocSub.wmoutline2diff_1mm): new edge data: {'connect': [('b0', 'source_file')]}\n",
      "DEBUG:workflow:(preprocSub.Extract_b0, preprocSub.wmoutline2diff_1mm): new edge data: {'connect': [('b0', 'source_file')]}\n",
      "2015-11-06 09:14:26,695 - DEBUG - (preprocSub.mergeHemis, preprocSub.wmoutline2diff_1mm): No edge data\n",
      "DEBUG:workflow:(preprocSub.mergeHemis, preprocSub.wmoutline2diff_1mm): No edge data\n",
      "2015-11-06 09:14:26,696 - DEBUG - (preprocSub.mergeHemis, preprocSub.wmoutline2diff_1mm): new edge data: {'connect': [('out_file', 'target_file')]}\n",
      "DEBUG:workflow:(preprocSub.mergeHemis, preprocSub.wmoutline2diff_1mm): new edge data: {'connect': [('out_file', 'target_file')]}\n",
      "2015-11-06 09:14:26,697 - DEBUG - (preprocSub.BBRegister, preprocSub.wmoutline2diff_1mm): No edge data\n",
      "DEBUG:workflow:(preprocSub.BBRegister, preprocSub.wmoutline2diff_1mm): No edge data\n",
      "2015-11-06 09:14:26,698 - DEBUG - (preprocSub.BBRegister, preprocSub.wmoutline2diff_1mm): new edge data: {'connect': [('out_reg_file', 'reg_file')]}\n",
      "DEBUG:workflow:(preprocSub.BBRegister, preprocSub.wmoutline2diff_1mm): new edge data: {'connect': [('out_reg_file', 'reg_file')]}\n",
      "2015-11-06 09:14:26,699 - DEBUG - (preprocSub.pathBuilder, preprocSub.wmoutline2diff_1mm): No edge data\n",
      "DEBUG:workflow:(preprocSub.pathBuilder, preprocSub.wmoutline2diff_1mm): No edge data\n",
      "2015-11-06 09:14:26,700 - DEBUG - (preprocSub.pathBuilder, preprocSub.wmoutline2diff_1mm): new edge data: {'connect': [(('calc_images', 'Vdef fileNameBuilder(path, fname):\\\\u000a    return path + fname\\\\u000a\\n.', ('wmoutline2diff_1mm.nii.gz',)), 'transformed_file')]}\n",
      "DEBUG:workflow:(preprocSub.pathBuilder, preprocSub.wmoutline2diff_1mm): new edge data: {'connect': [(('calc_images', 'Vdef fileNameBuilder(path, fname):\\\\u000a    return path + fname\\\\u000a\\n.', ('wmoutline2diff_1mm.nii.gz',)), 'transformed_file')]}\n",
      "2015-11-06 09:14:26,702 - DEBUG - (preprocSub.Extract_b0, preprocSub.wmoutline2diff): No edge data\n",
      "DEBUG:workflow:(preprocSub.Extract_b0, preprocSub.wmoutline2diff): No edge data\n",
      "2015-11-06 09:14:26,703 - DEBUG - (preprocSub.Extract_b0, preprocSub.wmoutline2diff): new edge data: {'connect': [('b0', 'source_file')]}\n",
      "DEBUG:workflow:(preprocSub.Extract_b0, preprocSub.wmoutline2diff): new edge data: {'connect': [('b0', 'source_file')]}\n",
      "2015-11-06 09:14:26,704 - DEBUG - (preprocSub.mergeHemis, preprocSub.wmoutline2diff): No edge data\n",
      "DEBUG:workflow:(preprocSub.mergeHemis, preprocSub.wmoutline2diff): No edge data\n",
      "2015-11-06 09:14:26,706 - DEBUG - (preprocSub.mergeHemis, preprocSub.wmoutline2diff): new edge data: {'connect': [('out_file', 'target_file')]}\n",
      "DEBUG:workflow:(preprocSub.mergeHemis, preprocSub.wmoutline2diff): new edge data: {'connect': [('out_file', 'target_file')]}\n",
      "2015-11-06 09:14:26,707 - DEBUG - (preprocSub.BBRegister, preprocSub.wmoutline2diff): No edge data\n",
      "DEBUG:workflow:(preprocSub.BBRegister, preprocSub.wmoutline2diff): No edge data\n",
      "2015-11-06 09:14:26,709 - DEBUG - (preprocSub.BBRegister, preprocSub.wmoutline2diff): new edge data: {'connect': [('out_reg_file', 'reg_file')]}\n",
      "DEBUG:workflow:(preprocSub.BBRegister, preprocSub.wmoutline2diff): new edge data: {'connect': [('out_reg_file', 'reg_file')]}\n",
      "2015-11-06 09:14:26,710 - DEBUG - (preprocSub.pathBuilder, preprocSub.wmoutline2diff): No edge data\n",
      "DEBUG:workflow:(preprocSub.pathBuilder, preprocSub.wmoutline2diff): No edge data\n",
      "2015-11-06 09:14:26,711 - DEBUG - (preprocSub.pathBuilder, preprocSub.wmoutline2diff): new edge data: {'connect': [(('calc_images', 'Vdef fileNameBuilder(path, fname):\\\\u000a    return path + fname\\\\u000a\\n.', ('wmoutline2diff.nii.gz',)), 'transformed_file')]}\n",
      "DEBUG:workflow:(preprocSub.pathBuilder, preprocSub.wmoutline2diff): new edge data: {'connect': [(('calc_images', 'Vdef fileNameBuilder(path, fname):\\\\u000a    return path + fname\\\\u000a\\n.', ('wmoutline2diff.nii.gz',)), 'transformed_file')]}\n",
      "2015-11-06 09:14:26,712 - DEBUG - (preprocSub.wmoutline2diff, preprocSub.remove_interp_residuals): No edge data\n",
      "DEBUG:workflow:(preprocSub.wmoutline2diff, preprocSub.remove_interp_residuals): No edge data\n",
      "2015-11-06 09:14:26,713 - DEBUG - (preprocSub.wmoutline2diff, preprocSub.remove_interp_residuals): new edge data: {'connect': [('transformed_file', 'in_file'), ('transformed_file', 'out_file')]}\n",
      "DEBUG:workflow:(preprocSub.wmoutline2diff, preprocSub.remove_interp_residuals): new edge data: {'connect': [('transformed_file', 'in_file'), ('transformed_file', 'out_file')]}\n",
      "2015-11-06 09:14:26,714 - DEBUG - (preprocSub.remove_interp_residuals, preprocSub.binarize): No edge data\n",
      "DEBUG:workflow:(preprocSub.remove_interp_residuals, preprocSub.binarize): No edge data\n",
      "2015-11-06 09:14:26,715 - DEBUG - (preprocSub.remove_interp_residuals, preprocSub.binarize): new edge data: {'connect': [('out_file', 'in_file'), ('out_file', 'out_file')]}\n",
      "DEBUG:workflow:(preprocSub.remove_interp_residuals, preprocSub.binarize): new edge data: {'connect': [('out_file', 'in_file'), ('out_file', 'out_file')]}\n",
      "2015-11-06 09:14:26,718 - DEBUG - (preprocSub.Extract_b0, preprocSub.wmparc2diff_1mm): No edge data\n",
      "DEBUG:workflow:(preprocSub.Extract_b0, preprocSub.wmparc2diff_1mm): No edge data\n",
      "2015-11-06 09:14:26,719 - DEBUG - (preprocSub.Extract_b0, preprocSub.wmparc2diff_1mm): new edge data: {'connect': [('b0', 'source_file')]}\n",
      "DEBUG:workflow:(preprocSub.Extract_b0, preprocSub.wmparc2diff_1mm): new edge data: {'connect': [('b0', 'source_file')]}\n",
      "2015-11-06 09:14:26,720 - DEBUG - (preprocSub.reconall, preprocSub.wmparc2diff_1mm): No edge data\n",
      "DEBUG:workflow:(preprocSub.reconall, preprocSub.wmparc2diff_1mm): No edge data\n",
      "2015-11-06 09:14:26,721 - DEBUG - (preprocSub.reconall, preprocSub.wmparc2diff_1mm): new edge data: {'connect': [('wmparc', 'target_file')]}\n",
      "DEBUG:workflow:(preprocSub.reconall, preprocSub.wmparc2diff_1mm): new edge data: {'connect': [('wmparc', 'target_file')]}\n",
      "2015-11-06 09:14:26,723 - DEBUG - (preprocSub.BBRegister, preprocSub.wmparc2diff_1mm): No edge data\n",
      "DEBUG:workflow:(preprocSub.BBRegister, preprocSub.wmparc2diff_1mm): No edge data\n",
      "2015-11-06 09:14:26,724 - DEBUG - (preprocSub.BBRegister, preprocSub.wmparc2diff_1mm): new edge data: {'connect': [('out_reg_file', 'reg_file')]}\n",
      "DEBUG:workflow:(preprocSub.BBRegister, preprocSub.wmparc2diff_1mm): new edge data: {'connect': [('out_reg_file', 'reg_file')]}\n",
      "2015-11-06 09:14:26,725 - DEBUG - (preprocSub.pathBuilder, preprocSub.wmparc2diff_1mm): No edge data\n",
      "DEBUG:workflow:(preprocSub.pathBuilder, preprocSub.wmparc2diff_1mm): No edge data\n",
      "2015-11-06 09:14:26,726 - DEBUG - (preprocSub.pathBuilder, preprocSub.wmparc2diff_1mm): new edge data: {'connect': [(('calc_images', 'Vdef fileNameBuilder(path, fname):\\\\u000a    return path + fname\\\\u000a\\n.', ('wmparc2diff_1mm.nii.gz',)), 'transformed_file')]}\n",
      "DEBUG:workflow:(preprocSub.pathBuilder, preprocSub.wmparc2diff_1mm): new edge data: {'connect': [(('calc_images', 'Vdef fileNameBuilder(path, fname):\\\\u000a    return path + fname\\\\u000a\\n.', ('wmparc2diff_1mm.nii.gz',)), 'transformed_file')]}\n",
      "2015-11-06 09:14:26,729 - DEBUG - (preprocSub.Extract_b0, preprocSub.aparc2diff_1mm): No edge data\n",
      "DEBUG:workflow:(preprocSub.Extract_b0, preprocSub.aparc2diff_1mm): No edge data\n",
      "2015-11-06 09:14:26,731 - DEBUG - (preprocSub.Extract_b0, preprocSub.aparc2diff_1mm): new edge data: {'connect': [('b0', 'source_file')]}\n",
      "DEBUG:workflow:(preprocSub.Extract_b0, preprocSub.aparc2diff_1mm): new edge data: {'connect': [('b0', 'source_file')]}\n",
      "2015-11-06 09:14:26,732 - DEBUG - (preprocSub.reconall, preprocSub.aparc2diff_1mm): No edge data\n",
      "DEBUG:workflow:(preprocSub.reconall, preprocSub.aparc2diff_1mm): No edge data\n",
      "2015-11-06 09:14:26,734 - DEBUG - (preprocSub.reconall, preprocSub.aparc2diff_1mm): new edge data: {'connect': [('aparc_aseg', 'target_file')]}\n",
      "DEBUG:workflow:(preprocSub.reconall, preprocSub.aparc2diff_1mm): new edge data: {'connect': [('aparc_aseg', 'target_file')]}\n",
      "2015-11-06 09:14:26,736 - DEBUG - (preprocSub.BBRegister, preprocSub.aparc2diff_1mm): No edge data\n",
      "DEBUG:workflow:(preprocSub.BBRegister, preprocSub.aparc2diff_1mm): No edge data\n",
      "2015-11-06 09:14:26,737 - DEBUG - (preprocSub.BBRegister, preprocSub.aparc2diff_1mm): new edge data: {'connect': [('out_reg_file', 'reg_file')]}\n",
      "DEBUG:workflow:(preprocSub.BBRegister, preprocSub.aparc2diff_1mm): new edge data: {'connect': [('out_reg_file', 'reg_file')]}\n",
      "2015-11-06 09:14:26,738 - DEBUG - (preprocSub.pathBuilder, preprocSub.aparc2diff_1mm): No edge data\n",
      "DEBUG:workflow:(preprocSub.pathBuilder, preprocSub.aparc2diff_1mm): No edge data\n",
      "2015-11-06 09:14:26,739 - DEBUG - (preprocSub.pathBuilder, preprocSub.aparc2diff_1mm): new edge data: {'connect': [(('calc_images', 'Vdef fileNameBuilder(path, fname):\\\\u000a    return path + fname\\\\u000a\\n.', (' aparc+aseg_1mm.nii.gz',)), 'transformed_file')]}\n",
      "DEBUG:workflow:(preprocSub.pathBuilder, preprocSub.aparc2diff_1mm): new edge data: {'connect': [(('calc_images', 'Vdef fileNameBuilder(path, fname):\\\\u000a    return path + fname\\\\u000a\\n.', (' aparc+aseg_1mm.nii.gz',)), 'transformed_file')]}\n",
      "2015-11-06 09:14:26,743 - DEBUG - (preprocSub.Extract_b0, preprocSub.aparc2diff): No edge data\n",
      "DEBUG:workflow:(preprocSub.Extract_b0, preprocSub.aparc2diff): No edge data\n",
      "2015-11-06 09:14:26,744 - DEBUG - (preprocSub.Extract_b0, preprocSub.aparc2diff): new edge data: {'connect': [('b0', 'source_file')]}\n",
      "DEBUG:workflow:(preprocSub.Extract_b0, preprocSub.aparc2diff): new edge data: {'connect': [('b0', 'source_file')]}\n",
      "2015-11-06 09:14:26,745 - DEBUG - (preprocSub.reconall, preprocSub.aparc2diff): No edge data\n",
      "DEBUG:workflow:(preprocSub.reconall, preprocSub.aparc2diff): No edge data\n",
      "2015-11-06 09:14:26,747 - DEBUG - (preprocSub.reconall, preprocSub.aparc2diff): new edge data: {'connect': [('aparc_aseg', 'target_file')]}\n",
      "DEBUG:workflow:(preprocSub.reconall, preprocSub.aparc2diff): new edge data: {'connect': [('aparc_aseg', 'target_file')]}\n",
      "2015-11-06 09:14:26,748 - DEBUG - (preprocSub.BBRegister, preprocSub.aparc2diff): No edge data\n",
      "DEBUG:workflow:(preprocSub.BBRegister, preprocSub.aparc2diff): No edge data\n",
      "2015-11-06 09:14:26,750 - DEBUG - (preprocSub.BBRegister, preprocSub.aparc2diff): new edge data: {'connect': [('out_reg_file', 'reg_file')]}\n",
      "DEBUG:workflow:(preprocSub.BBRegister, preprocSub.aparc2diff): new edge data: {'connect': [('out_reg_file', 'reg_file')]}\n",
      "2015-11-06 09:14:26,751 - DEBUG - (preprocSub.pathBuilder, preprocSub.aparc2diff): No edge data\n",
      "DEBUG:workflow:(preprocSub.pathBuilder, preprocSub.aparc2diff): No edge data\n",
      "2015-11-06 09:14:26,752 - DEBUG - (preprocSub.pathBuilder, preprocSub.aparc2diff): new edge data: {'connect': [(('calc_images', 'Vdef fileNameBuilder(path, fname):\\\\u000a    return path + fname\\\\u000a\\n.', ('aparc+aseg2diff.nii.gz',)), 'transformed_file')]}\n",
      "DEBUG:workflow:(preprocSub.pathBuilder, preprocSub.aparc2diff): new edge data: {'connect': [(('calc_images', 'Vdef fileNameBuilder(path, fname):\\\\u000a    return path + fname\\\\u000a\\n.', ('aparc+aseg2diff.nii.gz',)), 'transformed_file')]}\n",
      "2015-11-06 09:14:26,755 - DEBUG - (preprocSub.aparc2diff, preprocSub.extract_WM_lowres): No edge data\n",
      "DEBUG:workflow:(preprocSub.aparc2diff, preprocSub.extract_WM_lowres): No edge data\n",
      "2015-11-06 09:14:26,756 - DEBUG - (preprocSub.aparc2diff, preprocSub.extract_WM_lowres): new edge data: {'connect': [('transformed_file', 'input_image')]}\n",
      "DEBUG:workflow:(preprocSub.aparc2diff, preprocSub.extract_WM_lowres): new edge data: {'connect': [('transformed_file', 'input_image')]}\n",
      "2015-11-06 09:14:26,757 - DEBUG - (preprocSub.mergeHemis, preprocSub.extract_WM_lowres): No edge data\n",
      "DEBUG:workflow:(preprocSub.mergeHemis, preprocSub.extract_WM_lowres): No edge data\n",
      "2015-11-06 09:14:26,758 - DEBUG - (preprocSub.mergeHemis, preprocSub.extract_WM_lowres): new edge data: {'connect': [('out_file', 'wmoutline_image')]}\n",
      "DEBUG:workflow:(preprocSub.mergeHemis, preprocSub.extract_WM_lowres): new edge data: {'connect': [('out_file', 'wmoutline_image')]}\n",
      "2015-11-06 09:14:26,759 - DEBUG - (preprocSub.pathBuilder, preprocSub.extract_WM_lowres): No edge data\n",
      "DEBUG:workflow:(preprocSub.pathBuilder, preprocSub.extract_WM_lowres): No edge data\n",
      "2015-11-06 09:14:26,760 - DEBUG - (preprocSub.pathBuilder, preprocSub.extract_WM_lowres): new edge data: {'connect': [(('calc_images', 'Vdef fileNameBuilder(path, fname):\\\\u000a    return path + fname\\\\u000a\\n.', ('wmmask.nii.gz',)), 'output_image')]}\n",
      "DEBUG:workflow:(preprocSub.pathBuilder, preprocSub.extract_WM_lowres): new edge data: {'connect': [(('calc_images', 'Vdef fileNameBuilder(path, fname):\\\\u000a    return path + fname\\\\u000a\\n.', ('wmmask.nii.gz',)), 'output_image')]}\n",
      "2015-11-06 09:14:26,762 - DEBUG - (preprocSub.aparc2diff_1mm, preprocSub.extract_WM_highres): No edge data\n",
      "DEBUG:workflow:(preprocSub.aparc2diff_1mm, preprocSub.extract_WM_highres): No edge data\n",
      "2015-11-06 09:14:26,763 - DEBUG - (preprocSub.aparc2diff_1mm, preprocSub.extract_WM_highres): new edge data: {'connect': [('transformed_file', 'input_image')]}\n",
      "DEBUG:workflow:(preprocSub.aparc2diff_1mm, preprocSub.extract_WM_highres): new edge data: {'connect': [('transformed_file', 'input_image')]}\n",
      "2015-11-06 09:14:26,764 - DEBUG - (preprocSub.mergeHemis, preprocSub.extract_WM_highres): No edge data\n",
      "DEBUG:workflow:(preprocSub.mergeHemis, preprocSub.extract_WM_highres): No edge data\n",
      "2015-11-06 09:14:26,765 - DEBUG - (preprocSub.mergeHemis, preprocSub.extract_WM_highres): new edge data: {'connect': [('out_file', 'wmoutline_image')]}\n",
      "DEBUG:workflow:(preprocSub.mergeHemis, preprocSub.extract_WM_highres): new edge data: {'connect': [('out_file', 'wmoutline_image')]}\n",
      "2015-11-06 09:14:26,766 - DEBUG - (preprocSub.pathBuilder, preprocSub.extract_WM_highres): No edge data\n",
      "DEBUG:workflow:(preprocSub.pathBuilder, preprocSub.extract_WM_highres): No edge data\n",
      "2015-11-06 09:14:26,767 - DEBUG - (preprocSub.pathBuilder, preprocSub.extract_WM_highres): new edge data: {'connect': [(('calc_images', 'Vdef fileNameBuilder(path, fname):\\\\u000a    return path + fname\\\\u000a\\n.', ('wmmask_1mm.nii.gz',)), 'output_image')]}\n",
      "DEBUG:workflow:(preprocSub.pathBuilder, preprocSub.extract_WM_highres): new edge data: {'connect': [(('calc_images', 'Vdef fileNameBuilder(path, fname):\\\\u000a    return path + fname\\\\u000a\\n.', ('wmmask_1mm.nii.gz',)), 'output_image')]}\n",
      "2015-11-06 09:14:26,769 - DEBUG - (preprocSub.pathBuilder, preprocSub.output): No edge data\n",
      "DEBUG:workflow:(preprocSub.pathBuilder, preprocSub.output): No edge data\n",
      "2015-11-06 09:14:26,770 - DEBUG - (preprocSub.pathBuilder, preprocSub.output): new edge data: {'connect': [('calc_images', 'calc_images')]}\n",
      "DEBUG:workflow:(preprocSub.pathBuilder, preprocSub.output): new edge data: {'connect': [('calc_images', 'calc_images')]}\n",
      "2015-11-06 09:14:26,772 - DEBUG - (preprocSub.pathBuilder, preprocSub.output): Edge data exists: {'connect': [('calc_images', 'calc_images')]}\n",
      "DEBUG:workflow:(preprocSub.pathBuilder, preprocSub.output): Edge data exists: {'connect': [('calc_images', 'calc_images')]}\n",
      "2015-11-06 09:14:26,773 - DEBUG - (preprocSub.pathBuilder, preprocSub.output): new edge data: {'connect': [('calc_images', 'calc_images'), ('T1RawFolder', 'T1RawFolder')]}\n",
      "DEBUG:workflow:(preprocSub.pathBuilder, preprocSub.output): new edge data: {'connect': [('calc_images', 'calc_images'), ('T1RawFolder', 'T1RawFolder')]}\n",
      "2015-11-06 09:14:26,775 - DEBUG - (preprocSub.pathBuilder, preprocSub.output): Edge data exists: {'connect': [('calc_images', 'calc_images'), ('T1RawFolder', 'T1RawFolder')]}\n",
      "DEBUG:workflow:(preprocSub.pathBuilder, preprocSub.output): Edge data exists: {'connect': [('calc_images', 'calc_images'), ('T1RawFolder', 'T1RawFolder')]}\n",
      "2015-11-06 09:14:26,776 - DEBUG - (preprocSub.pathBuilder, preprocSub.output): new edge data: {'connect': [('calc_images', 'calc_images'), ('T1RawFolder', 'T1RawFolder'), ('subPath', 'subPath')]}\n",
      "DEBUG:workflow:(preprocSub.pathBuilder, preprocSub.output): new edge data: {'connect': [('calc_images', 'calc_images'), ('T1RawFolder', 'T1RawFolder'), ('subPath', 'subPath')]}\n",
      "2015-11-06 09:14:26,778 - DEBUG - (preprocSub.pathBuilder, preprocSub.output): Edge data exists: {'connect': [('calc_images', 'calc_images'), ('T1RawFolder', 'T1RawFolder'), ('subPath', 'subPath')]}\n",
      "DEBUG:workflow:(preprocSub.pathBuilder, preprocSub.output): Edge data exists: {'connect': [('calc_images', 'calc_images'), ('T1RawFolder', 'T1RawFolder'), ('subPath', 'subPath')]}\n",
      "2015-11-06 09:14:26,779 - DEBUG - (preprocSub.pathBuilder, preprocSub.output): new edge data: {'connect': [('calc_images', 'calc_images'), ('T1RawFolder', 'T1RawFolder'), ('subPath', 'subPath'), ('dwiPreprocFolder', 'dwiPreprocFolder')]}\n",
      "DEBUG:workflow:(preprocSub.pathBuilder, preprocSub.output): new edge data: {'connect': [('calc_images', 'calc_images'), ('T1RawFolder', 'T1RawFolder'), ('subPath', 'subPath'), ('dwiPreprocFolder', 'dwiPreprocFolder')]}\n",
      "2015-11-06 09:14:26,780 - DEBUG - (preprocSub.pathBuilder, preprocSub.output): Edge data exists: {'connect': [('calc_images', 'calc_images'), ('T1RawFolder', 'T1RawFolder'), ('subPath', 'subPath'), ('dwiPreprocFolder', 'dwiPreprocFolder')]}\n",
      "DEBUG:workflow:(preprocSub.pathBuilder, preprocSub.output): Edge data exists: {'connect': [('calc_images', 'calc_images'), ('T1RawFolder', 'T1RawFolder'), ('subPath', 'subPath'), ('dwiPreprocFolder', 'dwiPreprocFolder')]}\n",
      "2015-11-06 09:14:26,781 - DEBUG - (preprocSub.pathBuilder, preprocSub.output): new edge data: {'connect': [('calc_images', 'calc_images'), ('T1RawFolder', 'T1RawFolder'), ('subPath', 'subPath'), ('dwiPreprocFolder', 'dwiPreprocFolder'), ('fmriRawFolder', 'fmriRawFolder')]}\n",
      "DEBUG:workflow:(preprocSub.pathBuilder, preprocSub.output): new edge data: {'connect': [('calc_images', 'calc_images'), ('T1RawFolder', 'T1RawFolder'), ('subPath', 'subPath'), ('dwiPreprocFolder', 'dwiPreprocFolder'), ('fmriRawFolder', 'fmriRawFolder')]}\n",
      "2015-11-06 09:14:26,783 - DEBUG - (preprocSub.pathBuilder, preprocSub.output): Edge data exists: {'connect': [('calc_images', 'calc_images'), ('T1RawFolder', 'T1RawFolder'), ('subPath', 'subPath'), ('dwiPreprocFolder', 'dwiPreprocFolder'), ('fmriRawFolder', 'fmriRawFolder')]}\n",
      "DEBUG:workflow:(preprocSub.pathBuilder, preprocSub.output): Edge data exists: {'connect': [('calc_images', 'calc_images'), ('T1RawFolder', 'T1RawFolder'), ('subPath', 'subPath'), ('dwiPreprocFolder', 'dwiPreprocFolder'), ('fmriRawFolder', 'fmriRawFolder')]}\n",
      "2015-11-06 09:14:26,784 - DEBUG - (preprocSub.pathBuilder, preprocSub.output): new edge data: {'connect': [('calc_images', 'calc_images'), ('T1RawFolder', 'T1RawFolder'), ('subPath', 'subPath'), ('dwiPreprocFolder', 'dwiPreprocFolder'), ('fmriRawFolder', 'fmriRawFolder'), ('trackingFolder', 'trackingFolder')]}\n",
      "DEBUG:workflow:(preprocSub.pathBuilder, preprocSub.output): new edge data: {'connect': [('calc_images', 'calc_images'), ('T1RawFolder', 'T1RawFolder'), ('subPath', 'subPath'), ('dwiPreprocFolder', 'dwiPreprocFolder'), ('fmriRawFolder', 'fmriRawFolder'), ('trackingFolder', 'trackingFolder')]}\n",
      "2015-11-06 09:14:26,785 - DEBUG - (preprocSub.pathBuilder, preprocSub.output): Edge data exists: {'connect': [('calc_images', 'calc_images'), ('T1RawFolder', 'T1RawFolder'), ('subPath', 'subPath'), ('dwiPreprocFolder', 'dwiPreprocFolder'), ('fmriRawFolder', 'fmriRawFolder'), ('trackingFolder', 'trackingFolder')]}\n",
      "DEBUG:workflow:(preprocSub.pathBuilder, preprocSub.output): Edge data exists: {'connect': [('calc_images', 'calc_images'), ('T1RawFolder', 'T1RawFolder'), ('subPath', 'subPath'), ('dwiPreprocFolder', 'dwiPreprocFolder'), ('fmriRawFolder', 'fmriRawFolder'), ('trackingFolder', 'trackingFolder')]}\n",
      "2015-11-06 09:14:26,786 - DEBUG - (preprocSub.pathBuilder, preprocSub.output): new edge data: {'connect': [('calc_images', 'calc_images'), ('T1RawFolder', 'T1RawFolder'), ('subPath', 'subPath'), ('dwiPreprocFolder', 'dwiPreprocFolder'), ('fmriRawFolder', 'fmriRawFolder'), ('trackingFolder', 'trackingFolder'), ('dwiRawFolder', 'dwiRawFolder')]}\n",
      "DEBUG:workflow:(preprocSub.pathBuilder, preprocSub.output): new edge data: {'connect': [('calc_images', 'calc_images'), ('T1RawFolder', 'T1RawFolder'), ('subPath', 'subPath'), ('dwiPreprocFolder', 'dwiPreprocFolder'), ('fmriRawFolder', 'fmriRawFolder'), ('trackingFolder', 'trackingFolder'), ('dwiRawFolder', 'dwiRawFolder')]}\n",
      "2015-11-06 09:14:26,788 - DEBUG - (preprocSub.pathBuilder, preprocSub.output): Edge data exists: {'connect': [('calc_images', 'calc_images'), ('T1RawFolder', 'T1RawFolder'), ('subPath', 'subPath'), ('dwiPreprocFolder', 'dwiPreprocFolder'), ('fmriRawFolder', 'fmriRawFolder'), ('trackingFolder', 'trackingFolder'), ('dwiRawFolder', 'dwiRawFolder')]}\n",
      "DEBUG:workflow:(preprocSub.pathBuilder, preprocSub.output): Edge data exists: {'connect': [('calc_images', 'calc_images'), ('T1RawFolder', 'T1RawFolder'), ('subPath', 'subPath'), ('dwiPreprocFolder', 'dwiPreprocFolder'), ('fmriRawFolder', 'fmriRawFolder'), ('trackingFolder', 'trackingFolder'), ('dwiRawFolder', 'dwiRawFolder')]}\n",
      "2015-11-06 09:14:26,789 - DEBUG - (preprocSub.pathBuilder, preprocSub.output): new edge data: {'connect': [('calc_images', 'calc_images'), ('T1RawFolder', 'T1RawFolder'), ('subPath', 'subPath'), ('dwiPreprocFolder', 'dwiPreprocFolder'), ('fmriRawFolder', 'fmriRawFolder'), ('trackingFolder', 'trackingFolder'), ('dwiRawFolder', 'dwiRawFolder'), ('rawdataFolder', 'rawdataFolder')]}\n",
      "DEBUG:workflow:(preprocSub.pathBuilder, preprocSub.output): new edge data: {'connect': [('calc_images', 'calc_images'), ('T1RawFolder', 'T1RawFolder'), ('subPath', 'subPath'), ('dwiPreprocFolder', 'dwiPreprocFolder'), ('fmriRawFolder', 'fmriRawFolder'), ('trackingFolder', 'trackingFolder'), ('dwiRawFolder', 'dwiRawFolder'), ('rawdataFolder', 'rawdataFolder')]}\n"
     ]
    }
   ],
   "source": [
    "wf = Workflow(name = 'preprocSub')\n",
    "\n",
    "# Input strings to pathbuilder\n",
    "wf.connect([(inputNode, pathBuildingNode, [('subject_id', 'subject_id'),\n",
    "                                          ('subject_folder', 'subject_folder')])])\n",
    "# T1-Rawdata-path into dataFinder to find T1 DICOMs\n",
    "wf.connect(pathBuildingNode, 'T1RawFolder', t1FinderNode, 'root_paths')\n",
    "# T1 DICOM-paths into recon_all\n",
    "wf.connect(t1FinderNode, 'out_paths', reconallNode, 'T1_files')\n",
    "# aparc+aseg into mriConverter\n",
    "wf.connect(reconallNode, 'aparc_aseg', mriConverter, 'in_file')\n",
    "\n",
    "# dcm2nii\n",
    "wf.connect([(pathBuildingNode, dcm2niiNode, [('dwiRawFolder', 'source_names'),\n",
    "                                            ('dwiPreprocFolder', 'output_dir')])])\n",
    "# B0 extraction\n",
    "wf.connect(dcm2niiNode, 'converted_files', extrctB0Node, 'dwMriFile')\n",
    "\n",
    "# Register b0 into T1 space\n",
    "wf.connect([(extrctB0Node, bbregNode, [('b0', 'source_file')]),\n",
    "           (pathBuildingNode, bbregNode, [('subPath', 'subjects_dir')])])\n",
    "\n",
    "# Tranform lh whitematter surface to voxel-space\n",
    "wf.connect([(pathBuildingNode, surf2volNode_lh, [('subPath', 'subjects_dir'),\n",
    "                                                (('calc_images', fileNameBuilder, fileNames['wmSurf_lh']),\n",
    "                                                 'transformed_file')]),\n",
    "           (reconallNode, surf2volNode_lh, [('T1', 'template_file')])])\n",
    "# Tranform rh whitematter...\n",
    "wf.connect([(pathBuildingNode, surf2volNode_rh, [('subPath', 'subjects_dir'),\n",
    "                                                (('calc_images', fileNameBuilder, fileNames['wmSurf_rh']),\n",
    "                                                 'transformed_file')]),\n",
    "           (reconallNode, surf2volNode_rh, [('T1', 'template_file')])])\n",
    "\n",
    "# Merge the hemispheres\n",
    "wf.connect([(surf2volNode_lh, mergeHemisNode, [('transformed_file', 'in_file')]),\n",
    "           (surf2volNode_rh, mergeHemisNode, [('transformed_file', 'operand_file')]),\n",
    "           (pathBuildingNode, mergeHemisNode, [(('calc_images', fileNameBuilder, fileNames['wmSurf']), 'out_file')])])\n",
    "\n",
    "# Registrations --__--__--__--\n",
    "wf.connect([(extrctB0Node, applyReg_anat2diff_1mm, [('b0', 'source_file')]),\n",
    "           (mergeHemisNode, applyReg_anat2diff_1mm, [('out_file', 'target_file')]),\n",
    "           (bbregNode, applyReg_anat2diff_1mm, [('out_reg_file', 'reg_file')]),\n",
    "           (pathBuildingNode, applyReg_anat2diff_1mm,\n",
    "            [(('calc_images',fileNameBuilder ,fileNames['wmoutline2diff_1mm']), 'transformed_file')])])\n",
    "\n",
    "wf.connect([(extrctB0Node, applyReg_anat2diff, [('b0', 'source_file')]),\n",
    "           (mergeHemisNode, applyReg_anat2diff, [('out_file', 'target_file')]),\n",
    "           (bbregNode, applyReg_anat2diff, [('out_reg_file', 'reg_file')]),\n",
    "           (pathBuildingNode, applyReg_anat2diff,\n",
    "            [(('calc_images',fileNameBuilder ,fileNames['wmoutline2diff']), 'transformed_file')])])\n",
    "\n",
    "wf.connect([(applyReg_anat2diff, thresholdNode, [('transformed_file', 'in_file'),\n",
    "                                                ('transformed_file', 'out_file')])])\n",
    "wf.connect([(thresholdNode, binarizeNode, [('out_file', 'in_file'),\n",
    "                                          ('out_file', 'out_file')])])\n",
    "\n",
    "wf.connect([(extrctB0Node, applyReg_wmparc2diff_1mm, [('b0', 'source_file')]),\n",
    "           (reconallNode, applyReg_wmparc2diff_1mm, [('wmparc', 'target_file')]),\n",
    "           (bbregNode, applyReg_wmparc2diff_1mm, [('out_reg_file', 'reg_file')]),\n",
    "           (pathBuildingNode, applyReg_wmparc2diff_1mm,\n",
    "            [(('calc_images',fileNameBuilder ,fileNames['wmparc2diff_1mm']), 'transformed_file')])])\n",
    "\n",
    "wf.connect([(extrctB0Node, applyReg_aparc2diff_1mm, [('b0', 'source_file')]),\n",
    "           (reconallNode, applyReg_aparc2diff_1mm, [('aparc_aseg', 'target_file')]),\n",
    "           (bbregNode, applyReg_aparc2diff_1mm, [('out_reg_file', 'reg_file')]),\n",
    "           (pathBuildingNode, applyReg_aparc2diff_1mm,\n",
    "            [(('calc_images',fileNameBuilder ,fileNames['aparc+aseg2diff_1mm']), 'transformed_file')])])\n",
    "\n",
    "wf.connect([(extrctB0Node, applyReg_aparc2diff, [('b0', 'source_file')]),\n",
    "           (reconallNode, applyReg_aparc2diff, [('aparc_aseg', 'target_file')]),\n",
    "           (bbregNode, applyReg_aparc2diff, [('out_reg_file', 'reg_file')]),\n",
    "           (pathBuildingNode, applyReg_aparc2diff,\n",
    "            [(('calc_images',fileNameBuilder ,fileNames['aparc+aseg2diff']), 'transformed_file')])])\n",
    "\n",
    "# Mask creation\n",
    "wf.connect([(applyReg_aparc2diff, wmmask_lowres, [('transformed_file', 'input_image')]),\n",
    "           (mergeHemisNode, wmmask_lowres, [('out_file', 'wmoutline_image')]),\n",
    "           (pathBuildingNode, wmmask_lowres, [(('calc_images', fileNameBuilder, fileNames['lowresWmMask']),\n",
    "                                               'output_image')])])\n",
    "\n",
    "wf.connect([(applyReg_aparc2diff_1mm, wmmask_highres, [('transformed_file', 'input_image')]),\n",
    "           (mergeHemisNode, wmmask_highres, [('out_file', 'wmoutline_image')]),\n",
    "           (pathBuildingNode, wmmask_highres, [(('calc_images', fileNameBuilder, fileNames['highresWmMask']),\n",
    "                                               'output_image')])])\n",
    "\n",
    "# Now forwards all relevant stuff to output node\n",
    "for i in pathBuildingNode.outputs.trait_names():\n",
    "    if not re.search('trait', i):\n",
    "        wf.connect([(pathBuildingNode, outputNode, [(i, i)])])\n",
    "    \n",
    "wf.connect([(wmmask_highres, outputNode, [('output_image', fileNames['highresWmMask'])]),\n",
    "           (wmmask_lowres, outputNode, [('output_image', fileNames['lowresWmMask'])]),\n",
    "           (applyReg_aparc2diff, outputNode, [('transformed_file', fileNames['aparc+aseg2diff'])]),\n",
    "           (applyReg_aparc2diff_1mm, outputNode, [('transformed_file', fileNames['aparc+aseg2diff_1mm'])]),\n",
    "           (mergeHemisNode, outputNode, [('out_file', fileNames['wmSurf'])]),\n",
    "           (applyReg_anat2diff_1mm, outputNode, [('transformed_file', fileNames['wmoutline2diff_1mm'])]),\n",
    "           (applyReg_anat2diff, outputNode, [('transformed_file', fileNames['wmoutline2diff'])]),\n",
    "           (applyReg_wmparc2diff_1mm, outputNode, [('transformed_file', fileNames['wmparc2diff_1mm'])])\n",
    "           ])"
   ]
  },
  {
   "cell_type": "code",
   "execution_count": 24,
   "metadata": {
    "collapsed": false
   },
   "outputs": [
    {
     "name": "stderr",
     "output_type": "stream",
     "text": [
      "2015-11-06 09:14:45,627 - DEBUG - Creating flat graph for workflow: preprocSub\n",
      "DEBUG:workflow:Creating flat graph for workflow: preprocSub\n"
     ]
    },
    {
     "ename": "TraitError",
     "evalue": "The 'trait_added' trait of a DynamicTraitedSpec instance must be a basestring or None, but a value of <undefined> <class 'traits.trait_base._Undefined'> was specified.",
     "output_type": "error",
     "traceback": [
      "\u001b[0;31m---------------------------------------------------------------------------\u001b[0m",
      "\u001b[0;31mTraitError\u001b[0m                                Traceback (most recent call last)",
      "\u001b[0;32m<ipython-input-24-751ec4866f3d>\u001b[0m in \u001b[0;36m<module>\u001b[0;34m()\u001b[0m\n\u001b[1;32m      1\u001b[0m \u001b[0;31m#fileNames.keys()\u001b[0m\u001b[0;34m\u001b[0m\u001b[0;34m\u001b[0m\u001b[0m\n\u001b[0;32m----> 2\u001b[0;31m \u001b[0mwf\u001b[0m\u001b[0;34m.\u001b[0m\u001b[0mrun\u001b[0m\u001b[0;34m(\u001b[0m\u001b[0;34m'MultiProc'\u001b[0m\u001b[0;34m,\u001b[0m \u001b[0mplugin_args\u001b[0m\u001b[0;34m=\u001b[0m\u001b[0;34m{\u001b[0m\u001b[0;34m'n_procs'\u001b[0m\u001b[0;34m:\u001b[0m \u001b[0;36m2\u001b[0m\u001b[0;34m}\u001b[0m\u001b[0;34m)\u001b[0m\u001b[0;34m\u001b[0m\u001b[0m\n\u001b[0m",
      "\u001b[0;32m/Library/Python/2.7/site-packages/nipype/pipeline/engine.pyc\u001b[0m in \u001b[0;36mrun\u001b[0;34m(self, plugin, plugin_args, updatehash)\u001b[0m\n\u001b[1;32m    679\u001b[0m                 \u001b[0mplugin_mod\u001b[0m \u001b[0;34m=\u001b[0m \u001b[0mgetattr\u001b[0m\u001b[0;34m(\u001b[0m\u001b[0msys\u001b[0m\u001b[0;34m.\u001b[0m\u001b[0mmodules\u001b[0m\u001b[0;34m[\u001b[0m\u001b[0mname\u001b[0m\u001b[0;34m]\u001b[0m\u001b[0;34m,\u001b[0m \u001b[0;34m'%sPlugin'\u001b[0m \u001b[0;34m%\u001b[0m \u001b[0mplugin\u001b[0m\u001b[0;34m)\u001b[0m\u001b[0;34m\u001b[0m\u001b[0m\n\u001b[1;32m    680\u001b[0m                 \u001b[0mrunner\u001b[0m \u001b[0;34m=\u001b[0m \u001b[0mplugin_mod\u001b[0m\u001b[0;34m(\u001b[0m\u001b[0mplugin_args\u001b[0m\u001b[0;34m=\u001b[0m\u001b[0mplugin_args\u001b[0m\u001b[0;34m)\u001b[0m\u001b[0;34m\u001b[0m\u001b[0m\n\u001b[0;32m--> 681\u001b[0;31m         \u001b[0mflatgraph\u001b[0m \u001b[0;34m=\u001b[0m \u001b[0mself\u001b[0m\u001b[0;34m.\u001b[0m\u001b[0m_create_flat_graph\u001b[0m\u001b[0;34m(\u001b[0m\u001b[0;34m)\u001b[0m\u001b[0;34m\u001b[0m\u001b[0m\n\u001b[0m\u001b[1;32m    682\u001b[0m         \u001b[0mself\u001b[0m\u001b[0;34m.\u001b[0m\u001b[0mconfig\u001b[0m \u001b[0;34m=\u001b[0m \u001b[0mmerge_dict\u001b[0m\u001b[0;34m(\u001b[0m\u001b[0mdeepcopy\u001b[0m\u001b[0;34m(\u001b[0m\u001b[0mconfig\u001b[0m\u001b[0;34m.\u001b[0m\u001b[0m_sections\u001b[0m\u001b[0;34m)\u001b[0m\u001b[0;34m,\u001b[0m \u001b[0mself\u001b[0m\u001b[0;34m.\u001b[0m\u001b[0mconfig\u001b[0m\u001b[0;34m)\u001b[0m\u001b[0;34m\u001b[0m\u001b[0m\n\u001b[1;32m    683\u001b[0m         \u001b[0;32mif\u001b[0m \u001b[0;34m'crashdump_dir'\u001b[0m \u001b[0;32min\u001b[0m \u001b[0mself\u001b[0m\u001b[0;34m.\u001b[0m\u001b[0mconfig\u001b[0m\u001b[0;34m:\u001b[0m\u001b[0;34m\u001b[0m\u001b[0m\n",
      "\u001b[0;32m/Library/Python/2.7/site-packages/nipype/pipeline/engine.pyc\u001b[0m in \u001b[0;36m_create_flat_graph\u001b[0;34m(self)\u001b[0m\n\u001b[1;32m    935\u001b[0m         \u001b[0;34m\"\"\"Make a simple DAG where no node is a workflow.\"\"\"\u001b[0m\u001b[0;34m\u001b[0m\u001b[0m\n\u001b[1;32m    936\u001b[0m         \u001b[0mlogger\u001b[0m\u001b[0;34m.\u001b[0m\u001b[0mdebug\u001b[0m\u001b[0;34m(\u001b[0m\u001b[0;34m'Creating flat graph for workflow: %s'\u001b[0m\u001b[0;34m,\u001b[0m \u001b[0mself\u001b[0m\u001b[0;34m.\u001b[0m\u001b[0mname\u001b[0m\u001b[0;34m)\u001b[0m\u001b[0;34m\u001b[0m\u001b[0m\n\u001b[0;32m--> 937\u001b[0;31m         \u001b[0mworkflowcopy\u001b[0m \u001b[0;34m=\u001b[0m \u001b[0mdeepcopy\u001b[0m\u001b[0;34m(\u001b[0m\u001b[0mself\u001b[0m\u001b[0;34m)\u001b[0m\u001b[0;34m\u001b[0m\u001b[0m\n\u001b[0m\u001b[1;32m    938\u001b[0m         \u001b[0mworkflowcopy\u001b[0m\u001b[0;34m.\u001b[0m\u001b[0m_generate_flatgraph\u001b[0m\u001b[0;34m(\u001b[0m\u001b[0;34m)\u001b[0m\u001b[0;34m\u001b[0m\u001b[0m\n\u001b[1;32m    939\u001b[0m         \u001b[0;32mreturn\u001b[0m \u001b[0mworkflowcopy\u001b[0m\u001b[0;34m.\u001b[0m\u001b[0m_graph\u001b[0m\u001b[0;34m\u001b[0m\u001b[0m\n",
      "\u001b[0;32m/System/Library/Frameworks/Python.framework/Versions/2.7/lib/python2.7/copy.pyc\u001b[0m in \u001b[0;36mdeepcopy\u001b[0;34m(x, memo, _nil)\u001b[0m\n\u001b[1;32m    188\u001b[0m                             raise Error(\n\u001b[1;32m    189\u001b[0m                                 \"un(deep)copyable object of type %s\" % cls)\n\u001b[0;32m--> 190\u001b[0;31m                 \u001b[0my\u001b[0m \u001b[0;34m=\u001b[0m \u001b[0m_reconstruct\u001b[0m\u001b[0;34m(\u001b[0m\u001b[0mx\u001b[0m\u001b[0;34m,\u001b[0m \u001b[0mrv\u001b[0m\u001b[0;34m,\u001b[0m \u001b[0;36m1\u001b[0m\u001b[0;34m,\u001b[0m \u001b[0mmemo\u001b[0m\u001b[0;34m)\u001b[0m\u001b[0;34m\u001b[0m\u001b[0m\n\u001b[0m\u001b[1;32m    191\u001b[0m \u001b[0;34m\u001b[0m\u001b[0m\n\u001b[1;32m    192\u001b[0m     \u001b[0mmemo\u001b[0m\u001b[0;34m[\u001b[0m\u001b[0md\u001b[0m\u001b[0;34m]\u001b[0m \u001b[0;34m=\u001b[0m \u001b[0my\u001b[0m\u001b[0;34m\u001b[0m\u001b[0m\n",
      "\u001b[0;32m/System/Library/Frameworks/Python.framework/Versions/2.7/lib/python2.7/copy.pyc\u001b[0m in \u001b[0;36m_reconstruct\u001b[0;34m(x, info, deep, memo)\u001b[0m\n\u001b[1;32m    332\u001b[0m     \u001b[0;32mif\u001b[0m \u001b[0mstate\u001b[0m\u001b[0;34m:\u001b[0m\u001b[0;34m\u001b[0m\u001b[0m\n\u001b[1;32m    333\u001b[0m         \u001b[0;32mif\u001b[0m \u001b[0mdeep\u001b[0m\u001b[0;34m:\u001b[0m\u001b[0;34m\u001b[0m\u001b[0m\n\u001b[0;32m--> 334\u001b[0;31m             \u001b[0mstate\u001b[0m \u001b[0;34m=\u001b[0m \u001b[0mdeepcopy\u001b[0m\u001b[0;34m(\u001b[0m\u001b[0mstate\u001b[0m\u001b[0;34m,\u001b[0m \u001b[0mmemo\u001b[0m\u001b[0;34m)\u001b[0m\u001b[0;34m\u001b[0m\u001b[0m\n\u001b[0m\u001b[1;32m    335\u001b[0m         \u001b[0;32mif\u001b[0m \u001b[0mhasattr\u001b[0m\u001b[0;34m(\u001b[0m\u001b[0my\u001b[0m\u001b[0;34m,\u001b[0m \u001b[0;34m'__setstate__'\u001b[0m\u001b[0;34m)\u001b[0m\u001b[0;34m:\u001b[0m\u001b[0;34m\u001b[0m\u001b[0m\n\u001b[1;32m    336\u001b[0m             \u001b[0my\u001b[0m\u001b[0;34m.\u001b[0m\u001b[0m__setstate__\u001b[0m\u001b[0;34m(\u001b[0m\u001b[0mstate\u001b[0m\u001b[0;34m)\u001b[0m\u001b[0;34m\u001b[0m\u001b[0m\n",
      "\u001b[0;32m/System/Library/Frameworks/Python.framework/Versions/2.7/lib/python2.7/copy.pyc\u001b[0m in \u001b[0;36mdeepcopy\u001b[0;34m(x, memo, _nil)\u001b[0m\n\u001b[1;32m    161\u001b[0m     \u001b[0mcopier\u001b[0m \u001b[0;34m=\u001b[0m \u001b[0m_deepcopy_dispatch\u001b[0m\u001b[0;34m.\u001b[0m\u001b[0mget\u001b[0m\u001b[0;34m(\u001b[0m\u001b[0mcls\u001b[0m\u001b[0;34m)\u001b[0m\u001b[0;34m\u001b[0m\u001b[0m\n\u001b[1;32m    162\u001b[0m     \u001b[0;32mif\u001b[0m \u001b[0mcopier\u001b[0m\u001b[0;34m:\u001b[0m\u001b[0;34m\u001b[0m\u001b[0m\n\u001b[0;32m--> 163\u001b[0;31m         \u001b[0my\u001b[0m \u001b[0;34m=\u001b[0m \u001b[0mcopier\u001b[0m\u001b[0;34m(\u001b[0m\u001b[0mx\u001b[0m\u001b[0;34m,\u001b[0m \u001b[0mmemo\u001b[0m\u001b[0;34m)\u001b[0m\u001b[0;34m\u001b[0m\u001b[0m\n\u001b[0m\u001b[1;32m    164\u001b[0m     \u001b[0;32melse\u001b[0m\u001b[0;34m:\u001b[0m\u001b[0;34m\u001b[0m\u001b[0m\n\u001b[1;32m    165\u001b[0m         \u001b[0;32mtry\u001b[0m\u001b[0;34m:\u001b[0m\u001b[0;34m\u001b[0m\u001b[0m\n",
      "\u001b[0;32m/System/Library/Frameworks/Python.framework/Versions/2.7/lib/python2.7/copy.pyc\u001b[0m in \u001b[0;36m_deepcopy_dict\u001b[0;34m(x, memo)\u001b[0m\n\u001b[1;32m    255\u001b[0m     \u001b[0mmemo\u001b[0m\u001b[0;34m[\u001b[0m\u001b[0mid\u001b[0m\u001b[0;34m(\u001b[0m\u001b[0mx\u001b[0m\u001b[0;34m)\u001b[0m\u001b[0;34m]\u001b[0m \u001b[0;34m=\u001b[0m \u001b[0my\u001b[0m\u001b[0;34m\u001b[0m\u001b[0m\n\u001b[1;32m    256\u001b[0m     \u001b[0;32mfor\u001b[0m \u001b[0mkey\u001b[0m\u001b[0;34m,\u001b[0m \u001b[0mvalue\u001b[0m \u001b[0;32min\u001b[0m \u001b[0mx\u001b[0m\u001b[0;34m.\u001b[0m\u001b[0miteritems\u001b[0m\u001b[0;34m(\u001b[0m\u001b[0;34m)\u001b[0m\u001b[0;34m:\u001b[0m\u001b[0;34m\u001b[0m\u001b[0m\n\u001b[0;32m--> 257\u001b[0;31m         \u001b[0my\u001b[0m\u001b[0;34m[\u001b[0m\u001b[0mdeepcopy\u001b[0m\u001b[0;34m(\u001b[0m\u001b[0mkey\u001b[0m\u001b[0;34m,\u001b[0m \u001b[0mmemo\u001b[0m\u001b[0;34m)\u001b[0m\u001b[0;34m]\u001b[0m \u001b[0;34m=\u001b[0m \u001b[0mdeepcopy\u001b[0m\u001b[0;34m(\u001b[0m\u001b[0mvalue\u001b[0m\u001b[0;34m,\u001b[0m \u001b[0mmemo\u001b[0m\u001b[0;34m)\u001b[0m\u001b[0;34m\u001b[0m\u001b[0m\n\u001b[0m\u001b[1;32m    258\u001b[0m     \u001b[0;32mreturn\u001b[0m \u001b[0my\u001b[0m\u001b[0;34m\u001b[0m\u001b[0m\n\u001b[1;32m    259\u001b[0m \u001b[0md\u001b[0m\u001b[0;34m[\u001b[0m\u001b[0mdict\u001b[0m\u001b[0;34m]\u001b[0m \u001b[0;34m=\u001b[0m \u001b[0m_deepcopy_dict\u001b[0m\u001b[0;34m\u001b[0m\u001b[0m\n",
      "\u001b[0;32m/System/Library/Frameworks/Python.framework/Versions/2.7/lib/python2.7/copy.pyc\u001b[0m in \u001b[0;36mdeepcopy\u001b[0;34m(x, memo, _nil)\u001b[0m\n\u001b[1;32m    188\u001b[0m                             raise Error(\n\u001b[1;32m    189\u001b[0m                                 \"un(deep)copyable object of type %s\" % cls)\n\u001b[0;32m--> 190\u001b[0;31m                 \u001b[0my\u001b[0m \u001b[0;34m=\u001b[0m \u001b[0m_reconstruct\u001b[0m\u001b[0;34m(\u001b[0m\u001b[0mx\u001b[0m\u001b[0;34m,\u001b[0m \u001b[0mrv\u001b[0m\u001b[0;34m,\u001b[0m \u001b[0;36m1\u001b[0m\u001b[0;34m,\u001b[0m \u001b[0mmemo\u001b[0m\u001b[0;34m)\u001b[0m\u001b[0;34m\u001b[0m\u001b[0m\n\u001b[0m\u001b[1;32m    191\u001b[0m \u001b[0;34m\u001b[0m\u001b[0m\n\u001b[1;32m    192\u001b[0m     \u001b[0mmemo\u001b[0m\u001b[0;34m[\u001b[0m\u001b[0md\u001b[0m\u001b[0;34m]\u001b[0m \u001b[0;34m=\u001b[0m \u001b[0my\u001b[0m\u001b[0;34m\u001b[0m\u001b[0m\n",
      "\u001b[0;32m/System/Library/Frameworks/Python.framework/Versions/2.7/lib/python2.7/copy.pyc\u001b[0m in \u001b[0;36m_reconstruct\u001b[0;34m(x, info, deep, memo)\u001b[0m\n\u001b[1;32m    332\u001b[0m     \u001b[0;32mif\u001b[0m \u001b[0mstate\u001b[0m\u001b[0;34m:\u001b[0m\u001b[0;34m\u001b[0m\u001b[0m\n\u001b[1;32m    333\u001b[0m         \u001b[0;32mif\u001b[0m \u001b[0mdeep\u001b[0m\u001b[0;34m:\u001b[0m\u001b[0;34m\u001b[0m\u001b[0m\n\u001b[0;32m--> 334\u001b[0;31m             \u001b[0mstate\u001b[0m \u001b[0;34m=\u001b[0m \u001b[0mdeepcopy\u001b[0m\u001b[0;34m(\u001b[0m\u001b[0mstate\u001b[0m\u001b[0;34m,\u001b[0m \u001b[0mmemo\u001b[0m\u001b[0;34m)\u001b[0m\u001b[0;34m\u001b[0m\u001b[0m\n\u001b[0m\u001b[1;32m    335\u001b[0m         \u001b[0;32mif\u001b[0m \u001b[0mhasattr\u001b[0m\u001b[0;34m(\u001b[0m\u001b[0my\u001b[0m\u001b[0;34m,\u001b[0m \u001b[0;34m'__setstate__'\u001b[0m\u001b[0;34m)\u001b[0m\u001b[0;34m:\u001b[0m\u001b[0;34m\u001b[0m\u001b[0m\n\u001b[1;32m    336\u001b[0m             \u001b[0my\u001b[0m\u001b[0;34m.\u001b[0m\u001b[0m__setstate__\u001b[0m\u001b[0;34m(\u001b[0m\u001b[0mstate\u001b[0m\u001b[0;34m)\u001b[0m\u001b[0;34m\u001b[0m\u001b[0m\n",
      "\u001b[0;32m/System/Library/Frameworks/Python.framework/Versions/2.7/lib/python2.7/copy.pyc\u001b[0m in \u001b[0;36mdeepcopy\u001b[0;34m(x, memo, _nil)\u001b[0m\n\u001b[1;32m    161\u001b[0m     \u001b[0mcopier\u001b[0m \u001b[0;34m=\u001b[0m \u001b[0m_deepcopy_dispatch\u001b[0m\u001b[0;34m.\u001b[0m\u001b[0mget\u001b[0m\u001b[0;34m(\u001b[0m\u001b[0mcls\u001b[0m\u001b[0;34m)\u001b[0m\u001b[0;34m\u001b[0m\u001b[0m\n\u001b[1;32m    162\u001b[0m     \u001b[0;32mif\u001b[0m \u001b[0mcopier\u001b[0m\u001b[0;34m:\u001b[0m\u001b[0;34m\u001b[0m\u001b[0m\n\u001b[0;32m--> 163\u001b[0;31m         \u001b[0my\u001b[0m \u001b[0;34m=\u001b[0m \u001b[0mcopier\u001b[0m\u001b[0;34m(\u001b[0m\u001b[0mx\u001b[0m\u001b[0;34m,\u001b[0m \u001b[0mmemo\u001b[0m\u001b[0;34m)\u001b[0m\u001b[0;34m\u001b[0m\u001b[0m\n\u001b[0m\u001b[1;32m    164\u001b[0m     \u001b[0;32melse\u001b[0m\u001b[0;34m:\u001b[0m\u001b[0;34m\u001b[0m\u001b[0m\n\u001b[1;32m    165\u001b[0m         \u001b[0;32mtry\u001b[0m\u001b[0;34m:\u001b[0m\u001b[0;34m\u001b[0m\u001b[0m\n",
      "\u001b[0;32m/System/Library/Frameworks/Python.framework/Versions/2.7/lib/python2.7/copy.pyc\u001b[0m in \u001b[0;36m_deepcopy_dict\u001b[0;34m(x, memo)\u001b[0m\n\u001b[1;32m    255\u001b[0m     \u001b[0mmemo\u001b[0m\u001b[0;34m[\u001b[0m\u001b[0mid\u001b[0m\u001b[0;34m(\u001b[0m\u001b[0mx\u001b[0m\u001b[0;34m)\u001b[0m\u001b[0;34m]\u001b[0m \u001b[0;34m=\u001b[0m \u001b[0my\u001b[0m\u001b[0;34m\u001b[0m\u001b[0m\n\u001b[1;32m    256\u001b[0m     \u001b[0;32mfor\u001b[0m \u001b[0mkey\u001b[0m\u001b[0;34m,\u001b[0m \u001b[0mvalue\u001b[0m \u001b[0;32min\u001b[0m \u001b[0mx\u001b[0m\u001b[0;34m.\u001b[0m\u001b[0miteritems\u001b[0m\u001b[0;34m(\u001b[0m\u001b[0;34m)\u001b[0m\u001b[0;34m:\u001b[0m\u001b[0;34m\u001b[0m\u001b[0m\n\u001b[0;32m--> 257\u001b[0;31m         \u001b[0my\u001b[0m\u001b[0;34m[\u001b[0m\u001b[0mdeepcopy\u001b[0m\u001b[0;34m(\u001b[0m\u001b[0mkey\u001b[0m\u001b[0;34m,\u001b[0m \u001b[0mmemo\u001b[0m\u001b[0;34m)\u001b[0m\u001b[0;34m]\u001b[0m \u001b[0;34m=\u001b[0m \u001b[0mdeepcopy\u001b[0m\u001b[0;34m(\u001b[0m\u001b[0mvalue\u001b[0m\u001b[0;34m,\u001b[0m \u001b[0mmemo\u001b[0m\u001b[0;34m)\u001b[0m\u001b[0;34m\u001b[0m\u001b[0m\n\u001b[0m\u001b[1;32m    258\u001b[0m     \u001b[0;32mreturn\u001b[0m \u001b[0my\u001b[0m\u001b[0;34m\u001b[0m\u001b[0m\n\u001b[1;32m    259\u001b[0m \u001b[0md\u001b[0m\u001b[0;34m[\u001b[0m\u001b[0mdict\u001b[0m\u001b[0;34m]\u001b[0m \u001b[0;34m=\u001b[0m \u001b[0m_deepcopy_dict\u001b[0m\u001b[0;34m\u001b[0m\u001b[0m\n",
      "\u001b[0;32m/System/Library/Frameworks/Python.framework/Versions/2.7/lib/python2.7/copy.pyc\u001b[0m in \u001b[0;36mdeepcopy\u001b[0;34m(x, memo, _nil)\u001b[0m\n\u001b[1;32m    161\u001b[0m     \u001b[0mcopier\u001b[0m \u001b[0;34m=\u001b[0m \u001b[0m_deepcopy_dispatch\u001b[0m\u001b[0;34m.\u001b[0m\u001b[0mget\u001b[0m\u001b[0;34m(\u001b[0m\u001b[0mcls\u001b[0m\u001b[0;34m)\u001b[0m\u001b[0;34m\u001b[0m\u001b[0m\n\u001b[1;32m    162\u001b[0m     \u001b[0;32mif\u001b[0m \u001b[0mcopier\u001b[0m\u001b[0;34m:\u001b[0m\u001b[0;34m\u001b[0m\u001b[0m\n\u001b[0;32m--> 163\u001b[0;31m         \u001b[0my\u001b[0m \u001b[0;34m=\u001b[0m \u001b[0mcopier\u001b[0m\u001b[0;34m(\u001b[0m\u001b[0mx\u001b[0m\u001b[0;34m,\u001b[0m \u001b[0mmemo\u001b[0m\u001b[0;34m)\u001b[0m\u001b[0;34m\u001b[0m\u001b[0m\n\u001b[0m\u001b[1;32m    164\u001b[0m     \u001b[0;32melse\u001b[0m\u001b[0;34m:\u001b[0m\u001b[0;34m\u001b[0m\u001b[0m\n\u001b[1;32m    165\u001b[0m         \u001b[0;32mtry\u001b[0m\u001b[0;34m:\u001b[0m\u001b[0;34m\u001b[0m\u001b[0m\n",
      "\u001b[0;32m/System/Library/Frameworks/Python.framework/Versions/2.7/lib/python2.7/copy.pyc\u001b[0m in \u001b[0;36m_deepcopy_dict\u001b[0;34m(x, memo)\u001b[0m\n\u001b[1;32m    255\u001b[0m     \u001b[0mmemo\u001b[0m\u001b[0;34m[\u001b[0m\u001b[0mid\u001b[0m\u001b[0;34m(\u001b[0m\u001b[0mx\u001b[0m\u001b[0;34m)\u001b[0m\u001b[0;34m]\u001b[0m \u001b[0;34m=\u001b[0m \u001b[0my\u001b[0m\u001b[0;34m\u001b[0m\u001b[0m\n\u001b[1;32m    256\u001b[0m     \u001b[0;32mfor\u001b[0m \u001b[0mkey\u001b[0m\u001b[0;34m,\u001b[0m \u001b[0mvalue\u001b[0m \u001b[0;32min\u001b[0m \u001b[0mx\u001b[0m\u001b[0;34m.\u001b[0m\u001b[0miteritems\u001b[0m\u001b[0;34m(\u001b[0m\u001b[0;34m)\u001b[0m\u001b[0;34m:\u001b[0m\u001b[0;34m\u001b[0m\u001b[0m\n\u001b[0;32m--> 257\u001b[0;31m         \u001b[0my\u001b[0m\u001b[0;34m[\u001b[0m\u001b[0mdeepcopy\u001b[0m\u001b[0;34m(\u001b[0m\u001b[0mkey\u001b[0m\u001b[0;34m,\u001b[0m \u001b[0mmemo\u001b[0m\u001b[0;34m)\u001b[0m\u001b[0;34m]\u001b[0m \u001b[0;34m=\u001b[0m \u001b[0mdeepcopy\u001b[0m\u001b[0;34m(\u001b[0m\u001b[0mvalue\u001b[0m\u001b[0;34m,\u001b[0m \u001b[0mmemo\u001b[0m\u001b[0;34m)\u001b[0m\u001b[0;34m\u001b[0m\u001b[0m\n\u001b[0m\u001b[1;32m    258\u001b[0m     \u001b[0;32mreturn\u001b[0m \u001b[0my\u001b[0m\u001b[0;34m\u001b[0m\u001b[0m\n\u001b[1;32m    259\u001b[0m \u001b[0md\u001b[0m\u001b[0;34m[\u001b[0m\u001b[0mdict\u001b[0m\u001b[0;34m]\u001b[0m \u001b[0;34m=\u001b[0m \u001b[0m_deepcopy_dict\u001b[0m\u001b[0;34m\u001b[0m\u001b[0m\n",
      "\u001b[0;32m/System/Library/Frameworks/Python.framework/Versions/2.7/lib/python2.7/copy.pyc\u001b[0m in \u001b[0;36mdeepcopy\u001b[0;34m(x, memo, _nil)\u001b[0m\n\u001b[1;32m    188\u001b[0m                             raise Error(\n\u001b[1;32m    189\u001b[0m                                 \"un(deep)copyable object of type %s\" % cls)\n\u001b[0;32m--> 190\u001b[0;31m                 \u001b[0my\u001b[0m \u001b[0;34m=\u001b[0m \u001b[0m_reconstruct\u001b[0m\u001b[0;34m(\u001b[0m\u001b[0mx\u001b[0m\u001b[0;34m,\u001b[0m \u001b[0mrv\u001b[0m\u001b[0;34m,\u001b[0m \u001b[0;36m1\u001b[0m\u001b[0;34m,\u001b[0m \u001b[0mmemo\u001b[0m\u001b[0;34m)\u001b[0m\u001b[0;34m\u001b[0m\u001b[0m\n\u001b[0m\u001b[1;32m    191\u001b[0m \u001b[0;34m\u001b[0m\u001b[0m\n\u001b[1;32m    192\u001b[0m     \u001b[0mmemo\u001b[0m\u001b[0;34m[\u001b[0m\u001b[0md\u001b[0m\u001b[0;34m]\u001b[0m \u001b[0;34m=\u001b[0m \u001b[0my\u001b[0m\u001b[0;34m\u001b[0m\u001b[0m\n",
      "\u001b[0;32m/System/Library/Frameworks/Python.framework/Versions/2.7/lib/python2.7/copy.pyc\u001b[0m in \u001b[0;36m_reconstruct\u001b[0;34m(x, info, deep, memo)\u001b[0m\n\u001b[1;32m    332\u001b[0m     \u001b[0;32mif\u001b[0m \u001b[0mstate\u001b[0m\u001b[0;34m:\u001b[0m\u001b[0;34m\u001b[0m\u001b[0m\n\u001b[1;32m    333\u001b[0m         \u001b[0;32mif\u001b[0m \u001b[0mdeep\u001b[0m\u001b[0;34m:\u001b[0m\u001b[0;34m\u001b[0m\u001b[0m\n\u001b[0;32m--> 334\u001b[0;31m             \u001b[0mstate\u001b[0m \u001b[0;34m=\u001b[0m \u001b[0mdeepcopy\u001b[0m\u001b[0;34m(\u001b[0m\u001b[0mstate\u001b[0m\u001b[0;34m,\u001b[0m \u001b[0mmemo\u001b[0m\u001b[0;34m)\u001b[0m\u001b[0;34m\u001b[0m\u001b[0m\n\u001b[0m\u001b[1;32m    335\u001b[0m         \u001b[0;32mif\u001b[0m \u001b[0mhasattr\u001b[0m\u001b[0;34m(\u001b[0m\u001b[0my\u001b[0m\u001b[0;34m,\u001b[0m \u001b[0;34m'__setstate__'\u001b[0m\u001b[0;34m)\u001b[0m\u001b[0;34m:\u001b[0m\u001b[0;34m\u001b[0m\u001b[0m\n\u001b[1;32m    336\u001b[0m             \u001b[0my\u001b[0m\u001b[0;34m.\u001b[0m\u001b[0m__setstate__\u001b[0m\u001b[0;34m(\u001b[0m\u001b[0mstate\u001b[0m\u001b[0;34m)\u001b[0m\u001b[0;34m\u001b[0m\u001b[0m\n",
      "\u001b[0;32m/System/Library/Frameworks/Python.framework/Versions/2.7/lib/python2.7/copy.pyc\u001b[0m in \u001b[0;36mdeepcopy\u001b[0;34m(x, memo, _nil)\u001b[0m\n\u001b[1;32m    161\u001b[0m     \u001b[0mcopier\u001b[0m \u001b[0;34m=\u001b[0m \u001b[0m_deepcopy_dispatch\u001b[0m\u001b[0;34m.\u001b[0m\u001b[0mget\u001b[0m\u001b[0;34m(\u001b[0m\u001b[0mcls\u001b[0m\u001b[0;34m)\u001b[0m\u001b[0;34m\u001b[0m\u001b[0m\n\u001b[1;32m    162\u001b[0m     \u001b[0;32mif\u001b[0m \u001b[0mcopier\u001b[0m\u001b[0;34m:\u001b[0m\u001b[0;34m\u001b[0m\u001b[0m\n\u001b[0;32m--> 163\u001b[0;31m         \u001b[0my\u001b[0m \u001b[0;34m=\u001b[0m \u001b[0mcopier\u001b[0m\u001b[0;34m(\u001b[0m\u001b[0mx\u001b[0m\u001b[0;34m,\u001b[0m \u001b[0mmemo\u001b[0m\u001b[0;34m)\u001b[0m\u001b[0;34m\u001b[0m\u001b[0m\n\u001b[0m\u001b[1;32m    164\u001b[0m     \u001b[0;32melse\u001b[0m\u001b[0;34m:\u001b[0m\u001b[0;34m\u001b[0m\u001b[0m\n\u001b[1;32m    165\u001b[0m         \u001b[0;32mtry\u001b[0m\u001b[0;34m:\u001b[0m\u001b[0;34m\u001b[0m\u001b[0m\n",
      "\u001b[0;32m/System/Library/Frameworks/Python.framework/Versions/2.7/lib/python2.7/copy.pyc\u001b[0m in \u001b[0;36m_deepcopy_dict\u001b[0;34m(x, memo)\u001b[0m\n\u001b[1;32m    255\u001b[0m     \u001b[0mmemo\u001b[0m\u001b[0;34m[\u001b[0m\u001b[0mid\u001b[0m\u001b[0;34m(\u001b[0m\u001b[0mx\u001b[0m\u001b[0;34m)\u001b[0m\u001b[0;34m]\u001b[0m \u001b[0;34m=\u001b[0m \u001b[0my\u001b[0m\u001b[0;34m\u001b[0m\u001b[0m\n\u001b[1;32m    256\u001b[0m     \u001b[0;32mfor\u001b[0m \u001b[0mkey\u001b[0m\u001b[0;34m,\u001b[0m \u001b[0mvalue\u001b[0m \u001b[0;32min\u001b[0m \u001b[0mx\u001b[0m\u001b[0;34m.\u001b[0m\u001b[0miteritems\u001b[0m\u001b[0;34m(\u001b[0m\u001b[0;34m)\u001b[0m\u001b[0;34m:\u001b[0m\u001b[0;34m\u001b[0m\u001b[0m\n\u001b[0;32m--> 257\u001b[0;31m         \u001b[0my\u001b[0m\u001b[0;34m[\u001b[0m\u001b[0mdeepcopy\u001b[0m\u001b[0;34m(\u001b[0m\u001b[0mkey\u001b[0m\u001b[0;34m,\u001b[0m \u001b[0mmemo\u001b[0m\u001b[0;34m)\u001b[0m\u001b[0;34m]\u001b[0m \u001b[0;34m=\u001b[0m \u001b[0mdeepcopy\u001b[0m\u001b[0;34m(\u001b[0m\u001b[0mvalue\u001b[0m\u001b[0;34m,\u001b[0m \u001b[0mmemo\u001b[0m\u001b[0;34m)\u001b[0m\u001b[0;34m\u001b[0m\u001b[0m\n\u001b[0m\u001b[1;32m    258\u001b[0m     \u001b[0;32mreturn\u001b[0m \u001b[0my\u001b[0m\u001b[0;34m\u001b[0m\u001b[0m\n\u001b[1;32m    259\u001b[0m \u001b[0md\u001b[0m\u001b[0;34m[\u001b[0m\u001b[0mdict\u001b[0m\u001b[0;34m]\u001b[0m \u001b[0;34m=\u001b[0m \u001b[0m_deepcopy_dict\u001b[0m\u001b[0;34m\u001b[0m\u001b[0m\n",
      "\u001b[0;32m/System/Library/Frameworks/Python.framework/Versions/2.7/lib/python2.7/copy.pyc\u001b[0m in \u001b[0;36mdeepcopy\u001b[0;34m(x, memo, _nil)\u001b[0m\n\u001b[1;32m    188\u001b[0m                             raise Error(\n\u001b[1;32m    189\u001b[0m                                 \"un(deep)copyable object of type %s\" % cls)\n\u001b[0;32m--> 190\u001b[0;31m                 \u001b[0my\u001b[0m \u001b[0;34m=\u001b[0m \u001b[0m_reconstruct\u001b[0m\u001b[0;34m(\u001b[0m\u001b[0mx\u001b[0m\u001b[0;34m,\u001b[0m \u001b[0mrv\u001b[0m\u001b[0;34m,\u001b[0m \u001b[0;36m1\u001b[0m\u001b[0;34m,\u001b[0m \u001b[0mmemo\u001b[0m\u001b[0;34m)\u001b[0m\u001b[0;34m\u001b[0m\u001b[0m\n\u001b[0m\u001b[1;32m    191\u001b[0m \u001b[0;34m\u001b[0m\u001b[0m\n\u001b[1;32m    192\u001b[0m     \u001b[0mmemo\u001b[0m\u001b[0;34m[\u001b[0m\u001b[0md\u001b[0m\u001b[0;34m]\u001b[0m \u001b[0;34m=\u001b[0m \u001b[0my\u001b[0m\u001b[0;34m\u001b[0m\u001b[0m\n",
      "\u001b[0;32m/System/Library/Frameworks/Python.framework/Versions/2.7/lib/python2.7/copy.pyc\u001b[0m in \u001b[0;36m_reconstruct\u001b[0;34m(x, info, deep, memo)\u001b[0m\n\u001b[1;32m    332\u001b[0m     \u001b[0;32mif\u001b[0m \u001b[0mstate\u001b[0m\u001b[0;34m:\u001b[0m\u001b[0;34m\u001b[0m\u001b[0m\n\u001b[1;32m    333\u001b[0m         \u001b[0;32mif\u001b[0m \u001b[0mdeep\u001b[0m\u001b[0;34m:\u001b[0m\u001b[0;34m\u001b[0m\u001b[0m\n\u001b[0;32m--> 334\u001b[0;31m             \u001b[0mstate\u001b[0m \u001b[0;34m=\u001b[0m \u001b[0mdeepcopy\u001b[0m\u001b[0;34m(\u001b[0m\u001b[0mstate\u001b[0m\u001b[0;34m,\u001b[0m \u001b[0mmemo\u001b[0m\u001b[0;34m)\u001b[0m\u001b[0;34m\u001b[0m\u001b[0m\n\u001b[0m\u001b[1;32m    335\u001b[0m         \u001b[0;32mif\u001b[0m \u001b[0mhasattr\u001b[0m\u001b[0;34m(\u001b[0m\u001b[0my\u001b[0m\u001b[0;34m,\u001b[0m \u001b[0;34m'__setstate__'\u001b[0m\u001b[0;34m)\u001b[0m\u001b[0;34m:\u001b[0m\u001b[0;34m\u001b[0m\u001b[0m\n\u001b[1;32m    336\u001b[0m             \u001b[0my\u001b[0m\u001b[0;34m.\u001b[0m\u001b[0m__setstate__\u001b[0m\u001b[0;34m(\u001b[0m\u001b[0mstate\u001b[0m\u001b[0;34m)\u001b[0m\u001b[0;34m\u001b[0m\u001b[0m\n",
      "\u001b[0;32m/System/Library/Frameworks/Python.framework/Versions/2.7/lib/python2.7/copy.pyc\u001b[0m in \u001b[0;36mdeepcopy\u001b[0;34m(x, memo, _nil)\u001b[0m\n\u001b[1;32m    161\u001b[0m     \u001b[0mcopier\u001b[0m \u001b[0;34m=\u001b[0m \u001b[0m_deepcopy_dispatch\u001b[0m\u001b[0;34m.\u001b[0m\u001b[0mget\u001b[0m\u001b[0;34m(\u001b[0m\u001b[0mcls\u001b[0m\u001b[0;34m)\u001b[0m\u001b[0;34m\u001b[0m\u001b[0m\n\u001b[1;32m    162\u001b[0m     \u001b[0;32mif\u001b[0m \u001b[0mcopier\u001b[0m\u001b[0;34m:\u001b[0m\u001b[0;34m\u001b[0m\u001b[0m\n\u001b[0;32m--> 163\u001b[0;31m         \u001b[0my\u001b[0m \u001b[0;34m=\u001b[0m \u001b[0mcopier\u001b[0m\u001b[0;34m(\u001b[0m\u001b[0mx\u001b[0m\u001b[0;34m,\u001b[0m \u001b[0mmemo\u001b[0m\u001b[0;34m)\u001b[0m\u001b[0;34m\u001b[0m\u001b[0m\n\u001b[0m\u001b[1;32m    164\u001b[0m     \u001b[0;32melse\u001b[0m\u001b[0;34m:\u001b[0m\u001b[0;34m\u001b[0m\u001b[0m\n\u001b[1;32m    165\u001b[0m         \u001b[0;32mtry\u001b[0m\u001b[0;34m:\u001b[0m\u001b[0;34m\u001b[0m\u001b[0m\n",
      "\u001b[0;32m/System/Library/Frameworks/Python.framework/Versions/2.7/lib/python2.7/copy.pyc\u001b[0m in \u001b[0;36m_deepcopy_dict\u001b[0;34m(x, memo)\u001b[0m\n\u001b[1;32m    255\u001b[0m     \u001b[0mmemo\u001b[0m\u001b[0;34m[\u001b[0m\u001b[0mid\u001b[0m\u001b[0;34m(\u001b[0m\u001b[0mx\u001b[0m\u001b[0;34m)\u001b[0m\u001b[0;34m]\u001b[0m \u001b[0;34m=\u001b[0m \u001b[0my\u001b[0m\u001b[0;34m\u001b[0m\u001b[0m\n\u001b[1;32m    256\u001b[0m     \u001b[0;32mfor\u001b[0m \u001b[0mkey\u001b[0m\u001b[0;34m,\u001b[0m \u001b[0mvalue\u001b[0m \u001b[0;32min\u001b[0m \u001b[0mx\u001b[0m\u001b[0;34m.\u001b[0m\u001b[0miteritems\u001b[0m\u001b[0;34m(\u001b[0m\u001b[0;34m)\u001b[0m\u001b[0;34m:\u001b[0m\u001b[0;34m\u001b[0m\u001b[0m\n\u001b[0;32m--> 257\u001b[0;31m         \u001b[0my\u001b[0m\u001b[0;34m[\u001b[0m\u001b[0mdeepcopy\u001b[0m\u001b[0;34m(\u001b[0m\u001b[0mkey\u001b[0m\u001b[0;34m,\u001b[0m \u001b[0mmemo\u001b[0m\u001b[0;34m)\u001b[0m\u001b[0;34m]\u001b[0m \u001b[0;34m=\u001b[0m \u001b[0mdeepcopy\u001b[0m\u001b[0;34m(\u001b[0m\u001b[0mvalue\u001b[0m\u001b[0;34m,\u001b[0m \u001b[0mmemo\u001b[0m\u001b[0;34m)\u001b[0m\u001b[0;34m\u001b[0m\u001b[0m\n\u001b[0m\u001b[1;32m    258\u001b[0m     \u001b[0;32mreturn\u001b[0m \u001b[0my\u001b[0m\u001b[0;34m\u001b[0m\u001b[0m\n\u001b[1;32m    259\u001b[0m \u001b[0md\u001b[0m\u001b[0;34m[\u001b[0m\u001b[0mdict\u001b[0m\u001b[0;34m]\u001b[0m \u001b[0;34m=\u001b[0m \u001b[0m_deepcopy_dict\u001b[0m\u001b[0;34m\u001b[0m\u001b[0m\n",
      "\u001b[0;32m/System/Library/Frameworks/Python.framework/Versions/2.7/lib/python2.7/copy.pyc\u001b[0m in \u001b[0;36mdeepcopy\u001b[0;34m(x, memo, _nil)\u001b[0m\n\u001b[1;32m    172\u001b[0m             \u001b[0mcopier\u001b[0m \u001b[0;34m=\u001b[0m \u001b[0mgetattr\u001b[0m\u001b[0;34m(\u001b[0m\u001b[0mx\u001b[0m\u001b[0;34m,\u001b[0m \u001b[0;34m\"__deepcopy__\"\u001b[0m\u001b[0;34m,\u001b[0m \u001b[0mNone\u001b[0m\u001b[0;34m)\u001b[0m\u001b[0;34m\u001b[0m\u001b[0m\n\u001b[1;32m    173\u001b[0m             \u001b[0;32mif\u001b[0m \u001b[0mcopier\u001b[0m\u001b[0;34m:\u001b[0m\u001b[0;34m\u001b[0m\u001b[0m\n\u001b[0;32m--> 174\u001b[0;31m                 \u001b[0my\u001b[0m \u001b[0;34m=\u001b[0m \u001b[0mcopier\u001b[0m\u001b[0;34m(\u001b[0m\u001b[0mmemo\u001b[0m\u001b[0;34m)\u001b[0m\u001b[0;34m\u001b[0m\u001b[0m\n\u001b[0m\u001b[1;32m    175\u001b[0m             \u001b[0;32melse\u001b[0m\u001b[0;34m:\u001b[0m\u001b[0;34m\u001b[0m\u001b[0m\n\u001b[1;32m    176\u001b[0m                 \u001b[0mreductor\u001b[0m \u001b[0;34m=\u001b[0m \u001b[0mdispatch_table\u001b[0m\u001b[0;34m.\u001b[0m\u001b[0mget\u001b[0m\u001b[0;34m(\u001b[0m\u001b[0mcls\u001b[0m\u001b[0;34m)\u001b[0m\u001b[0;34m\u001b[0m\u001b[0m\n",
      "\u001b[0;32m/Library/Python/2.7/site-packages/nipype/interfaces/base.pyc\u001b[0m in \u001b[0;36m__deepcopy__\u001b[0;34m(self, memo)\u001b[0m\n\u001b[1;32m    633\u001b[0m         \u001b[0;31m# clone twice\u001b[0m\u001b[0;34m\u001b[0m\u001b[0;34m\u001b[0m\u001b[0m\n\u001b[1;32m    634\u001b[0m         \u001b[0mdup\u001b[0m \u001b[0;34m=\u001b[0m \u001b[0mself\u001b[0m\u001b[0;34m.\u001b[0m\u001b[0mclone_traits\u001b[0m\u001b[0;34m(\u001b[0m\u001b[0mmemo\u001b[0m\u001b[0;34m=\u001b[0m\u001b[0mmemo\u001b[0m\u001b[0;34m)\u001b[0m\u001b[0;34m\u001b[0m\u001b[0m\n\u001b[0;32m--> 635\u001b[0;31m         \u001b[0mdup\u001b[0m\u001b[0;34m.\u001b[0m\u001b[0mset\u001b[0m\u001b[0;34m(\u001b[0m\u001b[0;34m**\u001b[0m\u001b[0mdup_dict\u001b[0m\u001b[0;34m)\u001b[0m\u001b[0;34m\u001b[0m\u001b[0m\n\u001b[0m\u001b[1;32m    636\u001b[0m         \u001b[0;32mreturn\u001b[0m \u001b[0mdup\u001b[0m\u001b[0;34m\u001b[0m\u001b[0m\n\u001b[1;32m    637\u001b[0m \u001b[0;34m\u001b[0m\u001b[0m\n",
      "\u001b[0;32m/Library/Python/2.7/site-packages/traits/has_traits.pyc\u001b[0m in \u001b[0;36mtrait_set\u001b[0;34m(self, trait_change_notify, **traits)\u001b[0m\n\u001b[1;32m   1539\u001b[0m         \u001b[0;32melse\u001b[0m\u001b[0;34m:\u001b[0m\u001b[0;34m\u001b[0m\u001b[0m\n\u001b[1;32m   1540\u001b[0m             \u001b[0;32mfor\u001b[0m \u001b[0mname\u001b[0m\u001b[0;34m,\u001b[0m \u001b[0mvalue\u001b[0m \u001b[0;32min\u001b[0m \u001b[0mtraits\u001b[0m\u001b[0;34m.\u001b[0m\u001b[0mitems\u001b[0m\u001b[0;34m(\u001b[0m\u001b[0;34m)\u001b[0m\u001b[0;34m:\u001b[0m\u001b[0;34m\u001b[0m\u001b[0m\n\u001b[0;32m-> 1541\u001b[0;31m                 \u001b[0msetattr\u001b[0m\u001b[0;34m(\u001b[0m \u001b[0mself\u001b[0m\u001b[0;34m,\u001b[0m \u001b[0mname\u001b[0m\u001b[0;34m,\u001b[0m \u001b[0mvalue\u001b[0m \u001b[0;34m)\u001b[0m\u001b[0;34m\u001b[0m\u001b[0m\n\u001b[0m\u001b[1;32m   1542\u001b[0m \u001b[0;34m\u001b[0m\u001b[0m\n\u001b[1;32m   1543\u001b[0m         \u001b[0;32mreturn\u001b[0m \u001b[0mself\u001b[0m\u001b[0;34m\u001b[0m\u001b[0m\n",
      "\u001b[0;32m/Library/Python/2.7/site-packages/traits/trait_handlers.pyc\u001b[0m in \u001b[0;36merror\u001b[0;34m(self, object, name, value)\u001b[0m\n\u001b[1;32m    170\u001b[0m         \"\"\"\n\u001b[1;32m    171\u001b[0m         raise TraitError( object, name, self.full_info( object, name, value ),\n\u001b[0;32m--> 172\u001b[0;31m                           value )\n\u001b[0m\u001b[1;32m    173\u001b[0m \u001b[0;34m\u001b[0m\u001b[0m\n\u001b[1;32m    174\u001b[0m     \u001b[0;32mdef\u001b[0m \u001b[0mfull_info\u001b[0m \u001b[0;34m(\u001b[0m \u001b[0mself\u001b[0m\u001b[0;34m,\u001b[0m \u001b[0mobject\u001b[0m\u001b[0;34m,\u001b[0m \u001b[0mname\u001b[0m\u001b[0;34m,\u001b[0m \u001b[0mvalue\u001b[0m \u001b[0;34m)\u001b[0m\u001b[0;34m:\u001b[0m\u001b[0;34m\u001b[0m\u001b[0m\n",
      "\u001b[0;31mTraitError\u001b[0m: The 'trait_added' trait of a DynamicTraitedSpec instance must be a basestring or None, but a value of <undefined> <class 'traits.trait_base._Undefined'> was specified."
     ]
    }
   ],
   "source": [
    "#fileNames.keys()\n",
    "wf.run('MultiProc', plugin_args={'n_procs': 2})"
   ]
  },
  {
   "cell_type": "markdown",
   "metadata": {
    "collapsed": true
   },
   "source": [
    "### Plot the workflow graph"
   ]
  },
  {
   "cell_type": "code",
   "execution_count": null,
   "metadata": {
    "collapsed": false,
    "scrolled": false
   },
   "outputs": [],
   "source": [
    "#wf.write_graph(\"workflow_graph.png\", graph2use='colored')\n",
    "#from IPython.display import Image\n",
    "#Image(filename=\"workflow_graph.dot.png\")"
   ]
  }
 ],
 "metadata": {
  "kernelspec": {
   "display_name": "Python 2",
   "language": "python",
   "name": "python2"
  },
  "language_info": {
   "codemirror_mode": {
    "name": "ipython",
    "version": 2
   },
   "file_extension": ".py",
   "mimetype": "text/x-python",
   "name": "python",
   "nbconvert_exporter": "python",
   "pygments_lexer": "ipython2",
   "version": "2.7.10"
  }
 },
 "nbformat": 4,
 "nbformat_minor": 0
}
