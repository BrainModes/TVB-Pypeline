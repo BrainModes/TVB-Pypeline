{
 "cells": [
  {
   "cell_type": "markdown",
   "metadata": {},
   "source": [
    "#### Handle the imports"
   ]
  },
  {
   "cell_type": "code",
   "execution_count": 1,
   "metadata": {
    "collapsed": false
   },
   "outputs": [],
   "source": [
    "from nipype import Node, Workflow\n",
    "from nipype.interfaces.utility import IdentityInterface, Function\n",
    "from nipype.interfaces import freesurfer, fsl, mrtrix\n",
    "from nipype.interfaces.dcm2nii import Dcm2nii\n",
    "from nipype.interfaces.io import DataFinder"
   ]
  },
  {
   "cell_type": "code",
   "execution_count": 2,
   "metadata": {
    "collapsed": true
   },
   "outputs": [],
   "source": [
    "from multiprocessing import cpu_count\n",
    "import numpy as np\n",
    "import logging"
   ]
  },
  {
   "cell_type": "markdown",
   "metadata": {},
   "source": [
    "#### Define a function for the preprocessing workflow"
   ]
  },
  {
   "cell_type": "code",
   "execution_count": null,
   "metadata": {
    "collapsed": false
   },
   "outputs": [],
   "source": [
    "# def preproc_sub(subject_folder, subject_id):"
   ]
  },
  {
   "cell_type": "markdown",
   "metadata": {},
   "source": [
    "#### Start the logging"
   ]
  },
  {
   "cell_type": "code",
   "execution_count": 3,
   "metadata": {
    "collapsed": false
   },
   "outputs": [],
   "source": [
    "logger = logging.getLogger('interface')\n",
    "logger.setLevel(logging.DEBUG)\n",
    "# create console handler and set level to debug\n",
    "ch = logging.StreamHandler()\n",
    "ch.setLevel(logging.INFO)\n",
    "# create formatter\n",
    "formatter = logging.Formatter('%(asctime)s - %(levelname)s - %(message)s')\n",
    "# add formatter to ch\n",
    "ch.setFormatter(formatter)\n",
    "# add ch to logger\n",
    "logger.addHandler(ch)"
   ]
  },
  {
   "cell_type": "markdown",
   "metadata": {},
   "source": [
    "#### Define the later function variables in hard-code for debuging"
   ]
  },
  {
   "cell_type": "code",
   "execution_count": 4,
   "metadata": {
    "collapsed": true
   },
   "outputs": [],
   "source": [
    "subject_folder = '/Users/srothmei/Desktop/charite/toronto/'\n",
    "subject_id = 'FR_20120903'"
   ]
  },
  {
   "cell_type": "markdown",
   "metadata": {},
   "source": [
    "### Define Inputnode and Outputnode"
   ]
  },
  {
   "cell_type": "code",
   "execution_count": 5,
   "metadata": {
    "collapsed": false
   },
   "outputs": [],
   "source": [
    "inputNode = Node(IdentityInterface(fields=['subject_id', 'subject_folder']), mandatory_inputs=True, name='input')\n",
    "inputNode.inputs.subject_id = subject_id\n",
    "inputNode.inputs.subject_folder = subject_folder\n",
    "\n",
    "# TODO: Define Output node"
   ]
  },
  {
   "cell_type": "markdown",
   "metadata": {},
   "source": [
    "## Set parameters and build variables"
   ]
  },
  {
   "cell_type": "code",
   "execution_count": 45,
   "metadata": {
    "collapsed": true
   },
   "outputs": [],
   "source": [
    "reconallFolderName = 'recon_all' # Define what the output folder of recon-all should be named\n",
    "\n",
    "def pathBuilder(subject_folder, subject_id):\n",
    "    subPath = subject_folder + '/' + subject_id # Build full path to subject folder\n",
    "    \n",
    "    # RawData Structure\n",
    "    rawdataFolder = subPath + '/RAWDATA' # Define the path to the folder holding the rawdata dicom-files\n",
    "    T1RawFolder = rawdataFolder + '/MPRAGE/' # The T1 rawdata folder\n",
    "    dwiRawFolder = rawdataFolder + '/DTI' # The dwMRI rawdata folder\n",
    "    fmriRawFolder = rawdataFolder + '/BOLD-EPI/' # The fMRI rawdata folder\n",
    "    \n",
    "    return subPath, rawdataFolder, T1RawFolder, dwiRawFolder, fmriRawFolder\n",
    "\n",
    "pathBuildingNode = Node(Function(input_names = ['subject_folder', 'subject_id'],\n",
    "                                output_names = ['subPath', 'rawdataFolder', 'T1RawFolder',\n",
    "                                                'dwiRawFolder', 'fmriRawFolder'],\n",
    "                                function = pathBuilder),\n",
    "                        name='pathBuilder')"
   ]
  },
  {
   "cell_type": "code",
   "execution_count": 7,
   "metadata": {
    "collapsed": false
   },
   "outputs": [
    {
     "name": "stderr",
     "output_type": "stream",
     "text": [
      "2015-10-31 18:45:48,877 - INFO - Start the preprocessing for subject FR_20120903\n",
      "INFO:interface:Start the preprocessing for subject FR_20120903\n"
     ]
    }
   ],
   "source": [
    "logger.info('Start the preprocessing for subject ' + subject_id)"
   ]
  },
  {
   "cell_type": "markdown",
   "metadata": {},
   "source": [
    "### Structural Data (T1) preprocessing"
   ]
  },
  {
   "cell_type": "code",
   "execution_count": 41,
   "metadata": {
    "collapsed": false
   },
   "outputs": [
    {
     "name": "stderr",
     "output_type": "stream",
     "text": [
      "2015-10-31 19:11:13,239 - INFO - Start recon_all\n",
      "INFO:interface:Start recon_all\n"
     ]
    }
   ],
   "source": [
    "logger.info('Start recon_all')\n",
    "\n",
    "# Setup a datafinder to find the paths to the specific DICOM files\n",
    "t1FinderNode = Node(DataFinder(), name = 't1Finder')\n",
    "t1FinderNode.inputs.match_regex = '.*\\.dcm'\n",
    "#df = DataFinder(root_paths = T1RawFolder, match_regex = '.*\\.dcm')\n",
    "#firstFile = df.run().outputs.out_paths[0]\n",
    "\n",
    "# Set recon-all parameters\n",
    "reconallNode = Node(freesurfer.preprocess.ReconAll(), name = 'reconall')\n",
    "#reconallNode.inputs.T1_files = firstFile\n",
    "#reconallNode.inputs.subjects_dir = subPath\n",
    "reconallNode.inputs.subject_id = reconallFolderName\n",
    "reconallNode.inputs.directive = 'all'\n",
    "reconallNode.inputs.openmp = cpu_count()\n",
    "\n",
    "# Convert the T1 mgz image to nifti format for later usage\n",
    "mriConverter = Node(freesurfer.preprocess.MRIConvert(), name = 'convertAparcAseg')\n",
    "#convertT1.inputs.out_file = subPath + reconallFolderName + '/mri/aparc+aseg.nii.gz'\n",
    "mriConverter.inputs.out_type = 'niigz'\n",
    "mriConverter.inputs.out_orientation = 'RAS'"
   ]
  },
  {
   "cell_type": "markdown",
   "metadata": {},
   "source": [
    "### Diffusion Data (dwMRI) preprocessing"
   ]
  },
  {
   "cell_type": "code",
   "execution_count": 42,
   "metadata": {
    "collapsed": false
   },
   "outputs": [
    {
     "name": "stderr",
     "output_type": "stream",
     "text": [
      "2015-10-31 19:11:19,083 - INFO - Start dt_recon\n",
      "INFO:interface:Start dt_recon\n"
     ]
    }
   ],
   "source": [
    "logger.info('Start dt_recon')\n",
    "\n",
    "# First extract the diffusion vectors and the pulse intensity (bvec and bval)\n",
    "# Use dcm2nii for this task\n",
    "dwiFinderNode = t1FinderNode.clone('dwiFinder')\n",
    "\n",
    "dcm2niiNode = Node(Dcm2nii(), name = 'dcm2nii')\n",
    "#converter.inputs.source_names = dwMriDicoms\n",
    "dcm2niiNode.inputs.gzip_output = True\n",
    "#converter.inputs.output_dir = dwiRawFolder\n"
   ]
  },
  {
   "cell_type": "markdown",
   "metadata": {},
   "source": [
    "### Connect the Nodes"
   ]
  },
  {
   "cell_type": "code",
   "execution_count": 47,
   "metadata": {
    "collapsed": false
   },
   "outputs": [],
   "source": [
    "wf = Workflow(name = 'preprocSub')\n",
    "\n",
    "# Input strings to pathbuilder\n",
    "wf.connect([(inputNode, pathBuildingNode, [('subject_id', 'subject_id'),\n",
    "                                          ('subject_folder', 'subject_folder')])])\n",
    "# T1-Rawdata-path into dataFinder to find T1 DICOMs\n",
    "wf.connect(pathBuildingNode, 'T1RawFolder', dataFinderNode, 'root_paths')\n",
    "# T1 DICOM-paths into recon_all\n",
    "wf.connect(dataFinderNode, 'out_paths', reconallNode, 'T1_files')\n",
    "# aparc+aseg into mriConverter\n",
    "wf.connect(reconallNode, 'aparc_aseg', mriConverter, 'in_file')\n",
    "\n",
    "# Now insert the dwMRI RAWDATA path into the pathfinder\n",
    "wf.connect(pathBuildingNode, 'dwiRawFolder', dwiFinderNode, 'root_paths')\n",
    "# Take the findings and insert them into dcm2nii\n",
    "wf.connect(dwiFinderNode, 'out_paths', dcm2niiNode, 'source_names')"
   ]
  },
  {
   "cell_type": "code",
   "execution_count": 28,
   "metadata": {
    "collapsed": false
   },
   "outputs": [],
   "source": []
  },
  {
   "cell_type": "markdown",
   "metadata": {
    "collapsed": true
   },
   "source": [
    "### Plot the workflow graph"
   ]
  },
  {
   "cell_type": "code",
   "execution_count": 48,
   "metadata": {
    "collapsed": false,
    "scrolled": true
   },
   "outputs": [
    {
     "name": "stderr",
     "output_type": "stream",
     "text": [
      "DEBUG:interface:{'DISPLAY': ':1'}\n",
      "INFO:workflow:Converting dotfile: /Users/srothmei/Documents/TVB-Pypeline/notebooks/workflow_graph.dot to png format\n"
     ]
    },
    {
     "data": {
      "image/png": "[encoded data removed]",
      "text/plain": [
       "<IPython.core.display.Image object>"
      ]
     },
     "execution_count": 48,
     "metadata": {},
     "output_type": "execute_result"
    }
   ],
   "source": [
    "wf.write_graph(\"workflow_graph.dot\")\n",
    "from IPython.display import Image\n",
    "Image(filename=\"workflow_graph.dot.png\")\n",
    "#from matplotlib import image as Image\n",
    "#print(wf.write_graph.__doc__)"
   ]
  },
  {
   "cell_type": "code",
   "execution_count": null,
   "metadata": {
    "collapsed": true
   },
   "outputs": [],
   "source": []
  }
 ],
 "metadata": {
  "kernelspec": {
   "display_name": "Python 2",
   "language": "python",
   "name": "python2"
  },
  "language_info": {
   "codemirror_mode": {
    "name": "ipython",
    "version": 2
   },
   "file_extension": ".py",
   "mimetype": "text/x-python",
   "name": "python",
   "nbconvert_exporter": "python",
   "pygments_lexer": "ipython2",
   "version": "2.7.10"
  }
 },
 "nbformat": 4,
 "nbformat_minor": 0
}
