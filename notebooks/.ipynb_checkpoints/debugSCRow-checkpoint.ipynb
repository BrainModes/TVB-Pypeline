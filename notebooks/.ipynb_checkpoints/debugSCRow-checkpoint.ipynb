{
 "cells": [
  {
   "cell_type": "code",
   "execution_count": 1,
   "metadata": {
    "collapsed": true
   },
   "outputs": [],
   "source": [
    "import numpy as np\n",
    "import sys, os\n",
    "funcPath = '/Users/srothmei/Documents/TVB-Pypeline'\n",
    "sys.path.append(funcPath)\n",
    "\n",
    "import bm_functions as brainmodes\n",
    "\n",
    "debugPath = '/Users/srothmei/Desktop/charite/toronto/Adalberto/debug/'"
   ]
  },
  {
   "cell_type": "code",
   "execution_count": 2,
   "metadata": {
    "collapsed": false
   },
   "outputs": [],
   "source": [
    "wmBorder_file = debugPath + 'wmborder.npy'\n",
    "\n",
    "#wmborder = np.load(wmBorder_file)"
   ]
  },
  {
   "cell_type": "code",
   "execution_count": 3,
   "metadata": {
    "collapsed": false
   },
   "outputs": [],
   "source": [
    "affine_matrix_file = debugPath + 'affine_matrix.npy'\n",
    "\n",
    "affine_matrix = np.load(affine_matrix_file)"
   ]
  },
  {
   "cell_type": "code",
   "execution_count": 4,
   "metadata": {
    "collapsed": true
   },
   "outputs": [],
   "source": [
    "roi = 1\n",
    "subid = 'Adalberto'\n",
    "tracksPath = debugPath"
   ]
  },
  {
   "cell_type": "code",
   "execution_count": 5,
   "metadata": {
    "collapsed": false
   },
   "outputs": [
    {
     "name": "stderr",
     "output_type": "stream",
     "text": [
      "INFO:workflow:Executing node tckFinder in dir: /var/folders/tg/2g576vk174s3m9znw1sgjpbm0000gn/T/tmpDoUq4o/tckFinder\n"
     ]
    }
   ],
   "source": [
    "from nipype import Node\n",
    "from nipype.interfaces.io import DataFinder\n",
    "tckFinder = Node(DataFinder(match_regex = '.*\\.npy', root_paths = tracksPath), name = 'tckFinder')\n",
    "\n",
    "res = tckFinder.run()\n",
    "track_files = res.outputs.out_paths"
   ]
  },
  {
   "cell_type": "code",
   "execution_count": 6,
   "metadata": {
    "collapsed": false
   },
   "outputs": [
    {
     "name": "stdout",
     "output_type": "stream",
     "text": [
      "Computing SC for ROI 1\n",
      "Generate ROI-ID to voxel hashtable...\n",
      "/Users/srothmei/Desktop/charite/toronto/Adalberto/debug/10011_tracks.npy: Tracks loaded .....\n",
      "/Users/srothmei/Desktop/charite/toronto/Adalberto/debug/10012_tracks.npy: Tracks loaded .....\n",
      "/Users/srothmei/Desktop/charite/toronto/Adalberto/debug/10013_tracks.npy: Tracks loaded .....\n",
      "Storing....\n",
      "Done!\n"
     ]
    },
    {
     "data": {
      "text/plain": [
       "('/Users/srothmei/Desktop/charite/toronto/Adalberto/debug/SC_cap_row_1Adalberto.json',\n",
       " '/Users/srothmei/Desktop/charite/toronto/Adalberto/debug/SC_dist_row_1Adalberto.json')"
      ]
     },
     "execution_count": 6,
     "metadata": {},
     "output_type": "execute_result"
    }
   ],
   "source": [
    "brainmodes.compute_connectivity_row(roi, subid, affine_matrix, wmborder, tracksPath, track_files)"
   ]
  },
  {
   "cell_type": "code",
   "execution_count": 64,
   "metadata": {
    "collapsed": false
   },
   "outputs": [
    {
     "name": "stdout",
     "output_type": "stream",
     "text": [
      "Test\n",
      "Generate ROI-ID to voxel hashtable...\n"
     ]
    }
   ],
   "source": [
    "    region_table = np.unique(wmborder[wmborder > 0]).astype(int)\n",
    "    region_table = region_table.tolist()\n",
    "    print('Test')\n",
    "    # Generate ROI-ID to voxel hashtable\n",
    "    print('Generate ROI-ID to voxel hashtable...')\n",
    "    region_id_table = np.array((0, 0)).astype('int16')  # Init Variable\n",
    "    for regid in region_table:\n",
    "        tmpids = np.ravel_multi_index(np.nonzero(wmborder == regid), wmborder.shape, order='F')\n",
    "        tmpids.sort()\n",
    "        tmpids = np.vstack((np.ones_like(tmpids) * regid, tmpids))\n",
    "        region_id_table = np.vstack((region_id_table, np.transpose(tmpids)))\n",
    "    region_id_table = region_id_table[1:, :].astype(int)"
   ]
  },
  {
   "cell_type": "code",
   "execution_count": 91,
   "metadata": {
    "collapsed": false
   },
   "outputs": [
    {
     "name": "stdout",
     "output_type": "stream",
     "text": [
      "<type 'list'>\n",
      "/Users/srothmei/Desktop/charite/toronto/Adalberto/debug/10011_tracks.npy\n"
     ]
    }
   ],
   "source": [
    "import re\n",
    "from os.path import basename\n",
    "tileFiles = list()\n",
    "for trackFile in track_files:\n",
    "    #print(basename(trackFile))\n",
    "        # Select only files that have max. of 2 trailing number depicting the ordering...\n",
    "        # i.e. don't select files like '10012_subID.tck' when processing for region 10...\n",
    "    if re.search(\"^\" + str(region_table[roi - 1]) + \"\\d{1,2}_.*\\.npy$\", basename(trackFile)):\n",
    "        tileFiles.append(trackFile)\n",
    "            \n",
    "print type(tileFiles)\n",
    "print tileFiles[0]"
   ]
  },
  {
   "cell_type": "code",
   "execution_count": 90,
   "metadata": {
    "collapsed": false
   },
   "outputs": [
    {
     "data": {
      "text/plain": [
       "array([[   1001, 4683174],\n",
       "       [   1001, 4683175],\n",
       "       [   1001, 4683176],\n",
       "       [   1001, 4683432],\n",
       "       [   1001, 4683433],\n",
       "       [   1001, 4746920],\n",
       "       [   1001, 4746921],\n",
       "       [   1001, 4746922],\n",
       "       [   1001, 4746923]])"
      ]
     },
     "execution_count": 90,
     "metadata": {},
     "output_type": "execute_result"
    }
   ],
   "source": [
    "region_id_table[1:10,:]"
   ]
  },
  {
   "cell_type": "code",
   "execution_count": 94,
   "metadata": {
    "collapsed": false
   },
   "outputs": [],
   "source": [
    "def tck2voxel_cluster(tck, affineMatrix):\n",
    "    from numpy import hstack, round, dot, ones, shape, transpose\n",
    "\n",
    "    # Loop over all tracks in the data structure\n",
    "    for i in range(shape(tck)[0]):\n",
    "        # Transform the coordinates by multiplying the affine matrix with the coords\n",
    "        # => First add a column of 1 to the right side of the matrix\n",
    "        zw = hstack((tck[i], ones((shape(tck[i])[0], 1))))\n",
    "        # => Second multiply the actual matrices\n",
    "        zw = round(dot(zw, transpose(affineMatrix)))\n",
    "        # => Third store the result excluding the righthand-side column\n",
    "        tck[i] = zw[:, :3].astype('int16')\n",
    "\n",
    "    return tck\n",
    "\n",
    "tile = tileFiles[0]\n",
    "tracks_header = np.load(tile).item()\n",
    "tracks_header['tracks'] = tck2voxel_cluster(tracks_header['tracks'], affine_matrix)\n"
   ]
  },
  {
   "cell_type": "code",
   "execution_count": 102,
   "metadata": {
    "collapsed": false
   },
   "outputs": [
    {
     "name": "stdout",
     "output_type": "stream",
     "text": [
      "[ 1001.  1001.  1001.  1001.  1001.  1001.  1001.  1001.  1001.  1001.\n",
      "  1001.  1001.  1001.  1001.     0.     0.     0.     0.     0.     0.\n",
      "     0.     0.     0.     0.     0.     0.     0.     0.     0.     0.\n",
      "     0.     0.     0.     0.     0.     0.     0.     0.     0.     0.\n",
      "     0.     0.     0.     0.     0.     0.     0.     0.     0.     0.\n",
      "     0.     0.     0.     0.     0.     0.     0.     0.     0.     0.\n",
      "     0.     0.     0.     0.     0.     0.     0.     0.     0.     0.\n",
      "     0.     0.     0.     0.     0.     0.     0.     0.     0.     0.\n",
      "     0.     0.     0.     0.     0.     0.     0.     0.     0.     0.\n",
      "     0.     0.     0.     0.     0.     0.     0.     0.     0.     0.\n",
      "     0.     0.     0.     0.     0.     0.     0.     0.     0.     0.\n",
      "     0.     0.     0.     0.     0.     0.     0.     0.     0.     0.\n",
      "     0.     0.     0.     0.     0.     0.     0.     0.     0.     0.\n",
      "     0.     0.     0.     0.     0.     0.     0.     0.     0.     0.\n",
      "     0.     0.     0.     0.     0.     0.     0.     0.     0.     0.\n",
      "     0.     0.     0.     0.     0.     0.     0.     0.     0.     0.\n",
      "     0.     0.     0.     0.     0.     0.     0.     0.     0.     0.\n",
      "     0.     0.     0.     0.     0.     0.     0.     0.     0.     0.\n",
      "     0.     0.     0.     0.     0.     0.     0.     0.     0.     0.\n",
      "     0.  1008.]\n",
      "[ 0  1  2  3  4  5  6  7  8  9 10 11 12 13]\n",
      "[4945834 4945834 4945834 4945833 4945833 4945833 4945833 4945833 4945833\n",
      " 4945832 4945832 4945832 4945832 4945832 4945831 4945831 4945831 4945831\n",
      " 4945831 4945830 4945830 4945830 4880550 4880550 4880550 4880549 4880549\n",
      " 4880549 4880549 4880549 4880549 4880548 4815012 4815012 4815012 4815012\n",
      " 4815012 4815012 4815011 4749475 4749475 4749475 4749475 4749475 4749475\n",
      " 4749475 4683939 4683938 4683682 4683682 4683682 4683682 4683682 4618146\n",
      " 4618145 4618145 4618145 4618145 4618145 4552609 4552609 4552609 4552609\n",
      " 4552609 4552609 4552352 4486816 4486816 4486816 4486816 4486816 4486816\n",
      " 4486815 4486815 4421279 4421279 4421279 4421279 4421279 4421279 4355487\n",
      " 4355486 4355486 4355486 4355486 4355486 4289950 4289950 4289950 4289950\n",
      " 4289694 4289694 4289694 4289694 4289694 4224158 4224158 4223902 4223901\n",
      " 4223901 4223901 4223901 4158365 4158365 4158109 4158109 4158109 4158109\n",
      " 4158109 4092573 4092573 4092317 4092318 4092318 4092318 4092318 4026782\n",
      " 4026782 4026782 4026526 4026526 4026526 4026526 4026526 3960990 3960734\n",
      " 3960734 3960734 3960734 3960734 3960734 3960478 3960479 3960479 3960479\n",
      " 3960479 3960223 3960223 3960223 3960223 3960223 3959967 3959967 3894431\n",
      " 3894430 3894430 3894430 3894430 3894174 3894174 3894174 3894174 3894174\n",
      " 3894174 3893917 3893917 3828381 3828381 3828381 3828381 3828381 3828125\n",
      " 3828125 3828124 3828124 3828124 3828124 3762588 3762588 3762587 3762587\n",
      " 3762587 3762587 3762587 3697051 3697051 3697051 3697050 3697050 3696794\n",
      " 3696794 3696794 3631258 3631258 3631257 3631257 3631257 3631257 3631257\n",
      " 3631257 3631256 3565720]\n"
     ]
    }
   ],
   "source": [
    "for trackind in range(np.shape(tracks_header['tracks'])[0]):\n",
    "    inRegIDs = wmborder[tracks_header['tracks'][trackind][:, 0], tracks_header['tracks'][trackind][:, 1], tracks_header['tracks'][trackind][:, 2]]\n",
    "    print inRegIDs\n",
    "    inRegLin = np.flatnonzero(inRegIDs[:-1])\n",
    "    print np.flatnonzero(inRegIDs[:-1])\n",
    "    pathIndices = np.ravel_multi_index(\n",
    "                    (tracks_header['tracks'][trackind][:, 0], tracks_header['tracks'][trackind][:, 1], tracks_header['tracks'][trackind][:, 2]), np.shape(wmborder),\n",
    "                    order='F')\n",
    "    print pathIndices\n",
    "    break"
   ]
  },
  {
   "cell_type": "code",
   "execution_count": 166,
   "metadata": {
    "collapsed": false
   },
   "outputs": [
    {
     "name": "stdout",
     "output_type": "stream",
     "text": [
      "[1001 1001 1001 1001 1001 1001 1001 1001 1001 1001 1001 1001 1001 1001 1008]\n",
      "[157, 157, 157, 156, 156, 156, 156, 156, 156, 155, 155, 155, 155, 155, 10573]\n",
      "155\n",
      "155\n"
     ]
    }
   ],
   "source": [
    "foo = [np.where(region_id_table[:,1] == x)[0][0] for x in pathIndices if np.where(region_id_table[:,1] == x)[0]]\n",
    "inRegIDs = region_id_table[foo,0]\n",
    "print inRegIDs\n",
    "print foo\n",
    "inRegLin2 = range(len(region_id_table[foo,0])-1)\n",
    "print np.flatnonzero(region_id_table[:, 1] == pathIndices[inRegLin2[-1]])[0]\n",
    "print foo[inRegLin2[-1]]"
   ]
  },
  {
   "cell_type": "code",
   "execution_count": 149,
   "metadata": {
    "collapsed": false
   },
   "outputs": [
    {
     "name": "stdout",
     "output_type": "stream",
     "text": [
      "Besart\n"
     ]
    }
   ],
   "source": [
    "if np.where(region_id_table[:,1] == pathIndices[0])[0]:\n",
    "    print \"Besart\""
   ]
  },
  {
   "cell_type": "code",
   "execution_count": 190,
   "metadata": {
    "collapsed": false
   },
   "outputs": [
    {
     "name": "stdout",
     "output_type": "stream",
     "text": [
      "<type 'str'>\n",
      "<type 'numpy.ndarray'>\n",
      "<type 'int'>\n",
      "{'off_seed': 0, 'expected_tracks': 211600, 'too_short': 0, 'good_tracks': 0, 'wrong_seed': 0, 'wrong_target': 0, 'generated_tracks': 0}\n"
     ]
    }
   ],
   "source": [
    "wmborder = \"/Users/srothmei/Desktop/charite/temp/wmborder.npy\"\n",
    "print type(wmborder)\n",
    "wmborder = np.load(wmborder)\n",
    "print type(wmborder)\n",
    "region_table = np.unique(wmborder[wmborder > 0]).astype('int32')\n",
    "region_table = region_table.tolist()\n",
    "\n",
    "print type(int(np.count_nonzero(wmborder == region_table[roi - 1]) * 200))\n",
    "qualityMetrics = {'off_seed': 0, 'too_short': 0, 'good_tracks': 0, 'wrong_seed': 0,\n",
    "                      'expected_tracks': np.count_nonzero(wmborder == region_table[roi - 1]) * 200, 'wrong_target': 0,\n",
    "                      'generated_tracks': 0}\n",
    "print qualityMetrics"
   ]
  },
  {
   "cell_type": "code",
   "execution_count": 191,
   "metadata": {
    "collapsed": false
   },
   "outputs": [
    {
     "data": {
      "text/plain": [
       "1001"
      ]
     },
     "execution_count": 191,
     "metadata": {},
     "output_type": "execute_result"
    }
   ],
   "source": [
    "region_table[roi -1]"
   ]
  },
  {
   "cell_type": "code",
   "execution_count": null,
   "metadata": {
    "collapsed": true
   },
   "outputs": [],
   "source": []
  }
 ],
 "metadata": {
  "kernelspec": {
   "display_name": "Python 2",
   "language": "python",
   "name": "python2"
  },
  "language_info": {
   "codemirror_mode": {
    "name": "ipython",
    "version": 2
   },
   "file_extension": ".py",
   "mimetype": "text/x-python",
   "name": "python",
   "nbconvert_exporter": "python",
   "pygments_lexer": "ipython2",
   "version": "2.7.10"
  }
 },
 "nbformat": 4,
 "nbformat_minor": 0
}
