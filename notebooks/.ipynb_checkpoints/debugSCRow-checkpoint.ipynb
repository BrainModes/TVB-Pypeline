{
 "cells": [
  {
   "cell_type": "code",
   "execution_count": null,
   "metadata": {
    "collapsed": true
   },
   "outputs": [],
   "source": [
    "import numpy as np\n",
    "import sys, os\n",
    "funcPath = '/Users/srothmei/Documents/TVB-Pypeline'\n",
    "sys.path.append(funcPath)\n",
    "\n",
    "import bm_functions as brainmodes"
   ]
  },
  {
   "cell_type": "code",
   "execution_count": null,
   "metadata": {
    "collapsed": false
   },
   "outputs": [],
   "source": [
    "wmBorder_file = '/Users/srothmei/Desktop/charite/toronto/AJ_20140516_1600/mrtrix_68/masks_68/wmborder.npy'\n",
    "\n",
    "wmborder = np.load(wmBorder_file)"
   ]
  },
  {
   "cell_type": "code",
   "execution_count": null,
   "metadata": {
    "collapsed": false
   },
   "outputs": [],
   "source": [
    "affine_matrix_file = '/Users/srothmei/Desktop/charite/toronto/AJ_20140516_1600/mrtrix_68/masks_68/affine_matrix.npy'\n",
    "\n",
    "affine_matrix = np.load(affine_matrix_file)"
   ]
  },
  {
   "cell_type": "code",
   "execution_count": null,
   "metadata": {
    "collapsed": true
   },
   "outputs": [],
   "source": [
    "roi = 1\n",
    "subid = 'AJ_20140516_1600'\n",
    "tracksPath = '/Users/srothmei/Desktop/charite/toronto/AJ_20140516_1600/mrtrix_68/tracks_68/'"
   ]
  },
  {
   "cell_type": "code",
   "execution_count": null,
   "metadata": {
    "collapsed": false
   },
   "outputs": [],
   "source": [
    "from nipype import Node\n",
    "from nipype.interfaces.io import DataFinder\n",
    "tckFinder = Node(DataFinder(match_regex = '.*\\.trk', root_paths = tracksPath), name = 'tckFinder')\n",
    "\n",
    "res = tckFinder.run()\n",
    "track_files = res.outputs.out_paths"
   ]
  },
  {
   "cell_type": "code",
   "execution_count": null,
   "metadata": {
    "collapsed": false
   },
   "outputs": [],
   "source": [
    "brainmodes.compute_connectivity_row(roi, subid, affine_matrix, wmborder, tracksPath, track_files)"
   ]
  },
  {
   "cell_type": "code",
   "execution_count": null,
   "metadata": {
    "collapsed": false
   },
   "outputs": [],
   "source": [
    "    region_table = np.unique(wmborder[wmborder > 0]).astype(int)\n",
    "    region_table = region_table.tolist()\n",
    "    print('Test')\n",
    "    # Generate ROI-ID to voxel hashtable\n",
    "    print('Generate ROI-ID to voxel hashtable...')\n",
    "    region_id_table = np.array((0, 0))  # Init Variable\n",
    "    for regid in region_table:\n",
    "        tmpids = np.ravel_multi_index(np.nonzero(wmborder == regid), wmborder.shape, order='F')\n",
    "        tmpids.sort()\n",
    "        tmpids = np.vstack((np.ones_like(tmpids) * regid, tmpids))\n",
    "        region_id_table = np.vstack((region_id_table, np.transpose(tmpids)))\n",
    "    region_id_table = region_id_table[1:, :].astype(int)"
   ]
  },
  {
   "cell_type": "code",
   "execution_count": null,
   "metadata": {
    "collapsed": false
   },
   "outputs": [],
   "source": [
    "import re\n",
    "from os.path import basename\n",
    "tileFiles = list()\n",
    "for trackFile in track_files:\n",
    "    #print(basename(trackFile))\n",
    "        # Select only files that have max. of 2 trailing number depicting the ordering...\n",
    "        # i.e. don't select files like '10012_subID.tck' when processing for region 10...\n",
    "    if re.search(\"^\" + str(region_table[roi - 1]) + \"\\d{1,2}_.*\\.trk$\", basename(trackFile)):\n",
    "        tileFiles.append(trackFile)\n",
    "            \n",
    "print tileFiles"
   ]
  },
  {
   "cell_type": "code",
   "execution_count": null,
   "metadata": {
    "collapsed": true
   },
   "outputs": [],
   "source": []
  }
 ],
 "metadata": {
  "kernelspec": {
   "display_name": "Python 2",
   "language": "python",
   "name": "python2"
  },
  "language_info": {
   "codemirror_mode": {
    "name": "ipython",
    "version": 2
   },
   "file_extension": ".py",
   "mimetype": "text/x-python",
   "name": "python",
   "nbconvert_exporter": "python",
   "pygments_lexer": "ipython2",
   "version": "2.7.10"
  }
 },
 "nbformat": 4,
 "nbformat_minor": 0
}
