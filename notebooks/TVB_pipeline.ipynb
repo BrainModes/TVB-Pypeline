{
 "cells": [
  {
   "cell_type": "markdown",
   "metadata": {},
   "source": [
    "# Pipeline Main Workflow"
   ]
  },
  {
   "cell_type": "markdown",
   "metadata": {},
   "source": [
    "This file defines the main (scaffold) workflow fo the pipeline. The tractorgraphy building block is intended to be freely exchangeable"
   ]
  },
  {
   "cell_type": "code",
   "execution_count": 1,
   "metadata": {
    "collapsed": true
   },
   "outputs": [],
   "source": [
    "# Debug stuff! Remove this cell once you're done Simon!\n",
    "import sys\n",
    "sys.path.append(\"/Users/srothmei/Documents/TVB-Pypeline/\")"
   ]
  },
  {
   "cell_type": "code",
   "execution_count": 2,
   "metadata": {
    "collapsed": false
   },
   "outputs": [],
   "source": [
    "from nipype import Node, Workflow\n",
    "from nipype.interfaces.utility import IdentityInterface, Function\n",
    "import bm_functions as brainmodes\n",
    "import logging"
   ]
  },
  {
   "cell_type": "markdown",
   "metadata": {},
   "source": [
    "### Inputs parameters"
   ]
  },
  {
   "cell_type": "code",
   "execution_count": 3,
   "metadata": {
    "collapsed": true
   },
   "outputs": [],
   "source": [
    "# Later get these from a function input or similar\n",
    "subject_id = 'FR_20120903'\n",
    "subject_folder = '/Users/srothmei/Desktop/charite/toronto/'"
   ]
  },
  {
   "cell_type": "markdown",
   "metadata": {},
   "source": [
    "### Setup"
   ]
  },
  {
   "cell_type": "code",
   "execution_count": 4,
   "metadata": {
    "collapsed": false
   },
   "outputs": [],
   "source": [
    "inputNode = Node(IdentityInterface(fields = ['subject_folder', 'subject_id']),\n",
    "                name = 'input_node')\n",
    "\n",
    "inputNode.inputs.subject_folder = subject_folder\n",
    "inputNode.inputs.subject_id = subject_id"
   ]
  },
  {
   "cell_type": "markdown",
   "metadata": {},
   "source": [
    "### Logging"
   ]
  },
  {
   "cell_type": "code",
   "execution_count": 5,
   "metadata": {
    "collapsed": false
   },
   "outputs": [],
   "source": [
    "logging.basicConfig(filename = subject_folder + subject_id + '/pipeline.log', level=logging.DEBUG)"
   ]
  },
  {
   "cell_type": "markdown",
   "metadata": {},
   "source": [
    "### Utiliy functions"
   ]
  },
  {
   "cell_type": "markdown",
   "metadata": {},
   "source": [
    "## Preprocessing"
   ]
  },
  {
   "cell_type": "code",
   "execution_count": 6,
   "metadata": {
    "collapsed": false
   },
   "outputs": [],
   "source": [
    "import preprocSub as preprocessing"
   ]
  },
  {
   "cell_type": "markdown",
   "metadata": {},
   "source": [
    "## Functional processing"
   ]
  },
  {
   "cell_type": "code",
   "execution_count": 7,
   "metadata": {
    "collapsed": true
   },
   "outputs": [],
   "source": [
    "#funcProcNode = Node(Function(input_names= ['path', 'subName'],\n",
    "#                            output_names = [],\n",
    "#                            function = brainmodes.compute_functional_connectivity),\n",
    "#                    name = 'functional_processing')"
   ]
  },
  {
   "cell_type": "markdown",
   "metadata": {},
   "source": [
    "## Tractography-Mask generation"
   ]
  },
  {
   "cell_type": "code",
   "execution_count": 8,
   "metadata": {
    "collapsed": true
   },
   "outputs": [],
   "source": [
    "maskGenNode = Node(Function(input_names = ['subPath',\n",
    "                                           'mask_output_folder',\n",
    "                                           'wmoutline2diff_1mm',\n",
    "                                           'wmparc2diff_1mm',\n",
    "                                           'seedsPerVoxel'],\n",
    "                           output_names = ['seed_target_masks', 'seed_count'],\n",
    "                           function = brainmodes.generate_masks),\n",
    "                   name = 'generate_masks')\n",
    "\n",
    "maskGenNode.inputs.seedsPerVoxel = 200"
   ]
  },
  {
   "cell_type": "markdown",
   "metadata": {},
   "source": [
    "## Tracking"
   ]
  },
  {
   "cell_type": "code",
   "execution_count": 9,
   "metadata": {
    "collapsed": false
   },
   "outputs": [],
   "source": [
    "import mrtrix as mrtrix"
   ]
  },
  {
   "cell_type": "markdown",
   "metadata": {},
   "source": [
    "## Connectivity"
   ]
  },
  {
   "cell_type": "markdown",
   "metadata": {},
   "source": [
    "## TVB formatting"
   ]
  },
  {
   "cell_type": "code",
   "execution_count": 11,
   "metadata": {
    "collapsed": false
   },
   "outputs": [
    {
     "data": {
      "text/plain": [
       "\n",
       "bval_file = <undefined>\n",
       "bvec_file = <undefined>\n",
       "dwi_file = <undefined>\n",
       "seed_count = <undefined>\n",
       "seed_target_masks = <undefined>\n",
       "tracking_dir = <undefined>\n",
       "tracks_dir = <undefined>\n",
       "wmmask = <undefined>\n",
       "wmmask_1mm = <undefined>"
      ]
     },
     "execution_count": 11,
     "metadata": {},
     "output_type": "execute_result"
    }
   ],
   "source": [
    "mrtrix.mrtrix_main.wf.inputs.input_node"
   ]
  },
  {
   "cell_type": "markdown",
   "metadata": {},
   "source": [
    "\n",
    "## Build the Workflow"
   ]
  },
  {
   "cell_type": "code",
   "execution_count": 15,
   "metadata": {
    "collapsed": false
   },
   "outputs": [],
   "source": [
    "wf = Workflow(name = 'TVB_pipeline')\n",
    "\n",
    "wf.connect([\n",
    "        (inputNode, preprocessing.wf, [('subject_folder', 'input_node.subject_folder'),\n",
    "                                      ('subject_id', 'input_node.subject_id')]),\n",
    "        (preprocessing.wf, maskGenNode, [('output_node.subPath', 'subPath'),\n",
    "                                        ('output_node.mask_folder', 'mask_output_folder'),\n",
    "                                        ('output_node.wmoutline2diff_1mm', 'wmoutline2diff_1mm'),\n",
    "                                        ('output_node.wmparc2diff_1mm', 'wmparc2diff_1mm')]),\n",
    "        (maskGenNode, mrtrix.mrtrix_main.wf, [('seed_target_masks', 'input_node.seed_target_masks'),\n",
    "                                             ('seed_count', 'input_node.seed_count')]),\n",
    "        (preprocessing.wf, mrtrix.mrtrix_main.wf, [('output_node.bval_file', 'input_node.bval_file'),\n",
    "                                                  ('output_node.bvec_file', 'input_node.bvec_file'),\n",
    "                                                  ('output_node.dwi_file', 'input_node.dwi_file'),\n",
    "                                                  ('output_node.trackingFolder', 'input_node.tracking_dir'),\n",
    "                                                  ('output_node.tracks_folder', 'input_node.tracks_dir'),\n",
    "                                                  ('output_node.highresWmMask', 'input_node.wmmask_1mm'),\n",
    "                                                  ('output_node.lowresWmMask', 'input_node.wmmask')])\n",
    "    ])"
   ]
  },
  {
   "cell_type": "code",
   "execution_count": 13,
   "metadata": {
    "collapsed": false
   },
   "outputs": [
    {
     "data": {
      "text/plain": [
       "\n",
       "T1RawFolder = None\n",
       "aparc+aseg2diff = None\n",
       "aparc+aseg2diff_1mm = None\n",
       "bval_file = None\n",
       "bvec_file = None\n",
       "calc_images = None\n",
       "dwiPreprocFolder = None\n",
       "dwiRawFolder = None\n",
       "dwi_file = None\n",
       "fmriRawFolder = None\n",
       "highresWmMask = None\n",
       "lowresWmMask = None\n",
       "mask_folder = None\n",
       "no_diffusion_image = None\n",
       "rawdataFolder = None\n",
       "subPath = None\n",
       "trackingFolder = None\n",
       "tracks_folder = None\n",
       "wmSurf = None\n",
       "wmSurf_lh = None\n",
       "wmSurf_rh = None\n",
       "wmoutline2diff = None\n",
       "wmoutline2diff_1mm = None\n",
       "wmparc2diff_1mm = None"
      ]
     },
     "execution_count": 13,
     "metadata": {},
     "output_type": "execute_result"
    }
   ],
   "source": [
    "preprocessing.wf.outputs.output_node"
   ]
  },
  {
   "cell_type": "markdown",
   "metadata": {},
   "source": [
    "## Run the Workflow"
   ]
  },
  {
   "cell_type": "code",
   "execution_count": 16,
   "metadata": {
    "collapsed": false
   },
   "outputs": [
    {
     "name": "stderr",
     "output_type": "stream",
     "text": [
      "2015-11-24 17:35:23,337 - INFO - Creating detailed dot file: /Users/srothmei/Documents/TVB-Pypeline/notebooks/workflow_graph_detailed.dot\n",
      "INFO:workflow:Creating detailed dot file: /Users/srothmei/Documents/TVB-Pypeline/notebooks/workflow_graph_detailed.dot\n",
      "2015-11-24 17:35:24,182 - INFO - Creating dot file: /Users/srothmei/Documents/TVB-Pypeline/notebooks/workflow_graph.dot\n",
      "INFO:workflow:Creating dot file: /Users/srothmei/Documents/TVB-Pypeline/notebooks/workflow_graph.dot\n"
     ]
    },
    {
     "data": {
      "image/png": "[encoded data removed]",
      "text/plain": [
       "<IPython.core.display.Image object>"
      ]
     },
     "execution_count": 16,
     "metadata": {},
     "output_type": "execute_result"
    }
   ],
   "source": [
    "wf.write_graph(\"workflow_graph.dot\", graph2use = 'orig')\n",
    "from IPython.display import Image\n",
    "Image(filename=\"workflow_graph.dot.png\")"
   ]
  },
  {
   "cell_type": "code",
   "execution_count": null,
   "metadata": {
    "collapsed": true
   },
   "outputs": [],
   "source": []
  }
 ],
 "metadata": {
  "kernelspec": {
   "display_name": "Python 2",
   "language": "python",
   "name": "python2"
  },
  "language_info": {
   "codemirror_mode": {
    "name": "ipython",
    "version": 2
   },
   "file_extension": ".py",
   "mimetype": "text/x-python",
   "name": "python",
   "nbconvert_exporter": "python",
   "pygments_lexer": "ipython2",
   "version": "2.7.10"
  }
 },
 "nbformat": 4,
 "nbformat_minor": 0
}
