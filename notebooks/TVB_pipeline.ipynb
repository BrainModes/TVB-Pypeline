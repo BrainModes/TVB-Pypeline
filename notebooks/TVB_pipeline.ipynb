{
 "cells": [
  {
   "cell_type": "markdown",
   "metadata": {},
   "source": [
    "# Pipeline Main Workflow"
   ]
  },
  {
   "cell_type": "markdown",
   "metadata": {},
   "source": [
    "This file defines the main (scaffold) workflow fo the pipeline. The tractorgraphy building block is intended to be freely exchangeable"
   ]
  },
  {
   "cell_type": "code",
   "execution_count": null,
   "metadata": {
    "collapsed": true
   },
   "outputs": [],
   "source": [
    "# Debug stuff! Remove this cell once you're done Simon!\n",
    "import sys\n",
    "sys.path.append(\"/Users/srothmei/Documents/TVB-Pypeline/\")\n",
    "\n",
    "from nipype import config\n",
    "config.enable_debug_mode()"
   ]
  },
  {
   "cell_type": "code",
   "execution_count": 13,
   "metadata": {
    "collapsed": false
   },
   "outputs": [],
   "source": [
    "from nipype import Node, Workflow, MapNode\n",
    "from nipype.interfaces.utility import IdentityInterface, Function\n",
    "import logging\n",
    "import bm_functions as brainmodes"
   ]
  },
  {
   "cell_type": "code",
   "execution_count": 25,
   "metadata": {
    "collapsed": false
   },
   "outputs": [
    {
     "ename": "NameError",
     "evalue": "name '__file__' is not defined",
     "output_type": "error",
     "traceback": [
      "\u001b[0;31m---------------------------------------------------------------------------\u001b[0m",
      "\u001b[0;31mNameError\u001b[0m                                 Traceback (most recent call last)",
      "\u001b[0;32m<ipython-input-25-03dda2a28552>\u001b[0m in \u001b[0;36m<module>\u001b[0;34m()\u001b[0m\n\u001b[1;32m      1\u001b[0m \u001b[0;32mimport\u001b[0m \u001b[0msys\u001b[0m\u001b[0;34m\u001b[0m\u001b[0m\n\u001b[1;32m      2\u001b[0m \u001b[0;32mfrom\u001b[0m \u001b[0mos\u001b[0m \u001b[0;32mimport\u001b[0m \u001b[0mpath\u001b[0m\u001b[0;34m\u001b[0m\u001b[0m\n\u001b[0;32m----> 3\u001b[0;31m \u001b[0;32mprint\u001b[0m \u001b[0m__file__\u001b[0m\u001b[0;34m\u001b[0m\u001b[0m\n\u001b[0m\u001b[1;32m      4\u001b[0m \u001b[0mpath\u001b[0m\u001b[0;34m.\u001b[0m\u001b[0mdirname\u001b[0m\u001b[0;34m(\u001b[0m\u001b[0m__file__\u001b[0m\u001b[0;34m)\u001b[0m\u001b[0;34m\u001b[0m\u001b[0m\n\u001b[1;32m      5\u001b[0m \u001b[0;31m#sys.path.append( path.dirname( path.dirname? ) )\u001b[0m\u001b[0;34m\u001b[0m\u001b[0;34m\u001b[0m\u001b[0m\n",
      "\u001b[0;31mNameError\u001b[0m: name '__file__' is not defined"
     ]
    }
   ],
   "source": [
    "import sys\n",
    "from os import path\n",
    "print __file__\n",
    "path.dirname(__file__)\n",
    "#sys.path.append( path.dirname( path.dirname? ) )\n",
    "\n",
    "#import bm_functions as brainmodes"
   ]
  },
  {
   "cell_type": "markdown",
   "metadata": {},
   "source": [
    "### Inputs parameters"
   ]
  },
  {
   "cell_type": "code",
   "execution_count": null,
   "metadata": {
    "collapsed": true
   },
   "outputs": [],
   "source": [
    "# Later get these from a function input or similar\n",
    "subject_id = 'FR_20120903'\n",
    "subject_folder = '/Users/srothmei/Desktop/charite/toronto/'"
   ]
  },
  {
   "cell_type": "markdown",
   "metadata": {},
   "source": [
    "### Setup"
   ]
  },
  {
   "cell_type": "code",
   "execution_count": null,
   "metadata": {
    "collapsed": false
   },
   "outputs": [],
   "source": [
    "inputNode = Node(IdentityInterface(fields = ['subject_folder', 'subject_id']),\n",
    "                name = 'input_node')\n",
    "\n",
    "inputNode.inputs.subject_folder = subject_folder\n",
    "inputNode.inputs.subject_id = subject_id"
   ]
  },
  {
   "cell_type": "markdown",
   "metadata": {},
   "source": [
    "### Logging"
   ]
  },
  {
   "cell_type": "code",
   "execution_count": null,
   "metadata": {
    "collapsed": false
   },
   "outputs": [],
   "source": [
    "logging.basicConfig(filename = subject_folder + subject_id + '/pipeline.log', level=logging.DEBUG)"
   ]
  },
  {
   "cell_type": "markdown",
   "metadata": {},
   "source": [
    "### Utiliy functions"
   ]
  },
  {
   "cell_type": "code",
   "execution_count": null,
   "metadata": {
    "collapsed": false
   },
   "outputs": [],
   "source": [
    "def roiRange(number_of_rois):\n",
    "    return range(1,number_of_rois + 1)"
   ]
  },
  {
   "cell_type": "markdown",
   "metadata": {},
   "source": [
    "## Preprocessing"
   ]
  },
  {
   "cell_type": "code",
   "execution_count": null,
   "metadata": {
    "collapsed": false
   },
   "outputs": [],
   "source": [
    "import preprocSub as preprocessing"
   ]
  },
  {
   "cell_type": "markdown",
   "metadata": {},
   "source": [
    "## Functional processing"
   ]
  },
  {
   "cell_type": "code",
   "execution_count": null,
   "metadata": {
    "collapsed": true
   },
   "outputs": [],
   "source": [
    "#funcProcNode = Node(Function(input_names= ['path', 'subName'],\n",
    "#                            output_names = [],\n",
    "#                            function = brainmodes.compute_functional_connectivity),\n",
    "#                    name = 'functional_processing')"
   ]
  },
  {
   "cell_type": "markdown",
   "metadata": {},
   "source": [
    "## Tractography-Mask generation"
   ]
  },
  {
   "cell_type": "code",
   "execution_count": null,
   "metadata": {
    "collapsed": true
   },
   "outputs": [],
   "source": [
    "maskGenNode = Node(Function(input_names = ['subPath',\n",
    "                                           'mask_output_folder',\n",
    "                                           'wmoutline2diff_1mm',\n",
    "                                           'wmparc2diff_1mm',\n",
    "                                           'seedsPerVoxel'],\n",
    "                           output_names = ['seed_target_masks', 'seed_count',\n",
    "                                           'number_of_rois', 'affine_matrix',\n",
    "                                          'wmborder_data'],\n",
    "                           function = brainmodes.generate_masks),\n",
    "                   name = 'generate_masks')\n",
    "\n",
    "maskGenNode.inputs.seedsPerVoxel = 200"
   ]
  },
  {
   "cell_type": "markdown",
   "metadata": {},
   "source": [
    "## Tracking"
   ]
  },
  {
   "cell_type": "code",
   "execution_count": null,
   "metadata": {
    "collapsed": false
   },
   "outputs": [],
   "source": [
    "import mrtrix as mrtrix"
   ]
  },
  {
   "cell_type": "markdown",
   "metadata": {},
   "source": [
    "## Connectivity"
   ]
  },
  {
   "cell_type": "code",
   "execution_count": null,
   "metadata": {
    "collapsed": false
   },
   "outputs": [],
   "source": [
    "connectivityRowNode = MapNode(Function(input_names = ['roi', \n",
    "                                                      'subid', \n",
    "                                                      'affine_matrix',\n",
    "                                                      'wmborder', \n",
    "                                                      'tracksPath', 'track_files'],\n",
    "                                   output_names = ['SC_cap_row_filename', 'SC_dist_row_filename'],\n",
    "                                   function = brainmodes.compute_connectivity_row),\n",
    "                            name = 'comp_SC_row',\n",
    "                            iterfield = ['roi'])\n",
    "\n",
    "aggregateConnectivityNode = Node(Function(input_names = ['sub_id',\n",
    "                                                         'wmborder',\n",
    "                                                         'tracksPath',\n",
    "                                                         'cap_row_files',\n",
    "                                                         'dist_row_files',\n",
    "                                                         'steplength'],\n",
    "                                         output_names = [],\n",
    "                                         function = brainmodes.aggregate_connectivity),\n",
    "                                name = 'aggregate_SC')\n",
    "\n",
    "# Incorporate the step size used during tracking (default 0.2 mm)\n",
    "aggregateConnectivityNode.inputs.steplength = mrtrix.mrtrix_tracking.trackingNode.inputs.step_size"
   ]
  },
  {
   "cell_type": "markdown",
   "metadata": {},
   "source": [
    "## TVB formatting"
   ]
  },
  {
   "cell_type": "code",
   "execution_count": null,
   "metadata": {
    "collapsed": true
   },
   "outputs": [],
   "source": [
    "# TODO"
   ]
  },
  {
   "cell_type": "markdown",
   "metadata": {},
   "source": [
    "\n",
    "## Build the Workflow"
   ]
  },
  {
   "cell_type": "code",
   "execution_count": null,
   "metadata": {
    "collapsed": false
   },
   "outputs": [],
   "source": [
    "wf = Workflow(name = 'TVB_pipeline', base_dir = subject_folder + subject_id + '/')\n",
    "\n",
    "wf.connect([\n",
    "        (inputNode, preprocessing.wf, [('subject_folder', 'input_node.subject_folder'),\n",
    "                                      ('subject_id', 'input_node.subject_id')]),\n",
    "        (preprocessing.wf, maskGenNode, [('output_node.subPath', 'subPath'),\n",
    "                                        ('output_node.mask_folder', 'mask_output_folder'),\n",
    "                                        ('output_node.wmoutline2diff_1mm', 'wmoutline2diff_1mm'),\n",
    "                                        ('output_node.wmparc2diff_1mm', 'wmparc2diff_1mm')]),\n",
    "        (maskGenNode, mrtrix.mrtrix_main.wf, [('seed_target_masks', 'input_node.seed_target_masks'),\n",
    "                                             ('seed_count', 'input_node.seed_count')]),\n",
    "        (preprocessing.wf, mrtrix.mrtrix_main.wf, [('output_node.bval_file', 'input_node.bval_file'),\n",
    "                                                  ('output_node.bvec_file', 'input_node.bvec_file'),\n",
    "                                                  ('output_node.dwi_file', 'input_node.dwi_file'),\n",
    "                                                  ('output_node.trackingFolder', 'input_node.tracking_dir'),\n",
    "                                                  ('output_node.tracks_folder', 'input_node.tracks_dir'),\n",
    "                                                  ('output_node.highresWmMask', 'input_node.wmmask_1mm'),\n",
    "                                                  ('output_node.lowresWmMask', 'input_node.wmmask')]),\n",
    "        (maskGenNode, connectivityRowNode, [(('number_of_rois', roiRange), 'roi'),\n",
    "                                           ('affine_matrix', 'affine_matrix'),\n",
    "                                           ('wmborder_data', 'wmborder')]),\n",
    "        (inputNode, connectivityRowNode, [('subject_id', 'subid')]),\n",
    "        (preprocessing.wf, connectivityRowNode, [('output_node.tracks_folder', 'tracksPath')]),\n",
    "        (mrtrix.mrtrix_main.wf, connectivityRowNode, [('output_node.trk_files', 'track_files')]),\n",
    "        (inputNode, aggregateConnectivityNode, [('subject_id', 'sub_id')]),\n",
    "        (maskGenNode, aggregateConnectivityNode, [('wmborder_data', 'wmborder')]),\n",
    "        (preprocessing.wf, aggregateConnectivityNode, [('output_node.tracks_folder', 'tracksPath')]),\n",
    "        (connectivityRowNode, aggregateConnectivityNode, [('SC_cap_row_filename', 'cap_row_files'),\n",
    "                                                         ('SC_dist_row_filename', 'dist_row_files')])\n",
    "    ])"
   ]
  },
  {
   "cell_type": "markdown",
   "metadata": {},
   "source": [
    "## Run the Workflow"
   ]
  },
  {
   "cell_type": "code",
   "execution_count": null,
   "metadata": {
    "collapsed": false
   },
   "outputs": [],
   "source": [
    "wf.run(plugin='MultiProc', plugin_args={'n_procs' : 2})"
   ]
  },
  {
   "cell_type": "code",
   "execution_count": null,
   "metadata": {
    "collapsed": false
   },
   "outputs": [],
   "source": [
    "#wf.write_graph(\"workflow_graph.dot\", graph2use = 'colored')\n",
    "#from IPython.display import Image\n",
    "#Image(filename=\"workflow_graph.dot.png\")"
   ]
  }
 ],
 "metadata": {
  "kernelspec": {
   "display_name": "Python 2",
   "language": "python",
   "name": "python2"
  },
  "language_info": {
   "codemirror_mode": {
    "name": "ipython",
    "version": 2
   },
   "file_extension": ".py",
   "mimetype": "text/x-python",
   "name": "python",
   "nbconvert_exporter": "python",
   "pygments_lexer": "ipython2",
   "version": "2.7.10"
  }
 },
 "nbformat": 4,
 "nbformat_minor": 0
}
