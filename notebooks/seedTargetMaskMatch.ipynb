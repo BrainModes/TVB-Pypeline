{
 "cells": [
  {
   "cell_type": "code",
   "execution_count": 1,
   "metadata": {
    "collapsed": true
   },
   "outputs": [],
   "source": [
    "import re\n",
    "from nipype import Node\n",
    "from nipype.interfaces.io import DataFinder"
   ]
  },
  {
   "cell_type": "code",
   "execution_count": 2,
   "metadata": {
    "collapsed": false
   },
   "outputs": [],
   "source": [
    "# First get the folder names for the masks and tracks\n",
    "seedMaskFinder = Node(DataFinder(match_regex = '.*seed.*mask.*\\.nii\\.gz'), name = 'seedMaskFinder')\n",
    "targetMaskFinder = Node(DataFinder(match_regex = '.*target*.mask.*\\.nii\\.gz'), name = 'seedMaskFinder')\n",
    "trackFolderFinder = Node(DataFinder(match_regex = '/*track/*', unpack_single = True), name = 'trackFolderFinder')"
   ]
  },
  {
   "cell_type": "code",
   "execution_count": 3,
   "metadata": {
    "collapsed": false
   },
   "outputs": [
    {
     "name": "stderr",
     "output_type": "stream",
     "text": [
      "INFO:workflow:Executing node seedMaskFinder in dir: /var/folders/tg/2g576vk174s3m9znw1sgjpbm0000gn/T/tmp8wL_xg/seedMaskFinder\n",
      "INFO:workflow:Executing node seedMaskFinder in dir: /var/folders/tg/2g576vk174s3m9znw1sgjpbm0000gn/T/tmpvc16Dx/seedMaskFinder\n",
      "INFO:workflow:Executing node trackFolderFinder in dir: /var/folders/tg/2g576vk174s3m9znw1sgjpbm0000gn/T/tmpaTzKOq/trackFolderFinder\n"
     ]
    },
    {
     "name": "stdout",
     "output_type": "stream",
     "text": [
      "{'/Users/srothmei/Desktop/charite/toronto/FR_20120903/tractography/masks/seedmask10011_1mm.nii.gz': '/Users/srothmei/Desktop/charite/toronto/FR_20120903/tractography/masks/targetmask1001_1mm.nii.gz', '/Users/srothmei/Desktop/charite/toronto/FR_20120903/tractography/masks/seedmask10034_1mm.nii.gz': '/Users/srothmei/Desktop/charite/toronto/FR_20120903/tractography/masks/targetmask1003_1mm.nii.gz', '/Users/srothmei/Desktop/charite/toronto/FR_20120903/tractography/masks/seedmask10035_1mm.nii.gz': '/Users/srothmei/Desktop/charite/toronto/FR_20120903/tractography/masks/targetmask1003_1mm.nii.gz', '/Users/srothmei/Desktop/charite/toronto/FR_20120903/tractography/masks/seedmask10051_1mm.nii.gz': '/Users/srothmei/Desktop/charite/toronto/FR_20120903/tractography/masks/targetmask1005_1mm.nii.gz', '/Users/srothmei/Desktop/charite/toronto/FR_20120903/tractography/masks/seedmask10022_1mm.nii.gz': '/Users/srothmei/Desktop/charite/toronto/FR_20120903/tractography/masks/targetmask1002_1mm.nii.gz', '/Users/srothmei/Desktop/charite/toronto/FR_20120903/tractography/masks/seedmask10021_1mm.nii.gz': '/Users/srothmei/Desktop/charite/toronto/FR_20120903/tractography/masks/targetmask1002_1mm.nii.gz', '/Users/srothmei/Desktop/charite/toronto/FR_20120903/tractography/masks/seedmask10031_1mm.nii.gz': '/Users/srothmei/Desktop/charite/toronto/FR_20120903/tractography/masks/targetmask1003_1mm.nii.gz', '/Users/srothmei/Desktop/charite/toronto/FR_20120903/tractography/masks/seedmask10032_1mm.nii.gz': '/Users/srothmei/Desktop/charite/toronto/FR_20120903/tractography/masks/targetmask1003_1mm.nii.gz', '/Users/srothmei/Desktop/charite/toronto/FR_20120903/tractography/masks/seedmask10033_1mm.nii.gz': '/Users/srothmei/Desktop/charite/toronto/FR_20120903/tractography/masks/targetmask1003_1mm.nii.gz', '/Users/srothmei/Desktop/charite/toronto/FR_20120903/tractography/masks/seedmask10012_1mm.nii.gz': '/Users/srothmei/Desktop/charite/toronto/FR_20120903/tractography/masks/targetmask1001_1mm.nii.gz'}\n"
     ]
    }
   ],
   "source": [
    "tracking_dir = '/Users/srothmei/Desktop/charite/toronto/FR_20120903/tractography/'\n",
    "seedMaskFinder.inputs.root_paths = tracking_dir\n",
    "seedmasks = seedMaskFinder.run()\n",
    "targetMaskFinder.inputs.root_paths = tracking_dir\n",
    "targetmasks = targetMaskFinder.run()\n",
    "trackFolderFinder.inputs.root_paths = tracking_dir\n",
    "trackFolder = trackFolderFinder.run().outputs.out_paths\n",
    "\n",
    "# Build subset\n",
    "subSet = seedmasks.outputs.out_paths[0:10]\n",
    "subSet = dict(zip(subSet, range(len(subSet))))\n",
    "#print subSet\n",
    "\n",
    "for i in subSet.keys():\n",
    "    # Get the mask id i.e. the last chain of min. 4 digits in the current string\n",
    "    maskID = re.findall(\"\\d{4,999}\", i)[-1][:4]\n",
    "    # Now find the corresponding mask in the set of possible target masks\n",
    "    matching = [s for s in targetmasks.outputs.out_paths if maskID in s]\n",
    "    # Insert into dict\n",
    "    subSet[i] = matching[0]\n",
    "\n",
    "print subSet\n"
   ]
  },
  {
   "cell_type": "code",
   "execution_count": 90,
   "metadata": {
    "collapsed": false
   },
   "outputs": [
    {
     "name": "stdout",
     "output_type": "stream",
     "text": [
      "Es/ist/10011_tracks.tck\n",
      "Es/ist/10011_tracks.trk\n"
     ]
    }
   ],
   "source": [
    "seedmask = subSet.keys()\n",
    "targetmask = subSet.values()\n",
    "test1 = 'Es/ist/'\n",
    "test2 = '_tracks.tck'\n",
    "\n",
    "#res = re.search(\"\\d{4,999}\", seedmask)\n",
    "#r = re.compile(\"\\d{4,999}\")\n",
    "foo = [re.search(\"(\\d{4,999})_.*$\", x).group(1) for x in seedmask]\n",
    "bar = [test1 + s + test2 for s in foo]\n",
    "print bar[0]\n",
    "print bar[0][:-3] + 'trk'"
   ]
  },
  {
   "cell_type": "code",
   "execution_count": null,
   "metadata": {
    "collapsed": true
   },
   "outputs": [],
   "source": [
    "import os, re"
   ]
  },
  {
   "cell_type": "code",
   "execution_count": null,
   "metadata": {
    "collapsed": false
   },
   "outputs": [],
   "source": [
    "theDir = '/Users/srothmei/Desktop/charite/toronto/AJ_20140516_1600/mrtrix_68/tracks_68/'\n",
    "distFiles = list()\n",
    "capfiles = list()\n",
    "for fileZ in os.listdir(theDir):\n",
    "    if re.search(\"^SC_cap_row*.\", fileZ):\n",
    "        capfiles.append(theDir + fileZ)\n",
    "    elif re.search(\"^SC_dist_row*.\", fileZ):\n",
    "        distFiles.append(theDir + fileZ)"
   ]
  },
  {
   "cell_type": "code",
   "execution_count": null,
   "metadata": {
    "collapsed": false
   },
   "outputs": [],
   "source": [
    "capfiles.sort()\n",
    "distFiles.sort()\n",
    "for cap_file, dist_file in zip(capfiles, distFiles):\n",
    "    #print dist_file"
   ]
  },
  {
   "cell_type": "code",
   "execution_count": null,
   "metadata": {
    "collapsed": true
   },
   "outputs": [],
   "source": []
  }
 ],
 "metadata": {
  "kernelspec": {
   "display_name": "Python 2",
   "language": "python",
   "name": "python2"
  },
  "language_info": {
   "codemirror_mode": {
    "name": "ipython",
    "version": 2
   },
   "file_extension": ".py",
   "mimetype": "text/x-python",
   "name": "python",
   "nbconvert_exporter": "python",
   "pygments_lexer": "ipython2",
   "version": "2.7.10"
  }
 },
 "nbformat": 4,
 "nbformat_minor": 0
}
