{
 "cells": [
  {
   "cell_type": "code",
   "execution_count": 4,
   "metadata": {
    "collapsed": true
   },
   "outputs": [],
   "source": [
    "import re\n",
    "from nipype import Node\n",
    "from nipype.interfaces.io import DataFinder"
   ]
  },
  {
   "cell_type": "code",
   "execution_count": 5,
   "metadata": {
    "collapsed": false
   },
   "outputs": [],
   "source": [
    "# First get the folder names for the masks and tracks\n",
    "seedMaskFinder = Node(DataFinder(match_regex = '.*seed.*mask.*\\.nii\\.gz'), name = 'seedMaskFinder')\n",
    "targetMaskFinder = Node(DataFinder(match_regex = '.*target*.mask.*\\.nii\\.gz'), name = 'seedMaskFinder')\n",
    "trackFolderFinder = Node(DataFinder(match_regex = '/*track/*', unpack_single = True), name = 'trackFolderFinder')"
   ]
  },
  {
   "cell_type": "code",
   "execution_count": 63,
   "metadata": {
    "collapsed": false
   },
   "outputs": [
    {
     "name": "stderr",
     "output_type": "stream",
     "text": [
      "INFO:workflow:Executing node seedMaskFinder in dir: /var/folders/tg/2g576vk174s3m9znw1sgjpbm0000gn/T/tmp1arpPM/seedMaskFinder\n",
      "INFO:workflow:Executing node seedMaskFinder in dir: /var/folders/tg/2g576vk174s3m9znw1sgjpbm0000gn/T/tmpqogXZZ/seedMaskFinder\n",
      "INFO:workflow:Executing node trackFolderFinder in dir: /var/folders/tg/2g576vk174s3m9znw1sgjpbm0000gn/T/tmpPmPPWD/trackFolderFinder\n"
     ]
    },
    {
     "name": "stdout",
     "output_type": "stream",
     "text": [
      "{'/Users/srothmei/Desktop/charite/toronto/FR_20120903/tractography/masks/seedmask10011_1mm.nii.gz': '/Users/srothmei/Desktop/charite/toronto/FR_20120903/tractography/masks/targetmask1001_1mm.nii.gz', '/Users/srothmei/Desktop/charite/toronto/FR_20120903/tractography/masks/seedmask10034_1mm.nii.gz': '/Users/srothmei/Desktop/charite/toronto/FR_20120903/tractography/masks/targetmask1003_1mm.nii.gz', '/Users/srothmei/Desktop/charite/toronto/FR_20120903/tractography/masks/seedmask10035_1mm.nii.gz': '/Users/srothmei/Desktop/charite/toronto/FR_20120903/tractography/masks/targetmask1003_1mm.nii.gz', '/Users/srothmei/Desktop/charite/toronto/FR_20120903/tractography/masks/seedmask10022_1mm.nii.gz': '/Users/srothmei/Desktop/charite/toronto/FR_20120903/tractography/masks/targetmask1002_1mm.nii.gz', '/Users/srothmei/Desktop/charite/toronto/FR_20120903/tractography/masks/seedmask10021_1mm.nii.gz': '/Users/srothmei/Desktop/charite/toronto/FR_20120903/tractography/masks/targetmask1002_1mm.nii.gz', '/Users/srothmei/Desktop/charite/toronto/FR_20120903/tractography/masks/seedmask10031_1mm.nii.gz': '/Users/srothmei/Desktop/charite/toronto/FR_20120903/tractography/masks/targetmask1003_1mm.nii.gz', '/Users/srothmei/Desktop/charite/toronto/FR_20120903/tractography/masks/seedmask10032_1mm.nii.gz': '/Users/srothmei/Desktop/charite/toronto/FR_20120903/tractography/masks/targetmask1003_1mm.nii.gz', '/Users/srothmei/Desktop/charite/toronto/FR_20120903/tractography/masks/seedmask10033_1mm.nii.gz': '/Users/srothmei/Desktop/charite/toronto/FR_20120903/tractography/masks/targetmask1003_1mm.nii.gz', '/Users/srothmei/Desktop/charite/toronto/FR_20120903/tractography/masks/seedmask10012_1mm.nii.gz': '/Users/srothmei/Desktop/charite/toronto/FR_20120903/tractography/masks/targetmask1001_1mm.nii.gz', '/Users/srothmei/Desktop/charite/toronto/FR_20120903/tractography/masks/seedmask10013_1mm.nii.gz': '/Users/srothmei/Desktop/charite/toronto/FR_20120903/tractography/masks/targetmask1001_1mm.nii.gz'}\n"
     ]
    }
   ],
   "source": [
    "tracking_dir = '/Users/srothmei/Desktop/charite/toronto/FR_20120903/tractography/'\n",
    "seedMaskFinder.inputs.root_paths = tracking_dir\n",
    "seedmasks = seedMaskFinder.run()\n",
    "targetMaskFinder.inputs.root_paths = tracking_dir\n",
    "targetmasks = targetMaskFinder.run()\n",
    "trackFolderFinder.inputs.root_paths = tracking_dir\n",
    "trackFolder = trackFolderFinder.run().outputs.out_paths\n",
    "\n",
    "# Build subset\n",
    "subSet = seedmasks.outputs.out_paths[0:10]\n",
    "subSet = dict(zip(subSet, range(len(subSet))))\n",
    "#print subSet\n",
    "\n",
    "for i in subSet.keys():\n",
    "    # Get the mask id i.e. the last chain of min. 4 digits in the current string\n",
    "    maskID = re.findall(\"\\d{4,999}\", i)[-1][:4]\n",
    "    # Now find the corresponding mask in the set of possible target masks\n",
    "    matching = [s for s in targetmasks.outputs.out_paths if maskID in s]\n",
    "    # Insert into dict\n",
    "    subSet[i] = matching[0]\n",
    "\n",
    "print subSet\n"
   ]
  },
  {
   "cell_type": "code",
   "execution_count": 46,
   "metadata": {
    "collapsed": false
   },
   "outputs": [
    {
     "name": "stdout",
     "output_type": "stream",
     "text": [
      "10011\n"
     ]
    }
   ],
   "source": [
    "res = re.findall(\"\\d{4,999}\", foo[0][1])[-1]\n",
    "print res"
   ]
  },
  {
   "cell_type": "code",
   "execution_count": 20,
   "metadata": {
    "collapsed": true
   },
   "outputs": [],
   "source": [
    "import os, re"
   ]
  },
  {
   "cell_type": "code",
   "execution_count": 31,
   "metadata": {
    "collapsed": false
   },
   "outputs": [],
   "source": [
    "theDir = '/Users/srothmei/Desktop/charite/toronto/AJ_20140516_1600/mrtrix_68/tracks_68/'\n",
    "distFiles = list()\n",
    "capfiles = list()\n",
    "for fileZ in os.listdir(theDir):\n",
    "    if re.search(\"^SC_cap_row*.\", fileZ):\n",
    "        capfiles.append(theDir + fileZ)\n",
    "    elif re.search(\"^SC_dist_row*.\", fileZ):\n",
    "        distFiles.append(theDir + fileZ)"
   ]
  },
  {
   "cell_type": "code",
   "execution_count": 32,
   "metadata": {
    "collapsed": false
   },
   "outputs": [
    {
     "name": "stdout",
     "output_type": "stream",
     "text": [
      "/Users/srothmei/Desktop/charite/toronto/AJ_20140516_1600/mrtrix_68/tracks_68/SC_dist_row_10AJ_20140516_1600.json\n",
      "/Users/srothmei/Desktop/charite/toronto/AJ_20140516_1600/mrtrix_68/tracks_68/SC_dist_row_11AJ_20140516_1600.json\n",
      "/Users/srothmei/Desktop/charite/toronto/AJ_20140516_1600/mrtrix_68/tracks_68/SC_dist_row_12AJ_20140516_1600.json\n",
      "/Users/srothmei/Desktop/charite/toronto/AJ_20140516_1600/mrtrix_68/tracks_68/SC_dist_row_13AJ_20140516_1600.json\n",
      "/Users/srothmei/Desktop/charite/toronto/AJ_20140516_1600/mrtrix_68/tracks_68/SC_dist_row_14AJ_20140516_1600.json\n",
      "/Users/srothmei/Desktop/charite/toronto/AJ_20140516_1600/mrtrix_68/tracks_68/SC_dist_row_15AJ_20140516_1600.json\n",
      "/Users/srothmei/Desktop/charite/toronto/AJ_20140516_1600/mrtrix_68/tracks_68/SC_dist_row_16AJ_20140516_1600.json\n",
      "/Users/srothmei/Desktop/charite/toronto/AJ_20140516_1600/mrtrix_68/tracks_68/SC_dist_row_17AJ_20140516_1600.json\n",
      "/Users/srothmei/Desktop/charite/toronto/AJ_20140516_1600/mrtrix_68/tracks_68/SC_dist_row_18AJ_20140516_1600.json\n",
      "/Users/srothmei/Desktop/charite/toronto/AJ_20140516_1600/mrtrix_68/tracks_68/SC_dist_row_19AJ_20140516_1600.json\n",
      "/Users/srothmei/Desktop/charite/toronto/AJ_20140516_1600/mrtrix_68/tracks_68/SC_dist_row_1AJ_20140516_1600.json\n",
      "/Users/srothmei/Desktop/charite/toronto/AJ_20140516_1600/mrtrix_68/tracks_68/SC_dist_row_20AJ_20140516_1600.json\n",
      "/Users/srothmei/Desktop/charite/toronto/AJ_20140516_1600/mrtrix_68/tracks_68/SC_dist_row_21AJ_20140516_1600.json\n",
      "/Users/srothmei/Desktop/charite/toronto/AJ_20140516_1600/mrtrix_68/tracks_68/SC_dist_row_22AJ_20140516_1600.json\n",
      "/Users/srothmei/Desktop/charite/toronto/AJ_20140516_1600/mrtrix_68/tracks_68/SC_dist_row_23AJ_20140516_1600.json\n",
      "/Users/srothmei/Desktop/charite/toronto/AJ_20140516_1600/mrtrix_68/tracks_68/SC_dist_row_24AJ_20140516_1600.json\n",
      "/Users/srothmei/Desktop/charite/toronto/AJ_20140516_1600/mrtrix_68/tracks_68/SC_dist_row_25AJ_20140516_1600.json\n",
      "/Users/srothmei/Desktop/charite/toronto/AJ_20140516_1600/mrtrix_68/tracks_68/SC_dist_row_26AJ_20140516_1600.json\n",
      "/Users/srothmei/Desktop/charite/toronto/AJ_20140516_1600/mrtrix_68/tracks_68/SC_dist_row_27AJ_20140516_1600.json\n",
      "/Users/srothmei/Desktop/charite/toronto/AJ_20140516_1600/mrtrix_68/tracks_68/SC_dist_row_28AJ_20140516_1600.json\n",
      "/Users/srothmei/Desktop/charite/toronto/AJ_20140516_1600/mrtrix_68/tracks_68/SC_dist_row_29AJ_20140516_1600.json\n",
      "/Users/srothmei/Desktop/charite/toronto/AJ_20140516_1600/mrtrix_68/tracks_68/SC_dist_row_2AJ_20140516_1600.json\n",
      "/Users/srothmei/Desktop/charite/toronto/AJ_20140516_1600/mrtrix_68/tracks_68/SC_dist_row_30AJ_20140516_1600.json\n",
      "/Users/srothmei/Desktop/charite/toronto/AJ_20140516_1600/mrtrix_68/tracks_68/SC_dist_row_31AJ_20140516_1600.json\n",
      "/Users/srothmei/Desktop/charite/toronto/AJ_20140516_1600/mrtrix_68/tracks_68/SC_dist_row_32AJ_20140516_1600.json\n",
      "/Users/srothmei/Desktop/charite/toronto/AJ_20140516_1600/mrtrix_68/tracks_68/SC_dist_row_33AJ_20140516_1600.json\n",
      "/Users/srothmei/Desktop/charite/toronto/AJ_20140516_1600/mrtrix_68/tracks_68/SC_dist_row_34AJ_20140516_1600.json\n",
      "/Users/srothmei/Desktop/charite/toronto/AJ_20140516_1600/mrtrix_68/tracks_68/SC_dist_row_35AJ_20140516_1600.json\n",
      "/Users/srothmei/Desktop/charite/toronto/AJ_20140516_1600/mrtrix_68/tracks_68/SC_dist_row_36AJ_20140516_1600.json\n",
      "/Users/srothmei/Desktop/charite/toronto/AJ_20140516_1600/mrtrix_68/tracks_68/SC_dist_row_37AJ_20140516_1600.json\n",
      "/Users/srothmei/Desktop/charite/toronto/AJ_20140516_1600/mrtrix_68/tracks_68/SC_dist_row_38AJ_20140516_1600.json\n",
      "/Users/srothmei/Desktop/charite/toronto/AJ_20140516_1600/mrtrix_68/tracks_68/SC_dist_row_39AJ_20140516_1600.json\n",
      "/Users/srothmei/Desktop/charite/toronto/AJ_20140516_1600/mrtrix_68/tracks_68/SC_dist_row_3AJ_20140516_1600.json\n",
      "/Users/srothmei/Desktop/charite/toronto/AJ_20140516_1600/mrtrix_68/tracks_68/SC_dist_row_40AJ_20140516_1600.json\n",
      "/Users/srothmei/Desktop/charite/toronto/AJ_20140516_1600/mrtrix_68/tracks_68/SC_dist_row_41AJ_20140516_1600.json\n",
      "/Users/srothmei/Desktop/charite/toronto/AJ_20140516_1600/mrtrix_68/tracks_68/SC_dist_row_42AJ_20140516_1600.json\n",
      "/Users/srothmei/Desktop/charite/toronto/AJ_20140516_1600/mrtrix_68/tracks_68/SC_dist_row_43AJ_20140516_1600.json\n",
      "/Users/srothmei/Desktop/charite/toronto/AJ_20140516_1600/mrtrix_68/tracks_68/SC_dist_row_44AJ_20140516_1600.json\n",
      "/Users/srothmei/Desktop/charite/toronto/AJ_20140516_1600/mrtrix_68/tracks_68/SC_dist_row_45AJ_20140516_1600.json\n",
      "/Users/srothmei/Desktop/charite/toronto/AJ_20140516_1600/mrtrix_68/tracks_68/SC_dist_row_46AJ_20140516_1600.json\n",
      "/Users/srothmei/Desktop/charite/toronto/AJ_20140516_1600/mrtrix_68/tracks_68/SC_dist_row_47AJ_20140516_1600.json\n",
      "/Users/srothmei/Desktop/charite/toronto/AJ_20140516_1600/mrtrix_68/tracks_68/SC_dist_row_48AJ_20140516_1600.json\n",
      "/Users/srothmei/Desktop/charite/toronto/AJ_20140516_1600/mrtrix_68/tracks_68/SC_dist_row_49AJ_20140516_1600.json\n",
      "/Users/srothmei/Desktop/charite/toronto/AJ_20140516_1600/mrtrix_68/tracks_68/SC_dist_row_4AJ_20140516_1600.json\n",
      "/Users/srothmei/Desktop/charite/toronto/AJ_20140516_1600/mrtrix_68/tracks_68/SC_dist_row_50AJ_20140516_1600.json\n",
      "/Users/srothmei/Desktop/charite/toronto/AJ_20140516_1600/mrtrix_68/tracks_68/SC_dist_row_51AJ_20140516_1600.json\n",
      "/Users/srothmei/Desktop/charite/toronto/AJ_20140516_1600/mrtrix_68/tracks_68/SC_dist_row_52AJ_20140516_1600.json\n",
      "/Users/srothmei/Desktop/charite/toronto/AJ_20140516_1600/mrtrix_68/tracks_68/SC_dist_row_53AJ_20140516_1600.json\n",
      "/Users/srothmei/Desktop/charite/toronto/AJ_20140516_1600/mrtrix_68/tracks_68/SC_dist_row_54AJ_20140516_1600.json\n",
      "/Users/srothmei/Desktop/charite/toronto/AJ_20140516_1600/mrtrix_68/tracks_68/SC_dist_row_55AJ_20140516_1600.json\n",
      "/Users/srothmei/Desktop/charite/toronto/AJ_20140516_1600/mrtrix_68/tracks_68/SC_dist_row_56AJ_20140516_1600.json\n",
      "/Users/srothmei/Desktop/charite/toronto/AJ_20140516_1600/mrtrix_68/tracks_68/SC_dist_row_57AJ_20140516_1600.json\n",
      "/Users/srothmei/Desktop/charite/toronto/AJ_20140516_1600/mrtrix_68/tracks_68/SC_dist_row_58AJ_20140516_1600.json\n",
      "/Users/srothmei/Desktop/charite/toronto/AJ_20140516_1600/mrtrix_68/tracks_68/SC_dist_row_59AJ_20140516_1600.json\n",
      "/Users/srothmei/Desktop/charite/toronto/AJ_20140516_1600/mrtrix_68/tracks_68/SC_dist_row_5AJ_20140516_1600.json\n",
      "/Users/srothmei/Desktop/charite/toronto/AJ_20140516_1600/mrtrix_68/tracks_68/SC_dist_row_60AJ_20140516_1600.json\n",
      "/Users/srothmei/Desktop/charite/toronto/AJ_20140516_1600/mrtrix_68/tracks_68/SC_dist_row_61AJ_20140516_1600.json\n",
      "/Users/srothmei/Desktop/charite/toronto/AJ_20140516_1600/mrtrix_68/tracks_68/SC_dist_row_62AJ_20140516_1600.json\n",
      "/Users/srothmei/Desktop/charite/toronto/AJ_20140516_1600/mrtrix_68/tracks_68/SC_dist_row_63AJ_20140516_1600.json\n",
      "/Users/srothmei/Desktop/charite/toronto/AJ_20140516_1600/mrtrix_68/tracks_68/SC_dist_row_64AJ_20140516_1600.json\n",
      "/Users/srothmei/Desktop/charite/toronto/AJ_20140516_1600/mrtrix_68/tracks_68/SC_dist_row_65AJ_20140516_1600.json\n",
      "/Users/srothmei/Desktop/charite/toronto/AJ_20140516_1600/mrtrix_68/tracks_68/SC_dist_row_66AJ_20140516_1600.json\n",
      "/Users/srothmei/Desktop/charite/toronto/AJ_20140516_1600/mrtrix_68/tracks_68/SC_dist_row_67AJ_20140516_1600.json\n",
      "/Users/srothmei/Desktop/charite/toronto/AJ_20140516_1600/mrtrix_68/tracks_68/SC_dist_row_68AJ_20140516_1600.json\n",
      "/Users/srothmei/Desktop/charite/toronto/AJ_20140516_1600/mrtrix_68/tracks_68/SC_dist_row_6AJ_20140516_1600.json\n",
      "/Users/srothmei/Desktop/charite/toronto/AJ_20140516_1600/mrtrix_68/tracks_68/SC_dist_row_7AJ_20140516_1600.json\n",
      "/Users/srothmei/Desktop/charite/toronto/AJ_20140516_1600/mrtrix_68/tracks_68/SC_dist_row_8AJ_20140516_1600.json\n",
      "/Users/srothmei/Desktop/charite/toronto/AJ_20140516_1600/mrtrix_68/tracks_68/SC_dist_row_9AJ_20140516_1600.json\n"
     ]
    }
   ],
   "source": [
    "capfiles.sort()\n",
    "distFiles.sort()\n",
    "for cap_file, dist_file in zip(capfiles, distFiles):\n",
    "    print dist_file"
   ]
  },
  {
   "cell_type": "code",
   "execution_count": null,
   "metadata": {
    "collapsed": true
   },
   "outputs": [],
   "source": []
  }
 ],
 "metadata": {
  "kernelspec": {
   "display_name": "Python 2",
   "language": "python",
   "name": "python2"
  },
  "language_info": {
   "codemirror_mode": {
    "name": "ipython",
    "version": 2
   },
   "file_extension": ".py",
   "mimetype": "text/x-python",
   "name": "python",
   "nbconvert_exporter": "python",
   "pygments_lexer": "ipython2",
   "version": "2.7.10"
  }
 },
 "nbformat": 4,
 "nbformat_minor": 0
}
