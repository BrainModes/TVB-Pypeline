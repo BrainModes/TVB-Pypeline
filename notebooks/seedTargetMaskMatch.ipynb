{
 "cells": [
  {
   "cell_type": "code",
   "execution_count": 1,
   "metadata": {
    "collapsed": true
   },
   "outputs": [],
   "source": [
    "import re\n",
    "from nipype import Node\n",
    "from nipype.interfaces.io import DataFinder"
   ]
  },
  {
   "cell_type": "code",
   "execution_count": 2,
   "metadata": {
    "collapsed": false
   },
   "outputs": [],
   "source": [
    "# First get the folder names for the masks and tracks\n",
    "seedMaskFinder = Node(DataFinder(match_regex = '.*seed.*mask.*\\.nii\\.gz'), name = 'seedMaskFinder')\n",
    "targetMaskFinder = Node(DataFinder(match_regex = '.*target*.mask.*\\.nii\\.gz'), name = 'seedMaskFinder')\n",
    "trackFolderFinder = Node(DataFinder(match_regex = '/*track/*', unpack_single = True), name = 'trackFolderFinder')"
   ]
  },
  {
   "cell_type": "code",
   "execution_count": 100,
   "metadata": {
    "collapsed": false
   },
   "outputs": [
    {
     "name": "stderr",
     "output_type": "stream",
     "text": [
      "INFO:workflow:Executing node seedMaskFinder in dir: /var/folders/tg/2g576vk174s3m9znw1sgjpbm0000gn/T/tmp8wL_xg/seedMaskFinder\n",
      "INFO:workflow:Executing node seedMaskFinder in dir: /var/folders/tg/2g576vk174s3m9znw1sgjpbm0000gn/T/tmpvc16Dx/seedMaskFinder\n",
      "INFO:workflow:Executing node trackFolderFinder in dir: /var/folders/tg/2g576vk174s3m9znw1sgjpbm0000gn/T/tmpaTzKOq/trackFolderFinder\n"
     ]
    },
    {
     "name": "stdout",
     "output_type": "stream",
     "text": [
      "{'/Users/srothmei/Desktop/charite/toronto/AJ_20140516_1600/mrtrix_68/masks_68/seedmask10022_1mm.nii.gz': '/Users/srothmei/Desktop/charite/toronto/AJ_20140516_1600/mrtrix_68/masks_68/targetmask1002_1mm.nii.gz', '/Users/srothmei/Desktop/charite/toronto/AJ_20140516_1600/mrtrix_68/masks_68/seedmask10021_1mm.nii.gz': '/Users/srothmei/Desktop/charite/toronto/AJ_20140516_1600/mrtrix_68/masks_68/targetmask1002_1mm.nii.gz', '/Users/srothmei/Desktop/charite/toronto/AJ_20140516_1600/mrtrix_68/masks_68/seedmask10034_1mm.nii.gz': '/Users/srothmei/Desktop/charite/toronto/AJ_20140516_1600/mrtrix_68/masks_68/targetmask1003_1mm.nii.gz', '/Users/srothmei/Desktop/charite/toronto/AJ_20140516_1600/mrtrix_68/masks_68/seedmask10035_1mm.nii.gz': '/Users/srothmei/Desktop/charite/toronto/AJ_20140516_1600/mrtrix_68/masks_68/targetmask1003_1mm.nii.gz', '/Users/srothmei/Desktop/charite/toronto/AJ_20140516_1600/mrtrix_68/masks_68/seedmask10031_1mm.nii.gz': '/Users/srothmei/Desktop/charite/toronto/AJ_20140516_1600/mrtrix_68/masks_68/targetmask1003_1mm.nii.gz', '/Users/srothmei/Desktop/charite/toronto/AJ_20140516_1600/mrtrix_68/masks_68/seedmask10032_1mm.nii.gz': '/Users/srothmei/Desktop/charite/toronto/AJ_20140516_1600/mrtrix_68/masks_68/targetmask1003_1mm.nii.gz', '/Users/srothmei/Desktop/charite/toronto/AJ_20140516_1600/mrtrix_68/masks_68/seedmask10033_1mm.nii.gz': '/Users/srothmei/Desktop/charite/toronto/AJ_20140516_1600/mrtrix_68/masks_68/targetmask1003_1mm.nii.gz', '/Users/srothmei/Desktop/charite/toronto/AJ_20140516_1600/mrtrix_68/masks_68/seedmask10013_1mm.nii.gz': '/Users/srothmei/Desktop/charite/toronto/AJ_20140516_1600/mrtrix_68/masks_68/targetmask1001_1mm.nii.gz', '/Users/srothmei/Desktop/charite/toronto/AJ_20140516_1600/mrtrix_68/masks_68/seedmask10011_1mm.nii.gz': '/Users/srothmei/Desktop/charite/toronto/AJ_20140516_1600/mrtrix_68/masks_68/targetmask1001_1mm.nii.gz', '/Users/srothmei/Desktop/charite/toronto/AJ_20140516_1600/mrtrix_68/masks_68/seedmask10012_1mm.nii.gz': '/Users/srothmei/Desktop/charite/toronto/AJ_20140516_1600/mrtrix_68/masks_68/targetmask1001_1mm.nii.gz'}\n"
     ]
    }
   ],
   "source": [
    "#tracking_dir = '/Users/srothmei/Desktop/charite/toronto/FR_20120903/tractography/'\n",
    "tracking_dir = '/Users/srothmei/Desktop/charite/toronto/AJ_20140516_1600/mrtrix_68/'\n",
    "seedMaskFinder.inputs.root_paths = tracking_dir\n",
    "seedmasks = seedMaskFinder.run()\n",
    "targetMaskFinder.inputs.root_paths = tracking_dir\n",
    "targetmasks = targetMaskFinder.run()\n",
    "trackFolderFinder.inputs.root_paths = tracking_dir\n",
    "trackFolder = trackFolderFinder.run().outputs.out_paths\n",
    "\n",
    "# Build subset\n",
    "subSet = seedmasks.outputs.out_paths[0:10]\n",
    "subSet = dict(zip(subSet, range(len(subSet))))\n",
    "#print subSet\n",
    "\n",
    "for i in subSet.keys():\n",
    "    # Get the mask id i.e. the last chain of min. 4 digits in the current string\n",
    "    maskID = re.findall(\"\\d{4,999}\", i)[-1][:4]\n",
    "    # Now find the corresponding mask in the set of possible target masks\n",
    "    matching = [s for s in targetmasks.outputs.out_paths if maskID in s]\n",
    "    # Insert into dict\n",
    "    subSet[i] = matching[0]\n",
    "\n",
    "print subSet\n"
   ]
  },
  {
   "cell_type": "code",
   "execution_count": 108,
   "metadata": {
    "collapsed": false
   },
   "outputs": [
    {
     "name": "stdout",
     "output_type": "stream",
     "text": [
      "['10022', '10021', '10034', '10035', '10031', '10032', '10033', '10013', '10011', '10012']\n",
      "Es/ist/10022_tracks.tck\n",
      "Es/ist/10022_tracks.trk\n"
     ]
    }
   ],
   "source": [
    "from nipype.utils.filemanip import split_filename\n",
    "from os.path import basename\n",
    "\n",
    "seedmask = subSet.keys()\n",
    "targetmask = subSet.values()\n",
    "test1 = 'Es/ist/'\n",
    "test2 = '_tracks.tck'\n",
    "\n",
    "#res = re.search(\"\\d{4,999}\", seedmask)\n",
    "#r = re.compile(\"\\d{4,999}\")\n",
    "#pth, fname, ext = split_filename(seedmask)\n",
    "#print fname\n",
    "#print pth\n",
    "foo = [re.search(\"(\\d{4,999})_.*$\", basename(x)).group(1) for x in seedmask]\n",
    "bar = [test1 + s + test2 for s in foo]\n",
    "print foo\n",
    "print bar[0]\n",
    "print bar[0][:-3] + 'trk'"
   ]
  },
  {
   "cell_type": "code",
   "execution_count": 107,
   "metadata": {
    "collapsed": false
   },
   "outputs": [
    {
     "name": "stdout",
     "output_type": "stream",
     "text": [
      "['seedmask10022_1mm.nii.gz', 'seedmask10021_1mm.nii.gz', 'seedmask10034_1mm.nii.gz', 'seedmask10035_1mm.nii.gz', 'seedmask10031_1mm.nii.gz', 'seedmask10032_1mm.nii.gz', 'seedmask10033_1mm.nii.gz', 'seedmask10013_1mm.nii.gz', 'seedmask10011_1mm.nii.gz', 'seedmask10012_1mm.nii.gz']\n"
     ]
    }
   ],
   "source": [
    "print [basename(smsk) for smsk in seedmask]"
   ]
  },
  {
   "cell_type": "code",
   "execution_count": 91,
   "metadata": {
    "collapsed": true
   },
   "outputs": [],
   "source": [
    "import os, re"
   ]
  },
  {
   "cell_type": "code",
   "execution_count": 1,
   "metadata": {
    "collapsed": false
   },
   "outputs": [
    {
     "ename": "NameError",
     "evalue": "name 'os' is not defined",
     "output_type": "error",
     "traceback": [
      "\u001b[0;31m---------------------------------------------------------------------------\u001b[0m",
      "\u001b[0;31mNameError\u001b[0m                                 Traceback (most recent call last)",
      "\u001b[0;32m<ipython-input-1-ca742a10c23a>\u001b[0m in \u001b[0;36m<module>\u001b[0;34m()\u001b[0m\n\u001b[1;32m      2\u001b[0m \u001b[0mdistFiles\u001b[0m \u001b[0;34m=\u001b[0m \u001b[0mlist\u001b[0m\u001b[0;34m(\u001b[0m\u001b[0;34m)\u001b[0m\u001b[0;34m\u001b[0m\u001b[0m\n\u001b[1;32m      3\u001b[0m \u001b[0mcapfiles\u001b[0m \u001b[0;34m=\u001b[0m \u001b[0mlist\u001b[0m\u001b[0;34m(\u001b[0m\u001b[0;34m)\u001b[0m\u001b[0;34m\u001b[0m\u001b[0m\n\u001b[0;32m----> 4\u001b[0;31m \u001b[0;32mfor\u001b[0m \u001b[0mfileZ\u001b[0m \u001b[0;32min\u001b[0m \u001b[0mos\u001b[0m\u001b[0;34m.\u001b[0m\u001b[0mlistdir\u001b[0m\u001b[0;34m(\u001b[0m\u001b[0mtheDir\u001b[0m\u001b[0;34m)\u001b[0m\u001b[0;34m:\u001b[0m\u001b[0;34m\u001b[0m\u001b[0m\n\u001b[0m\u001b[1;32m      5\u001b[0m     \u001b[0;32mif\u001b[0m \u001b[0mre\u001b[0m\u001b[0;34m.\u001b[0m\u001b[0msearch\u001b[0m\u001b[0;34m(\u001b[0m\u001b[0;34m\"^SC_cap_row*.\"\u001b[0m\u001b[0;34m,\u001b[0m \u001b[0mfileZ\u001b[0m\u001b[0;34m)\u001b[0m\u001b[0;34m:\u001b[0m\u001b[0;34m\u001b[0m\u001b[0m\n\u001b[1;32m      6\u001b[0m         \u001b[0mcapfiles\u001b[0m\u001b[0;34m.\u001b[0m\u001b[0mappend\u001b[0m\u001b[0;34m(\u001b[0m\u001b[0mtheDir\u001b[0m \u001b[0;34m+\u001b[0m \u001b[0mfileZ\u001b[0m\u001b[0;34m)\u001b[0m\u001b[0;34m\u001b[0m\u001b[0m\n",
      "\u001b[0;31mNameError\u001b[0m: name 'os' is not defined"
     ]
    }
   ],
   "source": [
    "theDir = '/Users/srothmei/Desktop/charite/toronto/AJ_20140516_1600/mrtrix_68/tracks_68/'\n",
    "distFiles = list()\n",
    "capfiles = list()\n",
    "for fileZ in os.listdir(theDir):\n",
    "    if re.search(\"^SC_cap_row*.\", fileZ):\n",
    "        capfiles.append(theDir + fileZ)\n",
    "    elif re.search(\"^SC_dist_row*.\", fileZ):\n",
    "        distFiles.append(theDir + fileZ)"
   ]
  },
  {
   "cell_type": "code",
   "execution_count": null,
   "metadata": {
    "collapsed": false
   },
   "outputs": [],
   "source": [
    "capfiles.sort()\n",
    "distFiles.sort()\n",
    "for cap_file, dist_file in zip(capfiles, distFiles):\n",
    "    #print dist_file"
   ]
  },
  {
   "cell_type": "code",
   "execution_count": 40,
   "metadata": {
    "collapsed": false
   },
   "outputs": [
    {
     "name": "stderr",
     "output_type": "stream",
     "text": [
      "INFO:interface:stdout 2015-12-18T08:03:46.015834:/Users/srothmei/Desktop/charite/toronto/AJ_20140516_1600/mrtrix_68/tracks_68/10011_tracksCN.tck\n",
      "INFO:interface:stdout 2015-12-18T08:03:46.015834:/Users/srothmei/Desktop/charite/toronto/AJ_20140516_1600/mrtrix_68/tracks_68/10012_tracksCN.tck\n",
      "INFO:interface:stdout 2015-12-18T08:03:46.015834:/Users/srothmei/Desktop/charite/toronto/AJ_20140516_1600/mrtrix_68/tracks_68/10013_tracksCN.tck\n",
      "INFO:interface:stdout 2015-12-18T08:03:46.015834:/Users/srothmei/Desktop/charite/toronto/AJ_20140516_1600/mrtrix_68/tracks_68/10021_tracksCN.tck\n",
      "INFO:interface:stdout 2015-12-18T08:03:46.015834:/Users/srothmei/Desktop/charite/toronto/AJ_20140516_1600/mrtrix_68/tracks_68/10022_tracksCN.tck\n",
      "INFO:interface:stdout 2015-12-18T08:03:46.015834:/Users/srothmei/Desktop/charite/toronto/AJ_20140516_1600/mrtrix_68/tracks_68/20351_tracksCN.tck\n",
      "INFO:interface:stdout 2015-12-18T08:03:46.015834:/Users/srothmei/Desktop/charite/toronto/AJ_20140516_1600/mrtrix_68/tracks_68/20352_tracksCN.tck\n",
      "INFO:interface:stdout 2015-12-18T08:03:46.015834:/Users/srothmei/Desktop/charite/toronto/AJ_20140516_1600/mrtrix_68/tracks_68/20353_tracksCN.tck\n",
      "INFO:interface:stdout 2015-12-18T08:03:46.015834:/Users/srothmei/Desktop/charite/toronto/AJ_20140516_1600/mrtrix_68/tracks_68/20354_tracksCN.tck\n"
     ]
    },
    {
     "name": "stdout",
     "output_type": "stream",
     "text": [
      "376\n"
     ]
    },
    {
     "data": {
      "text/plain": [
       "[u'/Users/srothmei/Desktop/charite/toronto/AJ_20140516_1600/mrtrix_68/tracks_68/10011_tracksCN.tck',\n",
       " u'/Users/srothmei/Desktop/charite/toronto/AJ_20140516_1600/mrtrix_68/tracks_68/10012_tracksCN.tck',\n",
       " u'/Users/srothmei/Desktop/charite/toronto/AJ_20140516_1600/mrtrix_68/tracks_68/10013_tracksCN.tck',\n",
       " u'/Users/srothmei/Desktop/charite/toronto/AJ_20140516_1600/mrtrix_68/tracks_68/10021_tracksCN.tck',\n",
       " u'/Users/srothmei/Desktop/charite/toronto/AJ_20140516_1600/mrtrix_68/tracks_68/10022_tracksCN.tck',\n",
       " u'/Users/srothmei/Desktop/charite/toronto/AJ_20140516_1600/mrtrix_68/tracks_68/20351_tracksCN.tck',\n",
       " u'/Users/srothmei/Desktop/charite/toronto/AJ_20140516_1600/mrtrix_68/tracks_68/20352_tracksCN.tck',\n",
       " u'/Users/srothmei/Desktop/charite/toronto/AJ_20140516_1600/mrtrix_68/tracks_68/20353_tracksCN.tck',\n",
       " u'/Users/srothmei/Desktop/charite/toronto/AJ_20140516_1600/mrtrix_68/tracks_68/20354_tracksCN.tck']"
      ]
     },
     "execution_count": 40,
     "metadata": {},
     "output_type": "execute_result"
    }
   ],
   "source": [
    "import numpy as np\n",
    "import os\n",
    "from nipype.interfaces.base import CommandLine\n",
    "\n",
    "theFile = '/Users/srothmei/Desktop/charite/toronto/AJ_20140516_1600/mrtrix_68/tracks_68/dlMe.txt'\n",
    "tckFiles = np.loadtxt(theFile, dtype=str).tolist()\n",
    "\n",
    "print len(tckFiles)\n",
    "\n",
    "cmd = CommandLine(command='ls -1 ' + os.path.dirname(theFile) + '/*.tck').run()\n",
    "cmd.runtime.stdout.splitlines()"
   ]
  },
  {
   "cell_type": "code",
   "execution_count": 43,
   "metadata": {
    "collapsed": false
   },
   "outputs": [
    {
     "data": {
      "text/plain": [
       "20"
      ]
     },
     "execution_count": 43,
     "metadata": {},
     "output_type": "execute_result"
    }
   ],
   "source": [
    "import logging\n",
    "\n",
    "logging.INFO"
   ]
  },
  {
   "cell_type": "code",
   "execution_count": 48,
   "metadata": {
    "collapsed": false
   },
   "outputs": [
    {
     "data": {
      "text/plain": [
       "['/home/petra/Simon/TVB-Pypeline/subjects/Adalberto/tractography/tracks/SC_cap_row_10Adalberto.json',\n",
       " '/home/petra/Simon/TVB-Pypeline/subjects/Adalberto/tractography/tracks/SC_cap_row_11Adalberto.json',\n",
       " '/home/petra/Simon/TVB-Pypeline/subjects/Adalberto/tractography/tracks/SC_cap_row_12Adalberto.json',\n",
       " '/home/petra/Simon/TVB-Pypeline/subjects/Adalberto/tractography/tracks/SC_cap_row_13Adalberto.json',\n",
       " '/home/petra/Simon/TVB-Pypeline/subjects/Adalberto/tractography/tracks/SC_cap_row_14Adalberto.json',\n",
       " '/home/petra/Simon/TVB-Pypeline/subjects/Adalberto/tractography/tracks/SC_cap_row_15Adalberto.json',\n",
       " '/home/petra/Simon/TVB-Pypeline/subjects/Adalberto/tractography/tracks/SC_cap_row_16Adalberto.json',\n",
       " '/home/petra/Simon/TVB-Pypeline/subjects/Adalberto/tractography/tracks/SC_cap_row_17Adalberto.json',\n",
       " '/home/petra/Simon/TVB-Pypeline/subjects/Adalberto/tractography/tracks/SC_cap_row_18Adalberto.json',\n",
       " '/home/petra/Simon/TVB-Pypeline/subjects/Adalberto/tractography/tracks/SC_cap_row_19Adalberto.json',\n",
       " '/home/petra/Simon/TVB-Pypeline/subjects/Adalberto/tractography/tracks/SC_cap_row_1Adalberto.json',\n",
       " '/home/petra/Simon/TVB-Pypeline/subjects/Adalberto/tractography/tracks/SC_cap_row_20Adalberto.json',\n",
       " '/home/petra/Simon/TVB-Pypeline/subjects/Adalberto/tractography/tracks/SC_cap_row_21Adalberto.json',\n",
       " '/home/petra/Simon/TVB-Pypeline/subjects/Adalberto/tractography/tracks/SC_cap_row_22Adalberto.json',\n",
       " '/home/petra/Simon/TVB-Pypeline/subjects/Adalberto/tractography/tracks/SC_cap_row_23Adalberto.json',\n",
       " '/home/petra/Simon/TVB-Pypeline/subjects/Adalberto/tractography/tracks/SC_cap_row_24Adalberto.json',\n",
       " '/home/petra/Simon/TVB-Pypeline/subjects/Adalberto/tractography/tracks/SC_cap_row_25Adalberto.json',\n",
       " '/home/petra/Simon/TVB-Pypeline/subjects/Adalberto/tractography/tracks/SC_cap_row_26Adalberto.json',\n",
       " '/home/petra/Simon/TVB-Pypeline/subjects/Adalberto/tractography/tracks/SC_cap_row_27Adalberto.json',\n",
       " '/home/petra/Simon/TVB-Pypeline/subjects/Adalberto/tractography/tracks/SC_cap_row_28Adalberto.json',\n",
       " '/home/petra/Simon/TVB-Pypeline/subjects/Adalberto/tractography/tracks/SC_cap_row_29Adalberto.json',\n",
       " '/home/petra/Simon/TVB-Pypeline/subjects/Adalberto/tractography/tracks/SC_cap_row_2Adalberto.json',\n",
       " '/home/petra/Simon/TVB-Pypeline/subjects/Adalberto/tractography/tracks/SC_cap_row_30Adalberto.json',\n",
       " '/home/petra/Simon/TVB-Pypeline/subjects/Adalberto/tractography/tracks/SC_cap_row_31Adalberto.json',\n",
       " '/home/petra/Simon/TVB-Pypeline/subjects/Adalberto/tractography/tracks/SC_cap_row_32Adalberto.json',\n",
       " '/home/petra/Simon/TVB-Pypeline/subjects/Adalberto/tractography/tracks/SC_cap_row_33Adalberto.json',\n",
       " '/home/petra/Simon/TVB-Pypeline/subjects/Adalberto/tractography/tracks/SC_cap_row_34Adalberto.json',\n",
       " '/home/petra/Simon/TVB-Pypeline/subjects/Adalberto/tractography/tracks/SC_cap_row_35Adalberto.json',\n",
       " '/home/petra/Simon/TVB-Pypeline/subjects/Adalberto/tractography/tracks/SC_cap_row_36Adalberto.json',\n",
       " '/home/petra/Simon/TVB-Pypeline/subjects/Adalberto/tractography/tracks/SC_cap_row_37Adalberto.json',\n",
       " '/home/petra/Simon/TVB-Pypeline/subjects/Adalberto/tractography/tracks/SC_cap_row_38Adalberto.json',\n",
       " '/home/petra/Simon/TVB-Pypeline/subjects/Adalberto/tractography/tracks/SC_cap_row_39Adalberto.json',\n",
       " '/home/petra/Simon/TVB-Pypeline/subjects/Adalberto/tractography/tracks/SC_cap_row_3Adalberto.json',\n",
       " '/home/petra/Simon/TVB-Pypeline/subjects/Adalberto/tractography/tracks/SC_cap_row_40Adalberto.json',\n",
       " '/home/petra/Simon/TVB-Pypeline/subjects/Adalberto/tractography/tracks/SC_cap_row_41Adalberto.json',\n",
       " '/home/petra/Simon/TVB-Pypeline/subjects/Adalberto/tractography/tracks/SC_cap_row_42Adalberto.json',\n",
       " '/home/petra/Simon/TVB-Pypeline/subjects/Adalberto/tractography/tracks/SC_cap_row_43Adalberto.json',\n",
       " '/home/petra/Simon/TVB-Pypeline/subjects/Adalberto/tractography/tracks/SC_cap_row_44Adalberto.json',\n",
       " '/home/petra/Simon/TVB-Pypeline/subjects/Adalberto/tractography/tracks/SC_cap_row_45Adalberto.json',\n",
       " '/home/petra/Simon/TVB-Pypeline/subjects/Adalberto/tractography/tracks/SC_cap_row_46Adalberto.json',\n",
       " '/home/petra/Simon/TVB-Pypeline/subjects/Adalberto/tractography/tracks/SC_cap_row_47Adalberto.json',\n",
       " '/home/petra/Simon/TVB-Pypeline/subjects/Adalberto/tractography/tracks/SC_cap_row_48Adalberto.json',\n",
       " '/home/petra/Simon/TVB-Pypeline/subjects/Adalberto/tractography/tracks/SC_cap_row_49Adalberto.json',\n",
       " '/home/petra/Simon/TVB-Pypeline/subjects/Adalberto/tractography/tracks/SC_cap_row_4Adalberto.json',\n",
       " '/home/petra/Simon/TVB-Pypeline/subjects/Adalberto/tractography/tracks/SC_cap_row_50Adalberto.json',\n",
       " '/home/petra/Simon/TVB-Pypeline/subjects/Adalberto/tractography/tracks/SC_cap_row_51Adalberto.json',\n",
       " '/home/petra/Simon/TVB-Pypeline/subjects/Adalberto/tractography/tracks/SC_cap_row_52Adalberto.json',\n",
       " '/home/petra/Simon/TVB-Pypeline/subjects/Adalberto/tractography/tracks/SC_cap_row_53Adalberto.json',\n",
       " '/home/petra/Simon/TVB-Pypeline/subjects/Adalberto/tractography/tracks/SC_cap_row_54Adalberto.json',\n",
       " '/home/petra/Simon/TVB-Pypeline/subjects/Adalberto/tractography/tracks/SC_cap_row_55Adalberto.json',\n",
       " '/home/petra/Simon/TVB-Pypeline/subjects/Adalberto/tractography/tracks/SC_cap_row_56Adalberto.json',\n",
       " '/home/petra/Simon/TVB-Pypeline/subjects/Adalberto/tractography/tracks/SC_cap_row_57Adalberto.json',\n",
       " '/home/petra/Simon/TVB-Pypeline/subjects/Adalberto/tractography/tracks/SC_cap_row_58Adalberto.json',\n",
       " '/home/petra/Simon/TVB-Pypeline/subjects/Adalberto/tractography/tracks/SC_cap_row_59Adalberto.json',\n",
       " '/home/petra/Simon/TVB-Pypeline/subjects/Adalberto/tractography/tracks/SC_cap_row_5Adalberto.json',\n",
       " '/home/petra/Simon/TVB-Pypeline/subjects/Adalberto/tractography/tracks/SC_cap_row_60Adalberto.json',\n",
       " '/home/petra/Simon/TVB-Pypeline/subjects/Adalberto/tractography/tracks/SC_cap_row_61Adalberto.json',\n",
       " '/home/petra/Simon/TVB-Pypeline/subjects/Adalberto/tractography/tracks/SC_cap_row_62Adalberto.json',\n",
       " '/home/petra/Simon/TVB-Pypeline/subjects/Adalberto/tractography/tracks/SC_cap_row_63Adalberto.json',\n",
       " '/home/petra/Simon/TVB-Pypeline/subjects/Adalberto/tractography/tracks/SC_cap_row_64Adalberto.json',\n",
       " '/home/petra/Simon/TVB-Pypeline/subjects/Adalberto/tractography/tracks/SC_cap_row_65Adalberto.json',\n",
       " '/home/petra/Simon/TVB-Pypeline/subjects/Adalberto/tractography/tracks/SC_cap_row_66Adalberto.json',\n",
       " '/home/petra/Simon/TVB-Pypeline/subjects/Adalberto/tractography/tracks/SC_cap_row_67Adalberto.json',\n",
       " '/home/petra/Simon/TVB-Pypeline/subjects/Adalberto/tractography/tracks/SC_cap_row_68Adalberto.json',\n",
       " '/home/petra/Simon/TVB-Pypeline/subjects/Adalberto/tractography/tracks/SC_cap_row_6Adalberto.json',\n",
       " '/home/petra/Simon/TVB-Pypeline/subjects/Adalberto/tractography/tracks/SC_cap_row_7Adalberto.json',\n",
       " '/home/petra/Simon/TVB-Pypeline/subjects/Adalberto/tractography/tracks/SC_cap_row_8Adalberto.json',\n",
       " '/home/petra/Simon/TVB-Pypeline/subjects/Adalberto/tractography/tracks/SC_cap_row_9Adalberto.json']"
      ]
     },
     "execution_count": 48,
     "metadata": {},
     "output_type": "execute_result"
    }
   ],
   "source": [
    "SC_cap_files = ['/home/petra/Simon/TVB-Pypeline/subjects/Adalberto/tractography/tracks/SC_cap_row_1Adalberto.json', '/home/petra/Simon/TVB-Pypeline/subjects/Adalberto/tractography/tracks/SC_cap_row_2Adalberto.json', '/home/petra/Simon/TVB-Pypeline/subjects/Adalberto/tractography/tracks/SC_cap_row_3Adalberto.json', '/home/petra/Simon/TVB-Pypeline/subjects/Adalberto/tractography/tracks/SC_cap_row_4Adalberto.json', '/home/petra/Simon/TVB-Pypeline/subjects/Adalberto/tractography/tracks/SC_cap_row_5Adalberto.json', '/home/petra/Simon/TVB-Pypeline/subjects/Adalberto/tractography/tracks/SC_cap_row_6Adalberto.json', '/home/petra/Simon/TVB-Pypeline/subjects/Adalberto/tractography/tracks/SC_cap_row_7Adalberto.json', '/home/petra/Simon/TVB-Pypeline/subjects/Adalberto/tractography/tracks/SC_cap_row_8Adalberto.json', '/home/petra/Simon/TVB-Pypeline/subjects/Adalberto/tractography/tracks/SC_cap_row_9Adalberto.json', '/home/petra/Simon/TVB-Pypeline/subjects/Adalberto/tractography/tracks/SC_cap_row_10Adalberto.json', '/home/petra/Simon/TVB-Pypeline/subjects/Adalberto/tractography/tracks/SC_cap_row_11Adalberto.json', '/home/petra/Simon/TVB-Pypeline/subjects/Adalberto/tractography/tracks/SC_cap_row_12Adalberto.json', '/home/petra/Simon/TVB-Pypeline/subjects/Adalberto/tractography/tracks/SC_cap_row_13Adalberto.json', '/home/petra/Simon/TVB-Pypeline/subjects/Adalberto/tractography/tracks/SC_cap_row_14Adalberto.json', '/home/petra/Simon/TVB-Pypeline/subjects/Adalberto/tractography/tracks/SC_cap_row_15Adalberto.json', '/home/petra/Simon/TVB-Pypeline/subjects/Adalberto/tractography/tracks/SC_cap_row_16Adalberto.json', '/home/petra/Simon/TVB-Pypeline/subjects/Adalberto/tractography/tracks/SC_cap_row_17Adalberto.json', '/home/petra/Simon/TVB-Pypeline/subjects/Adalberto/tractography/tracks/SC_cap_row_18Adalberto.json', '/home/petra/Simon/TVB-Pypeline/subjects/Adalberto/tractography/tracks/SC_cap_row_19Adalberto.json', '/home/petra/Simon/TVB-Pypeline/subjects/Adalberto/tractography/tracks/SC_cap_row_20Adalberto.json', '/home/petra/Simon/TVB-Pypeline/subjects/Adalberto/tractography/tracks/SC_cap_row_21Adalberto.json', '/home/petra/Simon/TVB-Pypeline/subjects/Adalberto/tractography/tracks/SC_cap_row_22Adalberto.json', '/home/petra/Simon/TVB-Pypeline/subjects/Adalberto/tractography/tracks/SC_cap_row_23Adalberto.json', '/home/petra/Simon/TVB-Pypeline/subjects/Adalberto/tractography/tracks/SC_cap_row_24Adalberto.json', '/home/petra/Simon/TVB-Pypeline/subjects/Adalberto/tractography/tracks/SC_cap_row_25Adalberto.json', '/home/petra/Simon/TVB-Pypeline/subjects/Adalberto/tractography/tracks/SC_cap_row_26Adalberto.json', '/home/petra/Simon/TVB-Pypeline/subjects/Adalberto/tractography/tracks/SC_cap_row_27Adalberto.json', '/home/petra/Simon/TVB-Pypeline/subjects/Adalberto/tractography/tracks/SC_cap_row_28Adalberto.json', '/home/petra/Simon/TVB-Pypeline/subjects/Adalberto/tractography/tracks/SC_cap_row_29Adalberto.json', '/home/petra/Simon/TVB-Pypeline/subjects/Adalberto/tractography/tracks/SC_cap_row_30Adalberto.json', '/home/petra/Simon/TVB-Pypeline/subjects/Adalberto/tractography/tracks/SC_cap_row_31Adalberto.json', '/home/petra/Simon/TVB-Pypeline/subjects/Adalberto/tractography/tracks/SC_cap_row_32Adalberto.json', '/home/petra/Simon/TVB-Pypeline/subjects/Adalberto/tractography/tracks/SC_cap_row_33Adalberto.json', '/home/petra/Simon/TVB-Pypeline/subjects/Adalberto/tractography/tracks/SC_cap_row_34Adalberto.json', '/home/petra/Simon/TVB-Pypeline/subjects/Adalberto/tractography/tracks/SC_cap_row_35Adalberto.json', '/home/petra/Simon/TVB-Pypeline/subjects/Adalberto/tractography/tracks/SC_cap_row_36Adalberto.json', '/home/petra/Simon/TVB-Pypeline/subjects/Adalberto/tractography/tracks/SC_cap_row_37Adalberto.json', '/home/petra/Simon/TVB-Pypeline/subjects/Adalberto/tractography/tracks/SC_cap_row_38Adalberto.json', '/home/petra/Simon/TVB-Pypeline/subjects/Adalberto/tractography/tracks/SC_cap_row_39Adalberto.json', '/home/petra/Simon/TVB-Pypeline/subjects/Adalberto/tractography/tracks/SC_cap_row_40Adalberto.json', '/home/petra/Simon/TVB-Pypeline/subjects/Adalberto/tractography/tracks/SC_cap_row_41Adalberto.json', '/home/petra/Simon/TVB-Pypeline/subjects/Adalberto/tractography/tracks/SC_cap_row_42Adalberto.json', '/home/petra/Simon/TVB-Pypeline/subjects/Adalberto/tractography/tracks/SC_cap_row_43Adalberto.json', '/home/petra/Simon/TVB-Pypeline/subjects/Adalberto/tractography/tracks/SC_cap_row_44Adalberto.json', '/home/petra/Simon/TVB-Pypeline/subjects/Adalberto/tractography/tracks/SC_cap_row_45Adalberto.json', '/home/petra/Simon/TVB-Pypeline/subjects/Adalberto/tractography/tracks/SC_cap_row_46Adalberto.json', '/home/petra/Simon/TVB-Pypeline/subjects/Adalberto/tractography/tracks/SC_cap_row_47Adalberto.json', '/home/petra/Simon/TVB-Pypeline/subjects/Adalberto/tractography/tracks/SC_cap_row_48Adalberto.json', '/home/petra/Simon/TVB-Pypeline/subjects/Adalberto/tractography/tracks/SC_cap_row_49Adalberto.json', '/home/petra/Simon/TVB-Pypeline/subjects/Adalberto/tractography/tracks/SC_cap_row_50Adalberto.json', '/home/petra/Simon/TVB-Pypeline/subjects/Adalberto/tractography/tracks/SC_cap_row_51Adalberto.json', '/home/petra/Simon/TVB-Pypeline/subjects/Adalberto/tractography/tracks/SC_cap_row_52Adalberto.json', '/home/petra/Simon/TVB-Pypeline/subjects/Adalberto/tractography/tracks/SC_cap_row_53Adalberto.json', '/home/petra/Simon/TVB-Pypeline/subjects/Adalberto/tractography/tracks/SC_cap_row_54Adalberto.json', '/home/petra/Simon/TVB-Pypeline/subjects/Adalberto/tractography/tracks/SC_cap_row_55Adalberto.json', '/home/petra/Simon/TVB-Pypeline/subjects/Adalberto/tractography/tracks/SC_cap_row_56Adalberto.json', '/home/petra/Simon/TVB-Pypeline/subjects/Adalberto/tractography/tracks/SC_cap_row_57Adalberto.json', '/home/petra/Simon/TVB-Pypeline/subjects/Adalberto/tractography/tracks/SC_cap_row_58Adalberto.json', '/home/petra/Simon/TVB-Pypeline/subjects/Adalberto/tractography/tracks/SC_cap_row_59Adalberto.json', '/home/petra/Simon/TVB-Pypeline/subjects/Adalberto/tractography/tracks/SC_cap_row_60Adalberto.json', '/home/petra/Simon/TVB-Pypeline/subjects/Adalberto/tractography/tracks/SC_cap_row_61Adalberto.json', '/home/petra/Simon/TVB-Pypeline/subjects/Adalberto/tractography/tracks/SC_cap_row_62Adalberto.json', '/home/petra/Simon/TVB-Pypeline/subjects/Adalberto/tractography/tracks/SC_cap_row_63Adalberto.json', '/home/petra/Simon/TVB-Pypeline/subjects/Adalberto/tractography/tracks/SC_cap_row_64Adalberto.json', '/home/petra/Simon/TVB-Pypeline/subjects/Adalberto/tractography/tracks/SC_cap_row_65Adalberto.json', '/home/petra/Simon/TVB-Pypeline/subjects/Adalberto/tractography/tracks/SC_cap_row_66Adalberto.json', '/home/petra/Simon/TVB-Pypeline/subjects/Adalberto/tractography/tracks/SC_cap_row_67Adalberto.json', '/home/petra/Simon/TVB-Pypeline/subjects/Adalberto/tractography/tracks/SC_cap_row_68Adalberto.json']\n",
    "\n",
    "SC_cap_files.sort()\n",
    "\n",
    "SC_cap_files"
   ]
  },
  {
   "cell_type": "code",
   "execution_count": null,
   "metadata": {
    "collapsed": true
   },
   "outputs": [],
   "source": []
  }
 ],
 "metadata": {
  "kernelspec": {
   "display_name": "Python 2",
   "language": "python",
   "name": "python2"
  },
  "language_info": {
   "codemirror_mode": {
    "name": "ipython",
    "version": 2
   },
   "file_extension": ".py",
   "mimetype": "text/x-python",
   "name": "python",
   "nbconvert_exporter": "python",
   "pygments_lexer": "ipython2",
   "version": "2.7.10"
  }
 },
 "nbformat": 4,
 "nbformat_minor": 0
}
