{
 "cells": [
  {
   "cell_type": "code",
   "execution_count": 1,
   "metadata": {
    "collapsed": true
   },
   "outputs": [],
   "source": [
    "import nipype.interfaces.mrtrix as mrt\n",
    "import json\n",
    "import numpy as np\n",
    "from collections import defaultdict\n"
   ]
  },
  {
   "cell_type": "code",
   "execution_count": 2,
   "metadata": {
    "collapsed": true
   },
   "outputs": [],
   "source": [
    "workindDir = '/Users/srothmei/Desktop/charite/toronto/AJ_20140516_1600/mrtrix_68/tracks_68/'\n",
    "trackFile = '10011_tracksCN.tck'"
   ]
  },
  {
   "cell_type": "markdown",
   "metadata": {},
   "source": [
    "### TRK"
   ]
  },
  {
   "cell_type": "code",
   "execution_count": 6,
   "metadata": {
    "collapsed": false,
    "scrolled": true
   },
   "outputs": [
    {
     "name": "stderr",
     "output_type": "stream",
     "text": [
      "INFO:interface:Reading header data...\n",
      "INFO:interface:...adding \"0.2\" to header for key \"init_threshold\"\n",
      "INFO:interface:...adding \"8\" to header for key \"lmax\"\n",
      "INFO:interface:...adding \"300\" to header for key \"max_dist\"\n",
      "INFO:interface:...adding \"10000000\" to header for key \"max_num_attempts\"\n",
      "INFO:interface:...adding \"100000\" to header for key \"max_num_tracks\"\n",
      "INFO:interface:...adding \"50\" to header for key \"max_trials\"\n",
      "INFO:interface:...adding \"SD_PROB\" to header for key \"method\"\n",
      "INFO:interface:...adding \"1\" to header for key \"min_curv\"\n",
      "INFO:interface:...adding \"10\" to header for key \"min_dist\"\n",
      "INFO:interface:...adding \"1\" to header for key \"no_mask_interp\"\n",
      "INFO:interface:...adding \"1\" to header for key \"sh_precomputed\"\n",
      "INFO:interface:...adding \"/home/petra/Simon/uniman/AJ_20140516_1600//mrtrix_68/CSD8.mif\" to header for key \"source\"\n",
      "INFO:interface:...adding \"0.2\" to header for key \"step_size\"\n",
      "INFO:interface:...adding \"1\" to header for key \"stop_when_included\"\n",
      "INFO:interface:...adding \"0.1\" to header for key \"threshold\"\n",
      "INFO:interface:...adding \"1\" to header for key \"unidirectional\"\n",
      "INFO:interface:...adding \"seed /home/petra/Simon/uniman/AJ_20140516_1600//mrtrix_68/masks_68/seedmask10011_1mm.nii.gz\" to header for key \"roi\"\n",
      "INFO:interface:...adding \"include /home/petra/Simon/uniman/AJ_20140516_1600//mrtrix_68/masks_68/targetmask1001_1mm.nii.gz\" to header for key \"roi\"\n",
      "INFO:interface:...adding \"mask /home/petra/Simon/uniman/AJ_20140516_1600//calc_images/wmmask_1mm_68.nii.gz\" to header for key \"roi\"\n",
      "INFO:interface:...adding \"Float32LE\" to header for key \"datatype\"\n",
      "INFO:interface:...adding \". 711\" to header for key \"file\"\n",
      "INFO:interface:...adding \"100000\" to header for key \"count\"\n",
      "INFO:interface:...adding \"677724\" to header for key \"total_count\"\n",
      "INFO:interface:Reached the end of the header!\n",
      "INFO:interface:Identifying the number of points per tract...\n",
      "INFO:interface:MRTrix Header:\n",
      "INFO:interface:{'roi': 'mask /home/petra/Simon/uniman/AJ_20140516_1600//calc_images/wmmask_1mm_68.nii.gz', 'max_dist': '300', 'offset': 711, 'file': '. 711', 'threshold': '0.1', 'max_num_attempts': '10000000', 'source': '/home/petra/Simon/uniman/AJ_20140516_1600//mrtrix_68/CSD8.mif', 'min_curv': '1', 'step_size': '0.2', 'method': 'SD_PROB', 'min_dist': '10', 'init_threshold': '0.2', 'stop_when_included': '1', 'no_mask_interp': '1', 'count': 100000, 'max_num_tracks': '100000', 'datatype': 'Float32LE', 'total_count': '677724', 'max_trials': '50', 'sh_precomputed': '1', 'lmax': '8', 'unidirectional': '1'}\n",
      "INFO:interface:Applying transformation from scanner coordinates to /Users/srothmei/Desktop/charite/toronto/AJ_20140516_1600/mrtrix_68/masks_68/gmwmborder_1mm.nii.gz\n",
      "INFO:interface:Reading tracks...\n",
      "INFO:interface:1% : 1000 tracks read\n",
      "INFO:interface:2% : 2000 tracks read\n",
      "INFO:interface:3% : 3000 tracks read\n",
      "INFO:interface:4% : 4000 tracks read\n",
      "INFO:interface:5% : 5000 tracks read\n",
      "INFO:interface:6% : 6000 tracks read\n",
      "INFO:interface:7% : 7000 tracks read\n",
      "INFO:interface:8% : 8000 tracks read\n",
      "INFO:interface:9% : 9000 tracks read\n",
      "INFO:interface:10% : 10000 tracks read\n",
      "INFO:interface:11% : 11000 tracks read\n",
      "INFO:interface:12% : 12000 tracks read\n",
      "INFO:interface:13% : 13000 tracks read\n",
      "INFO:interface:14% : 14000 tracks read\n",
      "INFO:interface:15% : 15000 tracks read\n",
      "INFO:interface:16% : 16000 tracks read\n",
      "INFO:interface:17% : 17000 tracks read\n",
      "INFO:interface:18% : 18000 tracks read\n",
      "INFO:interface:19% : 19000 tracks read\n",
      "INFO:interface:20% : 20000 tracks read\n",
      "INFO:interface:21% : 21000 tracks read\n",
      "INFO:interface:22% : 22000 tracks read\n",
      "INFO:interface:23% : 23000 tracks read\n",
      "INFO:interface:24% : 24000 tracks read\n",
      "INFO:interface:25% : 25000 tracks read\n",
      "INFO:interface:26% : 26000 tracks read\n",
      "INFO:interface:27% : 27000 tracks read\n",
      "INFO:interface:28% : 28000 tracks read\n",
      "INFO:interface:28% : 29000 tracks read\n",
      "INFO:interface:30% : 30000 tracks read\n",
      "INFO:interface:31% : 31000 tracks read\n",
      "INFO:interface:32% : 32000 tracks read\n",
      "INFO:interface:33% : 33000 tracks read\n",
      "INFO:interface:34% : 34000 tracks read\n",
      "INFO:interface:35% : 35000 tracks read\n",
      "INFO:interface:36% : 36000 tracks read\n",
      "INFO:interface:37% : 37000 tracks read\n",
      "INFO:interface:38% : 38000 tracks read\n",
      "INFO:interface:39% : 39000 tracks read\n",
      "INFO:interface:40% : 40000 tracks read\n",
      "INFO:interface:41% : 41000 tracks read\n",
      "INFO:interface:42% : 42000 tracks read\n",
      "INFO:interface:43% : 43000 tracks read\n",
      "INFO:interface:44% : 44000 tracks read\n",
      "INFO:interface:45% : 45000 tracks read\n",
      "INFO:interface:46% : 46000 tracks read\n",
      "INFO:interface:47% : 47000 tracks read\n",
      "INFO:interface:48% : 48000 tracks read\n",
      "INFO:interface:49% : 49000 tracks read\n",
      "INFO:interface:50% : 50000 tracks read\n",
      "INFO:interface:51% : 51000 tracks read\n",
      "INFO:interface:52% : 52000 tracks read\n",
      "INFO:interface:53% : 53000 tracks read\n",
      "INFO:interface:54% : 54000 tracks read\n",
      "INFO:interface:55% : 55000 tracks read\n",
      "INFO:interface:56% : 56000 tracks read\n",
      "INFO:interface:56% : 57000 tracks read\n",
      "INFO:interface:57% : 58000 tracks read\n",
      "INFO:interface:59% : 59000 tracks read\n",
      "INFO:interface:60% : 60000 tracks read\n",
      "INFO:interface:61% : 61000 tracks read\n",
      "INFO:interface:62% : 62000 tracks read\n",
      "INFO:interface:63% : 63000 tracks read\n",
      "INFO:interface:64% : 64000 tracks read\n",
      "INFO:interface:65% : 65000 tracks read\n",
      "INFO:interface:66% : 66000 tracks read\n",
      "INFO:interface:67% : 67000 tracks read\n",
      "INFO:interface:68% : 68000 tracks read\n",
      "INFO:interface:69% : 69000 tracks read\n",
      "INFO:interface:70% : 70000 tracks read\n",
      "INFO:interface:71% : 71000 tracks read\n",
      "INFO:interface:72% : 72000 tracks read\n",
      "INFO:interface:73% : 73000 tracks read\n",
      "INFO:interface:74% : 74000 tracks read\n",
      "INFO:interface:75% : 75000 tracks read\n",
      "INFO:interface:76% : 76000 tracks read\n",
      "INFO:interface:77% : 77000 tracks read\n",
      "INFO:interface:78% : 78000 tracks read\n",
      "INFO:interface:79% : 79000 tracks read\n",
      "INFO:interface:80% : 80000 tracks read\n",
      "INFO:interface:81% : 81000 tracks read\n",
      "INFO:interface:82% : 82000 tracks read\n",
      "INFO:interface:83% : 83000 tracks read\n",
      "INFO:interface:84% : 84000 tracks read\n",
      "INFO:interface:85% : 85000 tracks read\n",
      "INFO:interface:86% : 86000 tracks read\n",
      "INFO:interface:87% : 87000 tracks read\n",
      "INFO:interface:88% : 88000 tracks read\n",
      "INFO:interface:89% : 89000 tracks read\n",
      "INFO:interface:90% : 90000 tracks read\n",
      "INFO:interface:91% : 91000 tracks read\n",
      "INFO:interface:92% : 92000 tracks read\n",
      "INFO:interface:93% : 93000 tracks read\n",
      "INFO:interface:94% : 94000 tracks read\n",
      "INFO:interface:95% : 95000 tracks read\n",
      "INFO:interface:96% : 96000 tracks read\n",
      "INFO:interface:97% : 97000 tracks read\n",
      "INFO:interface:98% : 98000 tracks read\n",
      "INFO:interface:99% : 99000 tracks read\n",
      "INFO:interface:100% : 100000 tracks read\n",
      "INFO:interface:Saving Trackvis file as /Users/srothmei/Desktop/charite/toronto/AJ_20140516_1600/mrtrix_68/tracks_68/10011_tracksCN.trk\n",
      "INFO:interface:TrackVis Header:\n",
      "INFO:interface:('TRACK', [256, 256, 256], [1.0, 1.0, 1.0], [0.0, 0.0, 0.0], 0, ['', '', '', '', '', '', '', '', '', ''], 0, ['', '', '', '', '', '', '', '', '', ''], [[-0.9999687671661377, -0.0031134020537137985, -0.007433081977069378, 128.3347930908203], [-0.0074114748276770115, -0.007010400295257568, 0.9999477863311768, -95.39874267578125], [0.00316461524926126, -0.9999706149101257, -0.006987154483795166, 105.08650970458984], [0.0, 0.0, 0.0, 1.0]], '', 'LIA', '', [0.0, 0.0, 0.0, 0.0, 0.0, 0.0], '', '', '', '', '', '', '', 100000, 2, 1000)\n"
     ]
    },
    {
     "data": {
      "text/plain": [
       "<nipype.interfaces.base.InterfaceResult at 0x10089f9d0>"
      ]
     },
     "execution_count": 6,
     "metadata": {},
     "output_type": "execute_result"
    }
   ],
   "source": [
    "tck2trk = mrt.convert.MRTrix2TrackVis()\n",
    "tck2trk.inputs.in_file = workindDir + trackFile\n",
    "tck2trk.inputs.image_file = '/Users/srothmei/Desktop/charite/toronto/AJ_20140516_1600/mrtrix_68/masks_68/gmwmborder_1mm.nii.gz'\n",
    "tck2trk.inputs.out_filename = workindDir + '10011_tracksCN.trk'\n",
    "tck2trk.run()"
   ]
  },
  {
   "cell_type": "markdown",
   "metadata": {},
   "source": [
    "### NPY"
   ]
  },
  {
   "cell_type": "code",
   "execution_count": null,
   "metadata": {
    "collapsed": false
   },
   "outputs": [],
   "source": [
    "#tracks_header, tracks = mrt.convert.read_mrtrix_tracks(workindDir + trackFile, as_generator=False)\n"
   ]
  },
  {
   "cell_type": "code",
   "execution_count": null,
   "metadata": {
    "collapsed": false
   },
   "outputs": [],
   "source": [
    "#trackDict = defaultdict(list)\n",
    "tracks_header['test'] = tracks\n",
    "#tracks_header['test'][1]\n",
    "\n",
    "#np.save(workindDir + '10011_tracksCN.npy', tracks_header)"
   ]
  },
  {
   "cell_type": "code",
   "execution_count": null,
   "metadata": {
    "collapsed": true
   },
   "outputs": [],
   "source": [
    "test = np.load(workindDir + '10011_tracksCN.npy').item()"
   ]
  },
  {
   "cell_type": "code",
   "execution_count": null,
   "metadata": {
    "collapsed": false
   },
   "outputs": [],
   "source": [
    "print len(tracks[0])\n",
    "print tracks.count(tracks)\n",
    "print type(tracks_header['test'])"
   ]
  },
  {
   "cell_type": "code",
   "execution_count": null,
   "metadata": {
    "collapsed": true
   },
   "outputs": [],
   "source": []
  }
 ],
 "metadata": {
  "kernelspec": {
   "display_name": "Python 2",
   "language": "python",
   "name": "python2"
  },
  "language_info": {
   "codemirror_mode": {
    "name": "ipython",
    "version": 2
   },
   "file_extension": ".py",
   "mimetype": "text/x-python",
   "name": "python",
   "nbconvert_exporter": "python",
   "pygments_lexer": "ipython2",
   "version": "2.7.10"
  }
 },
 "nbformat": 4,
 "nbformat_minor": 0
}
