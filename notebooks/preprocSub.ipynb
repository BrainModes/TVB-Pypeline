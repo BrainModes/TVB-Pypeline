{
 "cells": [
  {
   "cell_type": "markdown",
   "metadata": {},
   "source": [
    "#### Handle the imports"
   ]
  },
  {
   "cell_type": "code",
   "execution_count": 1,
   "metadata": {
    "collapsed": false
   },
   "outputs": [],
   "source": [
    "from nipype import Node, Workflow\n",
    "from nipype.interfaces import freesurfer, fsl, mrtrix\n",
    "from nipype.interfaces.dcm2nii import Dcm2nii\n",
    "from nipype.interfaces.io import DataFinder"
   ]
  },
  {
   "cell_type": "code",
   "execution_count": 2,
   "metadata": {
    "collapsed": true
   },
   "outputs": [],
   "source": [
    "from multiprocessing import cpu_count\n",
    "import numpy as np\n",
    "import logging"
   ]
  },
  {
   "cell_type": "markdown",
   "metadata": {},
   "source": [
    "#### Define a function for the preprocessing workflow"
   ]
  },
  {
   "cell_type": "code",
   "execution_count": null,
   "metadata": {
    "collapsed": false
   },
   "outputs": [],
   "source": [
    "# def preproc_sub(subject_folder, subject_id):"
   ]
  },
  {
   "cell_type": "markdown",
   "metadata": {},
   "source": [
    "#### Start the logging"
   ]
  },
  {
   "cell_type": "code",
   "execution_count": 3,
   "metadata": {
    "collapsed": false
   },
   "outputs": [],
   "source": [
    "logger = logging.getLogger('interface')\n",
    "logger.setLevel(logging.DEBUG)\n",
    "# create console handler and set level to debug\n",
    "ch = logging.StreamHandler()\n",
    "ch.setLevel(logging.INFO)\n",
    "# create formatter\n",
    "formatter = logging.Formatter('%(asctime)s - %(levelname)s - %(message)s')\n",
    "# add formatter to ch\n",
    "ch.setFormatter(formatter)\n",
    "# add ch to logger\n",
    "logger.addHandler(ch)"
   ]
  },
  {
   "cell_type": "markdown",
   "metadata": {},
   "source": [
    "#### Define the later function variables in hard-code for debuging"
   ]
  },
  {
   "cell_type": "code",
   "execution_count": 4,
   "metadata": {
    "collapsed": true
   },
   "outputs": [],
   "source": [
    "subject_folder = '/Users/srothmei/Desktop/charite/toronto/'\n",
    "subject_id = 'FR_20120903'"
   ]
  },
  {
   "cell_type": "markdown",
   "metadata": {},
   "source": [
    "## Set parameters and build variables"
   ]
  },
  {
   "cell_type": "code",
   "execution_count": 5,
   "metadata": {
    "collapsed": true
   },
   "outputs": [],
   "source": [
    "reconallFolderName = 'recon_all' # Define what the output folder of recon-all should be named\n",
    "subPath = subject_folder + '/' + subject_id # Build full path to subject folder\n",
    "\n",
    "wf = Workflow(name = 'preprocSub')"
   ]
  },
  {
   "cell_type": "markdown",
   "metadata": {},
   "source": [
    "#### RawData Structure"
   ]
  },
  {
   "cell_type": "code",
   "execution_count": 6,
   "metadata": {
    "collapsed": false
   },
   "outputs": [],
   "source": [
    "rawdataFolder = subPath + '/RAWDATA' # Define the path to the folder holding the rawdata dicom-files\n",
    "T1RawFolder = rawdataFolder + '/MPRAGE/' # The T1 rawdata folder\n",
    "dwiRawFolder = rawdataFolder + '/DTI' # The dwMRI rawdata folder\n",
    "fmriRawFolder = rawdataFolder + '/BOLD-EPI/' # The fMRI rawdata folder"
   ]
  },
  {
   "cell_type": "code",
   "execution_count": 7,
   "metadata": {
    "collapsed": false
   },
   "outputs": [
    {
     "name": "stderr",
     "output_type": "stream",
     "text": [
      "2015-10-30 17:45:21,647 - INFO - Start the preprocessing for subject FR_20120903\n",
      "INFO:interface:Start the preprocessing for subject FR_20120903\n"
     ]
    }
   ],
   "source": [
    "logger.info('Start the preprocessing for subject ' + subject_id)"
   ]
  },
  {
   "cell_type": "markdown",
   "metadata": {},
   "source": [
    "### Structural Data (T1) preprocessing"
   ]
  },
  {
   "cell_type": "code",
   "execution_count": 8,
   "metadata": {
    "collapsed": false
   },
   "outputs": [
    {
     "name": "stderr",
     "output_type": "stream",
     "text": [
      "2015-10-30 17:45:23,037 - INFO - Start recon_all\n",
      "INFO:interface:Start recon_all\n"
     ]
    }
   ],
   "source": [
    "logger.info('Start recon_all')\n",
    "\n",
    "# Get the first DICOM file from the set of T1 raw-images\n",
    "df = DataFinder(root_paths = T1RawFolder, match_regex = '.*\\.dcm')\n",
    "firstFile = df.run().outputs.out_paths[0]\n",
    "# Set recon-all parameters\n",
    "reconallInterface = freesurfer.preprocess.ReconAll()\n",
    "reconallInterface.inputs.T1_files = firstFile\n",
    "reconallInterface.inputs.subjects_dir = subPath\n",
    "reconallInterface.inputs.subject_id = reconallFolderName\n",
    "reconallInterface.inputs.directive = 'all'\n",
    "reconallInterface.inputs.openmp = cpu_count()\n",
    "\n",
    "reconall = Node(reconallInterface, name = 'reconall')\n",
    "\n",
    "mc = freesurfer.preprocess.MRIConvert()\n",
    "#mc.inputs.in_file = subPath + reconallFolderName + '/mri/aparc+aseg.mgz'\n",
    "mc.inputs.out_file = subPath + reconallFolderName + '/mri/aparc+aseg.nii.gz'\n",
    "mc.inputs.out_type = 'niigz'\n",
    "mc.inputs.out_orientation = 'RAS'\n",
    "\n",
    "convertT1 = Node(mc, name = 'convertT1')\n",
    "\n",
    "# Connect the nodes in the workflow\n",
    "wf.connect(reconall, 'T1', convertT1, 'in_file')\n",
    "\n",
    "T1 = subPath + reconallFolderName + '/mri/T1.mgz'"
   ]
  },
  {
   "cell_type": "code",
   "execution_count": 11,
   "metadata": {
    "collapsed": false,
    "scrolled": true
   },
   "outputs": [
    {
     "name": "stderr",
     "output_type": "stream",
     "text": [
      "DEBUG:interface:{'DISPLAY': ':1'}\n",
      "INFO:workflow:Converting dotfile: /Users/srothmei/Documents/TVB-Pypeline/notebooks/workflow_graph.dot to png format\n"
     ]
    },
    {
     "data": {
      "image/png": "[encoded data removed]",
      "text/plain": [
       "<IPython.core.display.Image object>"
      ]
     },
     "execution_count": 11,
     "metadata": {},
     "output_type": "execute_result"
    }
   ],
   "source": [
    "wf.write_graph(\"workflow_graph.dot\")\n",
    "from IPython.display import Image\n",
    "Image(filename=\"workflow_graph.dot.png\")\n",
    "#from matplotlib import image as Image\n",
    "#print(wf.write_graph.__doc__)"
   ]
  },
  {
   "cell_type": "markdown",
   "metadata": {},
   "source": [
    "### Diffusion Data (dwMRI) preprocessing"
   ]
  },
  {
   "cell_type": "code",
   "execution_count": null,
   "metadata": {
    "collapsed": false
   },
   "outputs": [],
   "source": [
    "logger.info('Start dt_recon')\n",
    "\n",
    "# First extract the diffusion vectors and the pulse intensity (bvec and bval)\n",
    "# Use dcm2nii for this task.\n",
    "# dcm2nii -g -i -d N -e N DTI/*.dcm\n",
    "# Find all dwMRI DICOM files\n",
    "df.inputs.root_paths = dwiRawFolder\n",
    "dwMriDicoms = df.run().outputs.out_paths\n",
    "\n",
    "converter = Dcm2nii()\n",
    "converter.inputs.source_names = dwMriDicoms\n",
    "converter.inputs.gzip_output = True\n",
    "converter.inputs.output_dir = dwiRawFolder\n",
    "converter.run()\n"
   ]
  },
  {
   "cell_type": "code",
   "execution_count": null,
   "metadata": {
    "collapsed": true
   },
   "outputs": [],
   "source": []
  }
 ],
 "metadata": {
  "kernelspec": {
   "display_name": "Python 2",
   "language": "python",
   "name": "python2"
  },
  "language_info": {
   "codemirror_mode": {
    "name": "ipython",
    "version": 2
   },
   "file_extension": ".py",
   "mimetype": "text/x-python",
   "name": "python",
   "nbconvert_exporter": "python",
   "pygments_lexer": "ipython2",
   "version": "2.7.10"
  }
 },
 "nbformat": 4,
 "nbformat_minor": 0
}
