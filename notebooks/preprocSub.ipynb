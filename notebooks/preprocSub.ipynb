{
 "cells": [
  {
   "cell_type": "markdown",
   "metadata": {},
   "source": [
    "# Pipeline Preprocessing Workflow"
   ]
  },
  {
   "cell_type": "markdown",
   "metadata": {},
   "source": [
    "This script handles all the preprocessing of the rawdata for structural MRI and also diffusion weighted MRI\n",
    "The tools used in this workflow are <b>FSL</b>, <b>FREESURFER</b> & <b>Dicom2Nii</b>"
   ]
  },
  {
   "cell_type": "markdown",
   "metadata": {},
   "source": [
    "#### Handle the imports"
   ]
  },
  {
   "cell_type": "code",
   "execution_count": 1,
   "metadata": {
    "collapsed": false
   },
   "outputs": [],
   "source": [
    "from nipype import Node, Workflow\n",
    "from nipype.interfaces.utility import IdentityInterface, Function\n",
    "from nipype.interfaces import freesurfer, fsl\n",
    "from nipype.interfaces.dcm2nii import Dcm2nii\n",
    "from nipype.interfaces.io import DataFinder, DataSink\n",
    "from nipype import utils as nputils"
   ]
  },
  {
   "cell_type": "code",
   "execution_count": 2,
   "metadata": {
    "collapsed": true
   },
   "outputs": [],
   "source": [
    "from multiprocessing import cpu_count\n",
    "import numpy as np\n",
    "import logging, os, shutil, re"
   ]
  },
  {
   "cell_type": "markdown",
   "metadata": {},
   "source": [
    "#### Define a function for the preprocessing workflow"
   ]
  },
  {
   "cell_type": "code",
   "execution_count": null,
   "metadata": {
    "collapsed": false
   },
   "outputs": [],
   "source": [
    "# TODO: Lookup function definition in the notebook\n",
    "#def preproc_sub(subject_folder, subject_id):"
   ]
  },
  {
   "cell_type": "markdown",
   "metadata": {},
   "source": [
    "#### Start the logging"
   ]
  },
  {
   "cell_type": "code",
   "execution_count": 3,
   "metadata": {
    "collapsed": false
   },
   "outputs": [],
   "source": [
    "logger = logging.getLogger('workflow')\n",
    "logger.setLevel(logging.DEBUG)\n",
    "# create console handler and set level to debug\n",
    "ch = logging.StreamHandler()\n",
    "ch.setLevel(logging.INFO)\n",
    "# create formatter\n",
    "formatter = logging.Formatter('%(asctime)s - %(levelname)s - %(message)s')\n",
    "# add formatter to ch\n",
    "ch.setFormatter(formatter)\n",
    "# add ch to logger\n",
    "logger.addHandler(ch)"
   ]
  },
  {
   "cell_type": "markdown",
   "metadata": {},
   "source": [
    "#### Define the later function variables in hard-code for debuging"
   ]
  },
  {
   "cell_type": "code",
   "execution_count": 4,
   "metadata": {
    "collapsed": true
   },
   "outputs": [],
   "source": [
    "subject_folder = '/Users/srothmei/Desktop/charite/toronto/'\n",
    "subject_id = 'FR_20120903'"
   ]
  },
  {
   "cell_type": "markdown",
   "metadata": {},
   "source": [
    "### Utility Nodes"
   ]
  },
  {
   "cell_type": "code",
   "execution_count": 5,
   "metadata": {
    "collapsed": false
   },
   "outputs": [],
   "source": [
    "def extractB0(dwMriFile):\n",
    "    # This function is used to extract the b0 image out of the 4D series of diffusion images by splitting the\n",
    "    # series, copying the first image and merging the images together into a single file afterwards\n",
    "    pth, fname, ext = nputils.filemanip.split_filename(dwMriFile)\n",
    "    currPth = os.path.realpath('.')\n",
    "\n",
    "    # Change dir because FSL split takes no input for storing things somewhere else....\n",
    "    os.chdir(pth)    \n",
    "\n",
    "    splitter = fsl.utils.Split(dimension = 't', out_base_name = 'tmp_', in_file = dwMriFile)\n",
    "    res = splitter.run()\n",
    "    b0 = res.outputs.out_files[0]\n",
    "\n",
    "    # Copy the b0 image and rename it accordingly\n",
    "    shutil.copy(b0, 'no_diffusion.nii.gz')\n",
    "    b0 = os.path.abspath('no_diffusion.nii.gz')\n",
    "\n",
    "    # Delete the sliced files...\n",
    "    for f in res.outputs.out_files:\n",
    "        os.remove(f)\n",
    "\n",
    "    # Change back into previous directory\n",
    "    os.chdir(currPth)\n",
    "    \n",
    "    return b0"
   ]
  },
  {
   "cell_type": "markdown",
   "metadata": {},
   "source": [
    "## Set parameters and build variables"
   ]
  },
  {
   "cell_type": "code",
   "execution_count": 6,
   "metadata": {
    "collapsed": false
   },
   "outputs": [],
   "source": [
    "reconallFolderName = 'recon_all' # Define what the output folder of recon-all should be named\n",
    "# Predefine some filenames\n",
    "fileNames = {'wmSurf_lh': 'lh_white.nii.gz',\n",
    "            'wmSurf_rh': 'rh_white.nii.gz',\n",
    "            'wmSurf': 'wm_outline.nii.gz',\n",
    "            'wmoutline2diff_1mm': 'wmoutline2diff_1mm.nii.gz',\n",
    "            'wmoutline2diff': 'wmoutline2diff.nii.gz',\n",
    "            'wmparc2diff_1mm': 'wmparc2diff_1mm.nii.gz',\n",
    "            'aparc+aseg2diff_1mm':' aparc+aseg_1mm.nii.gz',\n",
    "            'aparc+aseg2diff': 'aparc+aseg2diff.nii.gz',\n",
    "            'lowresWmMask': 'wmmask.nii.gz',\n",
    "            'highresWmMask': 'wmmask_1mm.nii.gz'}\n",
    "\n",
    "def fileNameBuilder(path, fname):\n",
    "    return path + fname\n",
    "\n",
    "def pathBuilder(subject_folder, subject_id, ):\n",
    "    subPath = subject_folder + '/' + subject_id # Build full path to subject folder\n",
    "    \n",
    "    #Path definitions\n",
    "    dwiPreprocFolder = subPath + '/diff_processed'\n",
    "    trackingFolder = subPath + '/tractography'\n",
    "    calc_images = subPath + '/calc_images'\n",
    "    \n",
    "    # Make folders\n",
    "    os.makedirs(dwiPreprocFolder)\n",
    "    os.makedirs(trackingFolder)\n",
    "    os.makedirs(calc_images)\n",
    "    \n",
    "    # RawData Structure\n",
    "    rawdataFolder = subPath + '/RAWDATA' # Define the path to the folder holding the rawdata dicom-files\n",
    "    T1RawFolder = rawdataFolder + '/MPRAGE/' # The T1 rawdata folder\n",
    "    dwiRawFolder = rawdataFolder + '/DTI' # The dwMRI rawdata folder\n",
    "    fmriRawFolder = rawdataFolder + '/BOLD-EPI/' # The fMRI rawdata folder\n",
    "    \n",
    "    return subPath, rawdataFolder, T1RawFolder, dwiRawFolder, fmriRawFolder, dwiPreprocFolder, trackingFolder, bbRegFile\n",
    "\n",
    "pathBuildingNode = Node(Function(input_names = ['subject_folder', 'subject_id'],\n",
    "                                output_names = ['subPath', 'rawdataFolder', 'T1RawFolder',\n",
    "                                                'dwiRawFolder', 'fmriRawFolder', \n",
    "                                                'dwiPreprocFolder', 'trackingFolder', 'calc_images'],\n",
    "                                function = pathBuilder),\n",
    "                        name='pathBuilder')"
   ]
  },
  {
   "cell_type": "markdown",
   "metadata": {},
   "source": [
    "### Define Inputnode and Outputnode"
   ]
  },
  {
   "cell_type": "code",
   "execution_count": 7,
   "metadata": {
    "collapsed": false
   },
   "outputs": [],
   "source": [
    "inputNode = Node(IdentityInterface(fields=['subject_id', 'subject_folder']), mandatory_inputs=True, name='input')\n",
    "inputNode.inputs.subject_id = subject_id\n",
    "inputNode.inputs.subject_folder = subject_folder\n",
    "\n",
    "# TODO: Define Output node\n",
    "mergedOutputs = pathBuildingNode.outputs.trait_names()\n",
    "mergedOutputs.extend(fileNames.keys())\n",
    "\n",
    "outputNode = Node(IdentityInterface(fields = mergedOutputs), mandatory_inputs = False, name = 'output')"
   ]
  },
  {
   "cell_type": "code",
   "execution_count": 8,
   "metadata": {
    "collapsed": false
   },
   "outputs": [
    {
     "name": "stderr",
     "output_type": "stream",
     "text": [
      "2015-11-06 09:47:50,863 - INFO - Start the preprocessing for subject FR_20120903\n",
      "INFO:workflow:Start the preprocessing for subject FR_20120903\n"
     ]
    }
   ],
   "source": [
    "logger.info('Start the preprocessing for subject ' + subject_id)"
   ]
  },
  {
   "cell_type": "markdown",
   "metadata": {},
   "source": [
    "### Structural Data (T1) preprocessing"
   ]
  },
  {
   "cell_type": "code",
   "execution_count": 9,
   "metadata": {
    "collapsed": false
   },
   "outputs": [
    {
     "name": "stderr",
     "output_type": "stream",
     "text": [
      "2015-11-06 09:47:52,741 - INFO - Start recon_all\n",
      "INFO:workflow:Start recon_all\n"
     ]
    }
   ],
   "source": [
    "logger.info('Start recon_all')\n",
    "\n",
    "# Setup a datafinder to find the paths to the specific DICOM files\n",
    "t1FinderNode = Node(DataFinder(), name = 't1Finder')\n",
    "t1FinderNode.inputs.match_regex = '.*\\.dcm'\n",
    "#df = DataFinder(root_paths = T1RawFolder, match_regex = '.*\\.dcm')\n",
    "#firstFile = df.run().outputs.out_paths[0]\n",
    "\n",
    "# Set recon-all parameters\n",
    "reconallNode = Node(freesurfer.preprocess.ReconAll(), name = 'reconall')\n",
    "#reconallNode.inputs.T1_files = firstFile\n",
    "#reconallNode.inputs.subjects_dir = subPath\n",
    "reconallNode.inputs.subject_id = reconallFolderName\n",
    "reconallNode.inputs.directive = 'all'\n",
    "reconallNode.inputs.openmp = cpu_count()\n",
    "\n",
    "# Convert the T1 mgz image to nifti format for later usage\n",
    "mriConverter = Node(freesurfer.preprocess.MRIConvert(), name = 'convertAparcAseg')\n",
    "#convertT1.inputs.out_file = subPath + reconallFolderName + '/mri/aparc+aseg.nii.gz'\n",
    "mriConverter.inputs.out_type = 'niigz'\n",
    "mriConverter.inputs.out_orientation = 'RAS'"
   ]
  },
  {
   "cell_type": "markdown",
   "metadata": {},
   "source": [
    "### Diffusion Data (dwMRI) preprocessing"
   ]
  },
  {
   "cell_type": "code",
   "execution_count": 10,
   "metadata": {
    "collapsed": false
   },
   "outputs": [
    {
     "name": "stderr",
     "output_type": "stream",
     "text": [
      "2015-11-06 09:47:54,084 - INFO - Start dt_recon\n",
      "INFO:workflow:Start dt_recon\n"
     ]
    }
   ],
   "source": [
    "logger.info('Start dt_recon')\n",
    "\n",
    "# First extract the diffusion vectors and the pulse intensity (bvec and bval)\n",
    "# Use dcm2nii for this task\n",
    "#dwiFinderNode = t1FinderNode.clone('dwiFinder')\n",
    "\n",
    "dcm2niiNode = Node(Dcm2nii(), name = 'dcm2niiAndBvecs')\n",
    "dcm2niiNode.inputs.gzip_output = True\n",
    "dcm2niiNode.inputs.date_in_filename = False\n",
    "dcm2niiNode.inputs.events_in_filename = False\n",
    "\n",
    "\n",
    "# Extract the first image of the DTI series i.e. the b0 image\n",
    "extrctB0Node = Node(Function(input_names = ['dwMriFile'], output_names = ['b0'],\n",
    "                             function = extractB0), name = 'Extract_b0')\n",
    "\n",
    "\n",
    "# Perform the registration between subject T1 space and dwMRI space\n",
    "bbregNode = Node(freesurfer.preprocess.BBRegister(), name = 'BBRegister')\n",
    "bbregNode.inputs.init = \"fsl\"\n",
    "bbregNode.inputs.contrast_type = \"t2\"\n",
    "bbregNode.inputs.epi_mask = True\n",
    "bbregNode.inputs.out_fsl_file = True\n",
    "bbregNode.inputs.args = \"--tol1d 1e-3\"\n",
    "bbregNode.inputs.subject_id = reconallFolderName"
   ]
  },
  {
   "cell_type": "markdown",
   "metadata": {},
   "source": [
    "### Surface2Vol"
   ]
  },
  {
   "cell_type": "code",
   "execution_count": 11,
   "metadata": {
    "collapsed": false
   },
   "outputs": [
    {
     "name": "stderr",
     "output_type": "stream",
     "text": [
      "2015-11-06 09:47:55,395 - INFO - Start wm-surface transformation\n",
      "INFO:workflow:Start wm-surface transformation\n"
     ]
    }
   ],
   "source": [
    "logger.info('Start wm-surface transformation')\n",
    "\n",
    "# Transform Left Hemisphere\n",
    "lhWhiteFilename = 'lh_white.nii.gz'\n",
    "surf2volNode_lh = Node(freesurfer.utils.Surface2VolTransform(), name = 'surf2vol_lh')\n",
    "surf2volNode_lh.inputs.hemi = 'lh'\n",
    "surf2volNode_lh.inputs.mkmask = True\n",
    "surf2volNode_lh.inputs.subject_id = reconallFolderName\n",
    "\n",
    "# Transform right hemisphere\n",
    "surf2volNode_rh = surf2volNode_lh.clone('surf2vol_rh')\n",
    "surf2volNode_rh.inputs.hemi = 'rh'\n",
    "\n",
    "# Merge the hemispheres\n",
    "mergeHemisNode = Node(fsl.BinaryMaths(), name = 'mergeHemis')\n",
    "mergeHemisNode.inputs.operation = 'add'\n",
    "mergeHemisNode.inputs.output_type = 'NIFTI_GZ'"
   ]
  },
  {
   "cell_type": "markdown",
   "metadata": {},
   "source": [
    "### Registration"
   ]
  },
  {
   "cell_type": "code",
   "execution_count": 12,
   "metadata": {
    "collapsed": false
   },
   "outputs": [
    {
     "name": "stderr",
     "output_type": "stream",
     "text": [
      "2015-11-06 09:47:57,061 - INFO - Start inter-image-space registration\n",
      "INFO:workflow:Start inter-image-space registration\n"
     ]
    }
   ],
   "source": [
    "logger.info('Start inter-image-space registration')\n",
    "\n",
    "# Rotate high-res (1mm) WM-border to match dwi data w/o resampling\n",
    "applyReg_anat2diff_1mm = Node(freesurfer.ApplyVolTransform(), name = 'wmoutline2diff_1mm')\n",
    "applyReg_anat2diff_1mm.inputs.inverse = True\n",
    "applyReg_anat2diff_1mm.inputs.interp = 'nearest'\n",
    "applyReg_anat2diff_1mm.inputs.no_resample = True\n",
    "applyReg_anat2diff_1mm.inputs.args = '--no-save-reg'\n",
    "\n",
    "# Rotate high-res (1mm) WM-border to match dwi data with resampling\n",
    "applyReg_anat2diff = applyReg_anat2diff_1mm.clone('wmoutline2diff')\n",
    "applyReg_anat2diff.inputs.no_resample = False\n",
    "applyReg_anat2diff.inputs.interp = 'trilin'\n",
    "# Filter out low voxels produced by trilin. interp.\n",
    "thresholdNode = Node(fsl.maths.Threshold(), name = 'remove_interp_residuals')\n",
    "thresholdNode.inputs.thresh = 0.1\n",
    "thresholdNode.inputs.output_type = 'NIFTI_GZ'\n",
    "\n",
    "# Binarize\n",
    "binarizeNode = Node(fsl.maths.UnaryMaths(), name = 'binarize')\n",
    "binarizeNode.inputs.operation = 'bin'\n",
    "binarizeNode.inputs.output_type = 'NIFTI_GZ'\n",
    "\n",
    "# Rotate high-res (1mm) wmparc to match dwi data w/o resampling\n",
    "applyReg_wmparc2diff_1mm = applyReg_anat2diff_1mm.clone('wmparc2diff_1mm')\n",
    "\n",
    "# Rotate high-res (1mm) aparc+aseg to match dwi data w/o resampling\n",
    "applyReg_aparc2diff_1mm = applyReg_anat2diff_1mm.clone('aparc2diff_1mm')\n",
    "\n",
    "# Rotate high-res (1mm) aparc+aseg to match dwi data with resampling\n",
    "applyReg_aparc2diff = applyReg_anat2diff.clone('aparc2diff')\n",
    "applyReg_aparc2diff.inputs.interp = 'nearest'"
   ]
  },
  {
   "cell_type": "markdown",
   "metadata": {},
   "source": [
    "### Create Whitematter Brainmasks"
   ]
  },
  {
   "cell_type": "code",
   "execution_count": 13,
   "metadata": {
    "collapsed": false
   },
   "outputs": [
    {
     "name": "stderr",
     "output_type": "stream",
     "text": [
      "2015-11-06 09:47:58,405 - INFO - Start Creating Brainmasks\n",
      "INFO:workflow:Start Creating Brainmasks\n"
     ]
    }
   ],
   "source": [
    "logger.info('Start Creating Brainmasks')\n",
    "\n",
    "def extractWhitematter(input_image, wmoutline_image, output_image):\n",
    "    thresHolder = fsl.MultiImageMaths(input_file = input_image, out_file = output_image)\n",
    "    thresHolder.inputs.op_string = '-uthr 41 -thr 41'\n",
    "    thresHolder.run()\n",
    "    \n",
    "    thresHolder.inputs.input_file = output_image\n",
    "    thresHolder.inputs.op_string = '-uthr 2 -thr 2'\n",
    "    thresHolder.run()\n",
    "    \n",
    "    thresHolder.inputs.op_string = '-uthr 255 -thr 251'\n",
    "    thresHolder.run()\n",
    "    \n",
    "    # Combine and binarize\n",
    "    combinizer = fsl.BinaryMaths(operation = 'add', in_file = output_image, \n",
    "                                 operand_file = wmoutline_image, out_file = output_image)\n",
    "    binarizer = fsl.UnaryMaths(operation = 'bin', in_file = output_image, out_file = output_image)\n",
    "    \n",
    "    return output_image\n",
    "\n",
    "# Create the Nodes\n",
    "wmmask_lowres = Node(Function(input_names = ['input_image', 'wmoutline_image', 'output_image'],\n",
    "                             output_names = ['output_image'],\n",
    "                             function = extractWhitematter), name = 'extract_WM_lowres')\n",
    "\n",
    "wmmask_highres = wmmask_lowres.clone('extract_WM_highres')"
   ]
  },
  {
   "cell_type": "markdown",
   "metadata": {},
   "source": [
    "### Connect the Nodes"
   ]
  },
  {
   "cell_type": "code",
   "execution_count": 14,
   "metadata": {
    "collapsed": false
   },
   "outputs": [
    {
     "name": "stderr",
     "output_type": "stream",
     "text": [
      "DEBUG:workflow:(preprocSub.input, preprocSub.pathBuilder): No edge data\n",
      "DEBUG:workflow:(preprocSub.input, preprocSub.pathBuilder): new edge data: {'connect': [('subject_id', 'subject_id'), ('subject_folder', 'subject_folder')]}\n",
      "DEBUG:workflow:(preprocSub.pathBuilder, preprocSub.t1Finder): No edge data\n",
      "DEBUG:workflow:(preprocSub.pathBuilder, preprocSub.t1Finder): new edge data: {'connect': [('T1RawFolder', 'root_paths')]}\n",
      "DEBUG:workflow:(preprocSub.t1Finder, preprocSub.reconall): No edge data\n",
      "DEBUG:workflow:(preprocSub.t1Finder, preprocSub.reconall): new edge data: {'connect': [('out_paths', 'T1_files')]}\n",
      "DEBUG:workflow:(preprocSub.reconall, preprocSub.convertAparcAseg): No edge data\n",
      "DEBUG:workflow:(preprocSub.reconall, preprocSub.convertAparcAseg): new edge data: {'connect': [('aparc_aseg', 'in_file')]}\n",
      "DEBUG:workflow:(preprocSub.pathBuilder, preprocSub.dcm2niiAndBvecs): No edge data\n",
      "DEBUG:workflow:(preprocSub.pathBuilder, preprocSub.dcm2niiAndBvecs): new edge data: {'connect': [('dwiRawFolder', 'source_names'), ('dwiPreprocFolder', 'output_dir')]}\n",
      "DEBUG:workflow:(preprocSub.dcm2niiAndBvecs, preprocSub.Extract_b0): No edge data\n",
      "DEBUG:workflow:(preprocSub.dcm2niiAndBvecs, preprocSub.Extract_b0): new edge data: {'connect': [('converted_files', 'dwMriFile')]}\n",
      "DEBUG:workflow:(preprocSub.Extract_b0, preprocSub.BBRegister): No edge data\n",
      "DEBUG:workflow:(preprocSub.Extract_b0, preprocSub.BBRegister): new edge data: {'connect': [('b0', 'source_file')]}\n",
      "DEBUG:workflow:(preprocSub.pathBuilder, preprocSub.BBRegister): No edge data\n",
      "DEBUG:workflow:(preprocSub.pathBuilder, preprocSub.BBRegister): new edge data: {'connect': [('subPath', 'subjects_dir')]}\n",
      "DEBUG:workflow:(preprocSub.pathBuilder, preprocSub.surf2vol_lh): No edge data\n",
      "DEBUG:workflow:(preprocSub.pathBuilder, preprocSub.surf2vol_lh): new edge data: {'connect': [('subPath', 'subjects_dir'), (('calc_images', 'Vdef fileNameBuilder(path, fname):\\\\u000a    return path + fname\\\\u000a\\n.', ('lh_white.nii.gz',)), 'transformed_file')]}\n",
      "DEBUG:workflow:(preprocSub.reconall, preprocSub.surf2vol_lh): No edge data\n",
      "DEBUG:workflow:(preprocSub.reconall, preprocSub.surf2vol_lh): new edge data: {'connect': [('T1', 'template_file')]}\n",
      "DEBUG:workflow:(preprocSub.pathBuilder, preprocSub.surf2vol_rh): No edge data\n",
      "DEBUG:workflow:(preprocSub.pathBuilder, preprocSub.surf2vol_rh): new edge data: {'connect': [('subPath', 'subjects_dir'), (('calc_images', 'Vdef fileNameBuilder(path, fname):\\\\u000a    return path + fname\\\\u000a\\n.', ('rh_white.nii.gz',)), 'transformed_file')]}\n",
      "DEBUG:workflow:(preprocSub.reconall, preprocSub.surf2vol_rh): No edge data\n",
      "DEBUG:workflow:(preprocSub.reconall, preprocSub.surf2vol_rh): new edge data: {'connect': [('T1', 'template_file')]}\n",
      "DEBUG:workflow:(preprocSub.surf2vol_lh, preprocSub.mergeHemis): No edge data\n",
      "DEBUG:workflow:(preprocSub.surf2vol_lh, preprocSub.mergeHemis): new edge data: {'connect': [('transformed_file', 'in_file')]}\n",
      "DEBUG:workflow:(preprocSub.surf2vol_rh, preprocSub.mergeHemis): No edge data\n",
      "DEBUG:workflow:(preprocSub.surf2vol_rh, preprocSub.mergeHemis): new edge data: {'connect': [('transformed_file', 'operand_file')]}\n",
      "DEBUG:workflow:(preprocSub.pathBuilder, preprocSub.mergeHemis): No edge data\n",
      "DEBUG:workflow:(preprocSub.pathBuilder, preprocSub.mergeHemis): new edge data: {'connect': [(('calc_images', 'Vdef fileNameBuilder(path, fname):\\\\u000a    return path + fname\\\\u000a\\n.', ('wm_outline.nii.gz',)), 'out_file')]}\n",
      "DEBUG:workflow:(preprocSub.Extract_b0, preprocSub.wmoutline2diff_1mm): No edge data\n",
      "DEBUG:workflow:(preprocSub.Extract_b0, preprocSub.wmoutline2diff_1mm): new edge data: {'connect': [('b0', 'source_file')]}\n",
      "DEBUG:workflow:(preprocSub.mergeHemis, preprocSub.wmoutline2diff_1mm): No edge data\n",
      "DEBUG:workflow:(preprocSub.mergeHemis, preprocSub.wmoutline2diff_1mm): new edge data: {'connect': [('out_file', 'target_file')]}\n",
      "DEBUG:workflow:(preprocSub.BBRegister, preprocSub.wmoutline2diff_1mm): No edge data\n",
      "DEBUG:workflow:(preprocSub.BBRegister, preprocSub.wmoutline2diff_1mm): new edge data: {'connect': [('out_reg_file', 'reg_file')]}\n",
      "DEBUG:workflow:(preprocSub.pathBuilder, preprocSub.wmoutline2diff_1mm): No edge data\n",
      "DEBUG:workflow:(preprocSub.pathBuilder, preprocSub.wmoutline2diff_1mm): new edge data: {'connect': [(('calc_images', 'Vdef fileNameBuilder(path, fname):\\\\u000a    return path + fname\\\\u000a\\n.', ('wmoutline2diff_1mm.nii.gz',)), 'transformed_file')]}\n",
      "DEBUG:workflow:(preprocSub.Extract_b0, preprocSub.wmoutline2diff): No edge data\n",
      "DEBUG:workflow:(preprocSub.Extract_b0, preprocSub.wmoutline2diff): new edge data: {'connect': [('b0', 'source_file')]}\n",
      "DEBUG:workflow:(preprocSub.mergeHemis, preprocSub.wmoutline2diff): No edge data\n",
      "DEBUG:workflow:(preprocSub.mergeHemis, preprocSub.wmoutline2diff): new edge data: {'connect': [('out_file', 'target_file')]}\n",
      "DEBUG:workflow:(preprocSub.BBRegister, preprocSub.wmoutline2diff): No edge data\n",
      "DEBUG:workflow:(preprocSub.BBRegister, preprocSub.wmoutline2diff): new edge data: {'connect': [('out_reg_file', 'reg_file')]}\n",
      "DEBUG:workflow:(preprocSub.pathBuilder, preprocSub.wmoutline2diff): No edge data\n",
      "DEBUG:workflow:(preprocSub.pathBuilder, preprocSub.wmoutline2diff): new edge data: {'connect': [(('calc_images', 'Vdef fileNameBuilder(path, fname):\\\\u000a    return path + fname\\\\u000a\\n.', ('wmoutline2diff.nii.gz',)), 'transformed_file')]}\n",
      "DEBUG:workflow:(preprocSub.wmoutline2diff, preprocSub.remove_interp_residuals): No edge data\n",
      "DEBUG:workflow:(preprocSub.wmoutline2diff, preprocSub.remove_interp_residuals): new edge data: {'connect': [('transformed_file', 'in_file'), ('transformed_file', 'out_file')]}\n",
      "DEBUG:workflow:(preprocSub.remove_interp_residuals, preprocSub.binarize): No edge data\n",
      "DEBUG:workflow:(preprocSub.remove_interp_residuals, preprocSub.binarize): new edge data: {'connect': [('out_file', 'in_file'), ('out_file', 'out_file')]}\n",
      "DEBUG:workflow:(preprocSub.Extract_b0, preprocSub.wmparc2diff_1mm): No edge data\n",
      "DEBUG:workflow:(preprocSub.Extract_b0, preprocSub.wmparc2diff_1mm): new edge data: {'connect': [('b0', 'source_file')]}\n",
      "DEBUG:workflow:(preprocSub.reconall, preprocSub.wmparc2diff_1mm): No edge data\n",
      "DEBUG:workflow:(preprocSub.reconall, preprocSub.wmparc2diff_1mm): new edge data: {'connect': [('wmparc', 'target_file')]}\n",
      "DEBUG:workflow:(preprocSub.BBRegister, preprocSub.wmparc2diff_1mm): No edge data\n",
      "DEBUG:workflow:(preprocSub.BBRegister, preprocSub.wmparc2diff_1mm): new edge data: {'connect': [('out_reg_file', 'reg_file')]}\n",
      "DEBUG:workflow:(preprocSub.pathBuilder, preprocSub.wmparc2diff_1mm): No edge data\n",
      "DEBUG:workflow:(preprocSub.pathBuilder, preprocSub.wmparc2diff_1mm): new edge data: {'connect': [(('calc_images', 'Vdef fileNameBuilder(path, fname):\\\\u000a    return path + fname\\\\u000a\\n.', ('wmparc2diff_1mm.nii.gz',)), 'transformed_file')]}\n",
      "DEBUG:workflow:(preprocSub.Extract_b0, preprocSub.aparc2diff_1mm): No edge data\n",
      "DEBUG:workflow:(preprocSub.Extract_b0, preprocSub.aparc2diff_1mm): new edge data: {'connect': [('b0', 'source_file')]}\n",
      "DEBUG:workflow:(preprocSub.reconall, preprocSub.aparc2diff_1mm): No edge data\n",
      "DEBUG:workflow:(preprocSub.reconall, preprocSub.aparc2diff_1mm): new edge data: {'connect': [('aparc_aseg', 'target_file')]}\n",
      "DEBUG:workflow:(preprocSub.BBRegister, preprocSub.aparc2diff_1mm): No edge data\n",
      "DEBUG:workflow:(preprocSub.BBRegister, preprocSub.aparc2diff_1mm): new edge data: {'connect': [('out_reg_file', 'reg_file')]}\n",
      "DEBUG:workflow:(preprocSub.pathBuilder, preprocSub.aparc2diff_1mm): No edge data\n",
      "DEBUG:workflow:(preprocSub.pathBuilder, preprocSub.aparc2diff_1mm): new edge data: {'connect': [(('calc_images', 'Vdef fileNameBuilder(path, fname):\\\\u000a    return path + fname\\\\u000a\\n.', (' aparc+aseg_1mm.nii.gz',)), 'transformed_file')]}\n",
      "DEBUG:workflow:(preprocSub.Extract_b0, preprocSub.aparc2diff): No edge data\n",
      "DEBUG:workflow:(preprocSub.Extract_b0, preprocSub.aparc2diff): new edge data: {'connect': [('b0', 'source_file')]}\n",
      "DEBUG:workflow:(preprocSub.reconall, preprocSub.aparc2diff): No edge data\n",
      "DEBUG:workflow:(preprocSub.reconall, preprocSub.aparc2diff): new edge data: {'connect': [('aparc_aseg', 'target_file')]}\n",
      "DEBUG:workflow:(preprocSub.BBRegister, preprocSub.aparc2diff): No edge data\n",
      "DEBUG:workflow:(preprocSub.BBRegister, preprocSub.aparc2diff): new edge data: {'connect': [('out_reg_file', 'reg_file')]}\n",
      "DEBUG:workflow:(preprocSub.pathBuilder, preprocSub.aparc2diff): No edge data\n",
      "DEBUG:workflow:(preprocSub.pathBuilder, preprocSub.aparc2diff): new edge data: {'connect': [(('calc_images', 'Vdef fileNameBuilder(path, fname):\\\\u000a    return path + fname\\\\u000a\\n.', ('aparc+aseg2diff.nii.gz',)), 'transformed_file')]}\n",
      "DEBUG:workflow:(preprocSub.aparc2diff, preprocSub.extract_WM_lowres): No edge data\n",
      "DEBUG:workflow:(preprocSub.aparc2diff, preprocSub.extract_WM_lowres): new edge data: {'connect': [('transformed_file', 'input_image')]}\n",
      "DEBUG:workflow:(preprocSub.mergeHemis, preprocSub.extract_WM_lowres): No edge data\n",
      "DEBUG:workflow:(preprocSub.mergeHemis, preprocSub.extract_WM_lowres): new edge data: {'connect': [('out_file', 'wmoutline_image')]}\n",
      "DEBUG:workflow:(preprocSub.pathBuilder, preprocSub.extract_WM_lowres): No edge data\n",
      "DEBUG:workflow:(preprocSub.pathBuilder, preprocSub.extract_WM_lowres): new edge data: {'connect': [(('calc_images', 'Vdef fileNameBuilder(path, fname):\\\\u000a    return path + fname\\\\u000a\\n.', ('wmmask.nii.gz',)), 'output_image')]}\n",
      "DEBUG:workflow:(preprocSub.aparc2diff_1mm, preprocSub.extract_WM_highres): No edge data\n",
      "DEBUG:workflow:(preprocSub.aparc2diff_1mm, preprocSub.extract_WM_highres): new edge data: {'connect': [('transformed_file', 'input_image')]}\n",
      "DEBUG:workflow:(preprocSub.mergeHemis, preprocSub.extract_WM_highres): No edge data\n",
      "DEBUG:workflow:(preprocSub.mergeHemis, preprocSub.extract_WM_highres): new edge data: {'connect': [('out_file', 'wmoutline_image')]}\n",
      "DEBUG:workflow:(preprocSub.pathBuilder, preprocSub.extract_WM_highres): No edge data\n",
      "DEBUG:workflow:(preprocSub.pathBuilder, preprocSub.extract_WM_highres): new edge data: {'connect': [(('calc_images', 'Vdef fileNameBuilder(path, fname):\\\\u000a    return path + fname\\\\u000a\\n.', ('wmmask_1mm.nii.gz',)), 'output_image')]}\n"
     ]
    }
   ],
   "source": [
    "wf = Workflow(name = 'preprocSub')\n",
    "\n",
    "# Input strings to pathbuilder\n",
    "wf.connect([(inputNode, pathBuildingNode, [('subject_id', 'subject_id'),\n",
    "                                          ('subject_folder', 'subject_folder')])])\n",
    "# T1-Rawdata-path into dataFinder to find T1 DICOMs\n",
    "wf.connect(pathBuildingNode, 'T1RawFolder', t1FinderNode, 'root_paths')\n",
    "# T1 DICOM-paths into recon_all\n",
    "wf.connect(t1FinderNode, 'out_paths', reconallNode, 'T1_files')\n",
    "# aparc+aseg into mriConverter\n",
    "wf.connect(reconallNode, 'aparc_aseg', mriConverter, 'in_file')\n",
    "\n",
    "# dcm2nii\n",
    "wf.connect([(pathBuildingNode, dcm2niiNode, [('dwiRawFolder', 'source_names'),\n",
    "                                            ('dwiPreprocFolder', 'output_dir')])])\n",
    "# B0 extraction\n",
    "wf.connect(dcm2niiNode, 'converted_files', extrctB0Node, 'dwMriFile')\n",
    "\n",
    "# Register b0 into T1 space\n",
    "wf.connect([(extrctB0Node, bbregNode, [('b0', 'source_file')]),\n",
    "           (pathBuildingNode, bbregNode, [('subPath', 'subjects_dir')])])\n",
    "\n",
    "# Tranform lh whitematter surface to voxel-space\n",
    "wf.connect([(pathBuildingNode, surf2volNode_lh, [('subPath', 'subjects_dir'),\n",
    "                                                (('calc_images', fileNameBuilder, fileNames['wmSurf_lh']),\n",
    "                                                 'transformed_file')]),\n",
    "           (reconallNode, surf2volNode_lh, [('T1', 'template_file')])])\n",
    "# Tranform rh whitematter...\n",
    "wf.connect([(pathBuildingNode, surf2volNode_rh, [('subPath', 'subjects_dir'),\n",
    "                                                (('calc_images', fileNameBuilder, fileNames['wmSurf_rh']),\n",
    "                                                 'transformed_file')]),\n",
    "           (reconallNode, surf2volNode_rh, [('T1', 'template_file')])])\n",
    "\n",
    "# Merge the hemispheres\n",
    "wf.connect([(surf2volNode_lh, mergeHemisNode, [('transformed_file', 'in_file')]),\n",
    "           (surf2volNode_rh, mergeHemisNode, [('transformed_file', 'operand_file')]),\n",
    "           (pathBuildingNode, mergeHemisNode, [(('calc_images', fileNameBuilder, fileNames['wmSurf']), 'out_file')])])\n",
    "\n",
    "# Registrations --__--__--__--\n",
    "wf.connect([(extrctB0Node, applyReg_anat2diff_1mm, [('b0', 'source_file')]),\n",
    "           (mergeHemisNode, applyReg_anat2diff_1mm, [('out_file', 'target_file')]),\n",
    "           (bbregNode, applyReg_anat2diff_1mm, [('out_reg_file', 'reg_file')]),\n",
    "           (pathBuildingNode, applyReg_anat2diff_1mm,\n",
    "            [(('calc_images',fileNameBuilder ,fileNames['wmoutline2diff_1mm']), 'transformed_file')])])\n",
    "\n",
    "wf.connect([(extrctB0Node, applyReg_anat2diff, [('b0', 'source_file')]),\n",
    "           (mergeHemisNode, applyReg_anat2diff, [('out_file', 'target_file')]),\n",
    "           (bbregNode, applyReg_anat2diff, [('out_reg_file', 'reg_file')]),\n",
    "           (pathBuildingNode, applyReg_anat2diff,\n",
    "            [(('calc_images',fileNameBuilder ,fileNames['wmoutline2diff']), 'transformed_file')])])\n",
    "\n",
    "wf.connect([(applyReg_anat2diff, thresholdNode, [('transformed_file', 'in_file'),\n",
    "                                                ('transformed_file', 'out_file')])])\n",
    "wf.connect([(thresholdNode, binarizeNode, [('out_file', 'in_file'),\n",
    "                                          ('out_file', 'out_file')])])\n",
    "\n",
    "wf.connect([(extrctB0Node, applyReg_wmparc2diff_1mm, [('b0', 'source_file')]),\n",
    "           (reconallNode, applyReg_wmparc2diff_1mm, [('wmparc', 'target_file')]),\n",
    "           (bbregNode, applyReg_wmparc2diff_1mm, [('out_reg_file', 'reg_file')]),\n",
    "           (pathBuildingNode, applyReg_wmparc2diff_1mm,\n",
    "            [(('calc_images',fileNameBuilder ,fileNames['wmparc2diff_1mm']), 'transformed_file')])])\n",
    "\n",
    "wf.connect([(extrctB0Node, applyReg_aparc2diff_1mm, [('b0', 'source_file')]),\n",
    "           (reconallNode, applyReg_aparc2diff_1mm, [('aparc_aseg', 'target_file')]),\n",
    "           (bbregNode, applyReg_aparc2diff_1mm, [('out_reg_file', 'reg_file')]),\n",
    "           (pathBuildingNode, applyReg_aparc2diff_1mm,\n",
    "            [(('calc_images',fileNameBuilder ,fileNames['aparc+aseg2diff_1mm']), 'transformed_file')])])\n",
    "\n",
    "wf.connect([(extrctB0Node, applyReg_aparc2diff, [('b0', 'source_file')]),\n",
    "           (reconallNode, applyReg_aparc2diff, [('aparc_aseg', 'target_file')]),\n",
    "           (bbregNode, applyReg_aparc2diff, [('out_reg_file', 'reg_file')]),\n",
    "           (pathBuildingNode, applyReg_aparc2diff,\n",
    "            [(('calc_images',fileNameBuilder ,fileNames['aparc+aseg2diff']), 'transformed_file')])])\n",
    "\n",
    "# Mask creation\n",
    "wf.connect([(applyReg_aparc2diff, wmmask_lowres, [('transformed_file', 'input_image')]),\n",
    "           (mergeHemisNode, wmmask_lowres, [('out_file', 'wmoutline_image')]),\n",
    "           (pathBuildingNode, wmmask_lowres, [(('calc_images', fileNameBuilder, fileNames['lowresWmMask']),\n",
    "                                               'output_image')])])\n",
    "\n",
    "wf.connect([(applyReg_aparc2diff_1mm, wmmask_highres, [('transformed_file', 'input_image')]),\n",
    "           (mergeHemisNode, wmmask_highres, [('out_file', 'wmoutline_image')]),\n",
    "           (pathBuildingNode, wmmask_highres, [(('calc_images', fileNameBuilder, fileNames['highresWmMask']),\n",
    "                                               'output_image')])])\n"
   ]
  },
  {
   "cell_type": "code",
   "execution_count": null,
   "metadata": {
    "collapsed": true
   },
   "outputs": [],
   "source": [
    "wf = Workflow(name = 'preprocSub')\n",
    "\n",
    "# Input strings to pathbuilder\n",
    "wf.connect([(inputNode, pathBuildingNode, [('subject_id', 'subject_id'),\n",
    "                                          ('subject_folder', 'subject_folder')])])\n",
    "# T1-Rawdata-path into dataFinder to find T1 DICOMs\n",
    "wf.connect(pathBuildingNode, 'T1RawFolder', t1FinderNode, 'root_paths')\n",
    "# T1 DICOM-paths into recon_all\n",
    "wf.connect(t1FinderNode, 'out_paths', reconallNode, 'T1_files')\n",
    "# aparc+aseg into mriConverter\n",
    "wf.connect(reconallNode, 'aparc_aseg', mriConverter, 'in_file')\n",
    "\n",
    "# dcm2nii\n",
    "wf.connect([(pathBuildingNode, dcm2niiNode, [('dwiRawFolder', 'source_names'),\n",
    "                                            ('dwiPreprocFolder', 'output_dir')])])\n",
    "# B0 extraction\n",
    "wf.connect(dcm2niiNode, 'converted_files', extrctB0Node, 'dwMriFile')\n",
    "\n",
    "# Register b0 into T1 space\n",
    "wf.connect([(extrctB0Node, bbregNode, [('b0', 'source_file')]),\n",
    "           (pathBuildingNode, bbregNode, [('subPath', 'subjects_dir')])])\n",
    "\n",
    "# Tranform lh whitematter surface to voxel-space\n",
    "wf.connect([(pathBuildingNode, surf2volNode_lh, [('subPath', 'subjects_dir'),\n",
    "                                                (('calc_images', fileNameBuilder, fileNames['wmSurf_lh']),\n",
    "                                                 'transformed_file')]),\n",
    "           (reconallNode, surf2volNode_lh, [('T1', 'template_file')])])\n",
    "# Tranform rh whitematter...\n",
    "wf.connect([(pathBuildingNode, surf2volNode_rh, [('subPath', 'subjects_dir'),\n",
    "                                                (('calc_images', fileNameBuilder, fileNames['wmSurf_rh']),\n",
    "                                                 'transformed_file')]),\n",
    "           (reconallNode, surf2volNode_rh, [('T1', 'template_file')])])\n",
    "\n",
    "# Merge the hemispheres\n",
    "wf.connect([(surf2volNode_lh, mergeHemisNode, [('transformed_file', 'in_file')]),\n",
    "           (surf2volNode_rh, mergeHemisNode, [('transformed_file', 'operand_file')]),\n",
    "           (pathBuildingNode, mergeHemisNode, [(('calc_images', fileNameBuilder, fileNames['wmSurf']), 'out_file')])])\n",
    "\n",
    "# Registrations --__--__--__--\n",
    "wf.connect([(extrctB0Node, applyReg_anat2diff_1mm, [('b0', 'source_file')]),\n",
    "           (mergeHemisNode, applyReg_anat2diff_1mm, [('out_file', 'target_file')]),\n",
    "           (bbregNode, applyReg_anat2diff_1mm, [('out_reg_file', 'reg_file')]),\n",
    "           (pathBuildingNode, applyReg_anat2diff_1mm,\n",
    "            [(('calc_images',fileNameBuilder ,fileNames['wmoutline2diff_1mm']), 'transformed_file')])])\n",
    "\n",
    "wf.connect([(extrctB0Node, applyReg_anat2diff, [('b0', 'source_file')]),\n",
    "           (mergeHemisNode, applyReg_anat2diff, [('out_file', 'target_file')]),\n",
    "           (bbregNode, applyReg_anat2diff, [('out_reg_file', 'reg_file')]),\n",
    "           (pathBuildingNode, applyReg_anat2diff,\n",
    "            [(('calc_images',fileNameBuilder ,fileNames['wmoutline2diff']), 'transformed_file')])])\n",
    "\n",
    "wf.connect([(applyReg_anat2diff, thresholdNode, [('transformed_file', 'in_file'),\n",
    "                                                ('transformed_file', 'out_file')])])\n",
    "wf.connect([(thresholdNode, binarizeNode, [('out_file', 'in_file'),\n",
    "                                          ('out_file', 'out_file')])])\n",
    "\n",
    "wf.connect([(extrctB0Node, applyReg_wmparc2diff_1mm, [('b0', 'source_file')]),\n",
    "           (reconallNode, applyReg_wmparc2diff_1mm, [('wmparc', 'target_file')]),\n",
    "           (bbregNode, applyReg_wmparc2diff_1mm, [('out_reg_file', 'reg_file')]),\n",
    "           (pathBuildingNode, applyReg_wmparc2diff_1mm,\n",
    "            [(('calc_images',fileNameBuilder ,fileNames['wmparc2diff_1mm']), 'transformed_file')])])\n",
    "\n",
    "wf.connect([(extrctB0Node, applyReg_aparc2diff_1mm, [('b0', 'source_file')]),\n",
    "           (reconallNode, applyReg_aparc2diff_1mm, [('aparc_aseg', 'target_file')]),\n",
    "           (bbregNode, applyReg_aparc2diff_1mm, [('out_reg_file', 'reg_file')]),\n",
    "           (pathBuildingNode, applyReg_aparc2diff_1mm,\n",
    "            [(('calc_images',fileNameBuilder ,fileNames['aparc+aseg2diff_1mm']), 'transformed_file')])])\n",
    "\n",
    "wf.connect([(extrctB0Node, applyReg_aparc2diff, [('b0', 'source_file')]),\n",
    "           (reconallNode, applyReg_aparc2diff, [('aparc_aseg', 'target_file')]),\n",
    "           (bbregNode, applyReg_aparc2diff, [('out_reg_file', 'reg_file')]),\n",
    "           (pathBuildingNode, applyReg_aparc2diff,\n",
    "            [(('calc_images',fileNameBuilder ,fileNames['aparc+aseg2diff']), 'transformed_file')])])\n",
    "\n",
    "# Mask creation\n",
    "wf.connect([(applyReg_aparc2diff, wmmask_lowres, [('transformed_file', 'input_image')]),\n",
    "           (mergeHemisNode, wmmask_lowres, [('out_file', 'wmoutline_image')]),\n",
    "           (pathBuildingNode, wmmask_lowres, [(('calc_images', fileNameBuilder, fileNames['lowresWmMask']),\n",
    "                                               'output_image')])])\n",
    "\n",
    "wf.connect([(applyReg_aparc2diff_1mm, wmmask_highres, [('transformed_file', 'input_image')]),\n",
    "           (mergeHemisNode, wmmask_highres, [('out_file', 'wmoutline_image')]),\n",
    "           (pathBuildingNode, wmmask_highres, [(('calc_images', fileNameBuilder, fileNames['highresWmMask']),\n",
    "                                               'output_image')])])\n",
    "\n",
    "# Now forwards all relevant stuff to output node\n",
    "for i in pathBuildingNode.outputs.trait_names():\n",
    "    if not re.search('trait', i):\n",
    "        wf.connect([(pathBuildingNode, outputNode, [(i, i)])])\n",
    "    \n",
    "wf.connect([(wmmask_highres, outputNode, [('output_image', fileNames['highresWmMask'])]),\n",
    "           (wmmask_lowres, outputNode, [('output_image', fileNames['lowresWmMask'])]),\n",
    "           (applyReg_aparc2diff, outputNode, [('transformed_file', fileNames['aparc+aseg2diff'])]),\n",
    "           (applyReg_aparc2diff_1mm, outputNode, [('transformed_file', fileNames['aparc+aseg2diff_1mm'])]),\n",
    "           (mergeHemisNode, outputNode, [('out_file', fileNames['wmSurf'])]),\n",
    "           (applyReg_anat2diff_1mm, outputNode, [('transformed_file', fileNames['wmoutline2diff_1mm'])]),\n",
    "           (applyReg_anat2diff, outputNode, [('transformed_file', fileNames['wmoutline2diff'])]),\n",
    "           (applyReg_wmparc2diff_1mm, outputNode, [('transformed_file', fileNames['wmparc2diff_1mm'])])\n",
    "           ])"
   ]
  },
  {
   "cell_type": "code",
   "execution_count": null,
   "metadata": {
    "collapsed": true
   },
   "outputs": [],
   "source": [
    "#fileNames.keys()\n",
    "wf.run('MultiProc', plugin_args={'n_procs': 2})"
   ]
  },
  {
   "cell_type": "markdown",
   "metadata": {
    "collapsed": true
   },
   "source": [
    "### Plot the workflow graph"
   ]
  },
  {
   "cell_type": "code",
   "execution_count": 15,
   "metadata": {
    "collapsed": false,
    "scrolled": false
   },
   "outputs": [
    {
     "name": "stderr",
     "output_type": "stream",
     "text": [
      "DEBUG:workflow:Creating flat graph for workflow: preprocSub\n",
      "DEBUG:workflow:expanding workflow: preprocSub\n",
      "DEBUG:workflow:processing node: preprocSub.input\n",
      "DEBUG:workflow:processing node: preprocSub.pathBuilder\n",
      "DEBUG:workflow:processing node: preprocSub.dcm2niiAndBvecs\n",
      "DEBUG:workflow:processing node: preprocSub.Extract_b0\n",
      "DEBUG:workflow:processing node: preprocSub.t1Finder\n",
      "DEBUG:workflow:processing node: preprocSub.reconall\n",
      "DEBUG:workflow:processing node: preprocSub.surf2vol_lh\n",
      "DEBUG:workflow:processing node: preprocSub.surf2vol_rh\n",
      "DEBUG:workflow:processing node: preprocSub.mergeHemis\n",
      "DEBUG:workflow:processing node: preprocSub.convertAparcAseg\n",
      "DEBUG:workflow:processing node: preprocSub.BBRegister\n",
      "DEBUG:workflow:processing node: preprocSub.wmoutline2diff\n",
      "DEBUG:workflow:processing node: preprocSub.aparc2diff_1mm\n",
      "DEBUG:workflow:processing node: preprocSub.extract_WM_highres\n",
      "DEBUG:workflow:processing node: preprocSub.wmoutline2diff_1mm\n",
      "DEBUG:workflow:processing node: preprocSub.wmparc2diff_1mm\n",
      "DEBUG:workflow:processing node: preprocSub.aparc2diff\n",
      "DEBUG:workflow:processing node: preprocSub.extract_WM_lowres\n",
      "DEBUG:workflow:processing node: preprocSub.remove_interp_residuals\n",
      "DEBUG:workflow:processing node: preprocSub.binarize\n",
      "DEBUG:workflow:finished expanding workflow: preprocSub\n",
      "DEBUG:workflow:using input graph\n",
      "2015-11-06 09:49:21,883 - INFO - Creating detailed dot file: /Users/srothmei/Documents/TVB-Pypeline/notebooks/workflow_graph_detailed.dot\n",
      "INFO:workflow:Creating detailed dot file: /Users/srothmei/Documents/TVB-Pypeline/notebooks/workflow_graph_detailed.dot\n",
      "DEBUG:workflow:creating dot graph\n"
     ]
    },
    {
     "ename": "ImportError",
     "evalue": "pydot could not be loaded: http://code.google.com/p/pydot/",
     "output_type": "error",
     "traceback": [
      "\u001b[0;31m---------------------------------------------------------------------------\u001b[0m",
      "\u001b[0;31mImportError\u001b[0m                               Traceback (most recent call last)",
      "\u001b[0;32m<ipython-input-15-4b81326fda98>\u001b[0m in \u001b[0;36m<module>\u001b[0;34m()\u001b[0m\n\u001b[0;32m----> 1\u001b[0;31m \u001b[0mwf\u001b[0m\u001b[0;34m.\u001b[0m\u001b[0mwrite_graph\u001b[0m\u001b[0;34m(\u001b[0m\u001b[0;34m\"workflow_graph.png\"\u001b[0m\u001b[0;34m,\u001b[0m \u001b[0mgraph2use\u001b[0m\u001b[0;34m=\u001b[0m\u001b[0;34m'flat'\u001b[0m\u001b[0;34m)\u001b[0m\u001b[0;34m\u001b[0m\u001b[0m\n\u001b[0m\u001b[1;32m      2\u001b[0m \u001b[0;32mfrom\u001b[0m \u001b[0mIPython\u001b[0m\u001b[0;34m.\u001b[0m\u001b[0mdisplay\u001b[0m \u001b[0;32mimport\u001b[0m \u001b[0mImage\u001b[0m\u001b[0;34m\u001b[0m\u001b[0m\n\u001b[1;32m      3\u001b[0m \u001b[0mImage\u001b[0m\u001b[0;34m(\u001b[0m\u001b[0mfilename\u001b[0m\u001b[0;34m=\u001b[0m\u001b[0;34m\"workflow_graph.dot.png\"\u001b[0m\u001b[0;34m)\u001b[0m\u001b[0;34m\u001b[0m\u001b[0m\n",
      "\u001b[0;32m/Library/Python/2.7/site-packages/nipype/pipeline/engine.pyc\u001b[0m in \u001b[0;36mwrite_graph\u001b[0;34m(self, dotfilename, graph2use, format, simple_form)\u001b[0m\n\u001b[1;32m    556\u001b[0m                 \u001b[0mgraph\u001b[0m \u001b[0;34m=\u001b[0m \u001b[0mgenerate_expanded_graph\u001b[0m\u001b[0;34m(\u001b[0m\u001b[0mdeepcopy\u001b[0m\u001b[0;34m(\u001b[0m\u001b[0mgraph\u001b[0m\u001b[0;34m)\u001b[0m\u001b[0;34m)\u001b[0m\u001b[0;34m\u001b[0m\u001b[0m\n\u001b[1;32m    557\u001b[0m             export_graph(graph, base_dir, dotfilename=dotfilename,\n\u001b[0;32m--> 558\u001b[0;31m                          format=format, simple_form=simple_form)\n\u001b[0m\u001b[1;32m    559\u001b[0m \u001b[0;34m\u001b[0m\u001b[0m\n\u001b[1;32m    560\u001b[0m     def write_hierarchical_dotfile(self, dotfilename=None, colored=False,\n",
      "\u001b[0;32m/Library/Python/2.7/site-packages/nipype/pipeline/utils.pyc\u001b[0m in \u001b[0;36mexport_graph\u001b[0;34m(graph_in, base_dir, show, use_execgraph, show_connectinfo, dotfilename, format, simple_form)\u001b[0m\n\u001b[1;32m    903\u001b[0m                                \u001b[0muse_ext\u001b[0m\u001b[0;34m=\u001b[0m\u001b[0mFalse\u001b[0m\u001b[0;34m,\u001b[0m\u001b[0;34m\u001b[0m\u001b[0m\n\u001b[1;32m    904\u001b[0m                                newpath=base_dir)\n\u001b[0;32m--> 905\u001b[0;31m     \u001b[0mnx\u001b[0m\u001b[0;34m.\u001b[0m\u001b[0mwrite_dot\u001b[0m\u001b[0;34m(\u001b[0m\u001b[0mpklgraph\u001b[0m\u001b[0;34m,\u001b[0m \u001b[0moutfname\u001b[0m\u001b[0;34m)\u001b[0m\u001b[0;34m\u001b[0m\u001b[0m\n\u001b[0m\u001b[1;32m    906\u001b[0m     \u001b[0mlogger\u001b[0m\u001b[0;34m.\u001b[0m\u001b[0minfo\u001b[0m\u001b[0;34m(\u001b[0m\u001b[0;34m'Creating dot file: %s'\u001b[0m \u001b[0;34m%\u001b[0m \u001b[0moutfname\u001b[0m\u001b[0;34m)\u001b[0m\u001b[0;34m\u001b[0m\u001b[0m\n\u001b[1;32m    907\u001b[0m     \u001b[0mcmd\u001b[0m \u001b[0;34m=\u001b[0m \u001b[0;34m'dot -T%s -O %s'\u001b[0m \u001b[0;34m%\u001b[0m \u001b[0;34m(\u001b[0m\u001b[0mformat\u001b[0m\u001b[0;34m,\u001b[0m \u001b[0moutfname\u001b[0m\u001b[0;34m)\u001b[0m\u001b[0;34m\u001b[0m\u001b[0m\n",
      "\u001b[0;32m/Library/Python/2.7/site-packages/networkx/drawing/nx_pydot.pyc\u001b[0m in \u001b[0;36mwrite_dot\u001b[0;34m(G, path)\u001b[0m\n",
      "\u001b[0;32m/Library/Python/2.7/site-packages/networkx/utils/decorators.pyc\u001b[0m in \u001b[0;36m_open_file\u001b[0;34m(func, *args, **kwargs)\u001b[0m\n\u001b[1;32m    218\u001b[0m         \u001b[0;31m# Finally, we call the original function, making sure to close the fobj.\u001b[0m\u001b[0;34m\u001b[0m\u001b[0;34m\u001b[0m\u001b[0m\n\u001b[1;32m    219\u001b[0m         \u001b[0;32mtry\u001b[0m\u001b[0;34m:\u001b[0m\u001b[0;34m\u001b[0m\u001b[0m\n\u001b[0;32m--> 220\u001b[0;31m             \u001b[0mresult\u001b[0m \u001b[0;34m=\u001b[0m \u001b[0mfunc\u001b[0m\u001b[0;34m(\u001b[0m\u001b[0;34m*\u001b[0m\u001b[0mnew_args\u001b[0m\u001b[0;34m,\u001b[0m \u001b[0;34m**\u001b[0m\u001b[0mkwargs\u001b[0m\u001b[0;34m)\u001b[0m\u001b[0;34m\u001b[0m\u001b[0m\n\u001b[0m\u001b[1;32m    221\u001b[0m         \u001b[0;32mfinally\u001b[0m\u001b[0;34m:\u001b[0m\u001b[0;34m\u001b[0m\u001b[0m\n\u001b[1;32m    222\u001b[0m             \u001b[0;32mif\u001b[0m \u001b[0mclose_fobj\u001b[0m\u001b[0;34m:\u001b[0m\u001b[0;34m\u001b[0m\u001b[0m\n",
      "\u001b[0;32m/Library/Python/2.7/site-packages/networkx/drawing/nx_pydot.pyc\u001b[0m in \u001b[0;36mwrite_dot\u001b[0;34m(G, path)\u001b[0m\n\u001b[1;32m     55\u001b[0m     \u001b[0mPath\u001b[0m \u001b[0mcan\u001b[0m \u001b[0mbe\u001b[0m \u001b[0ma\u001b[0m \u001b[0mstring\u001b[0m \u001b[0;32mor\u001b[0m \u001b[0ma\u001b[0m \u001b[0mfile\u001b[0m \u001b[0mhandle\u001b[0m\u001b[0;34m.\u001b[0m\u001b[0;34m\u001b[0m\u001b[0m\n\u001b[1;32m     56\u001b[0m     \"\"\"\n\u001b[0;32m---> 57\u001b[0;31m     \u001b[0mpydot\u001b[0m \u001b[0;34m=\u001b[0m \u001b[0mload_pydot\u001b[0m\u001b[0;34m(\u001b[0m\u001b[0;34m)\u001b[0m\u001b[0;34m\u001b[0m\u001b[0m\n\u001b[0m\u001b[1;32m     58\u001b[0m     \u001b[0mP\u001b[0m\u001b[0;34m=\u001b[0m\u001b[0mto_pydot\u001b[0m\u001b[0;34m(\u001b[0m\u001b[0mG\u001b[0m\u001b[0;34m)\u001b[0m\u001b[0;34m\u001b[0m\u001b[0m\n\u001b[1;32m     59\u001b[0m     \u001b[0mpath\u001b[0m\u001b[0;34m.\u001b[0m\u001b[0mwrite\u001b[0m\u001b[0;34m(\u001b[0m\u001b[0mP\u001b[0m\u001b[0;34m.\u001b[0m\u001b[0mto_string\u001b[0m\u001b[0;34m(\u001b[0m\u001b[0;34m)\u001b[0m\u001b[0;34m)\u001b[0m\u001b[0;34m\u001b[0m\u001b[0m\n",
      "\u001b[0;32m/Library/Python/2.7/site-packages/networkx/drawing/nx_pydot.pyc\u001b[0m in \u001b[0;36mload_pydot\u001b[0;34m()\u001b[0m\n\u001b[1;32m     45\u001b[0m     \u001b[0;32melse\u001b[0m\u001b[0;34m:\u001b[0m\u001b[0;34m\u001b[0m\u001b[0m\n\u001b[1;32m     46\u001b[0m         \u001b[0mmsg\u001b[0m \u001b[0;34m=\u001b[0m \u001b[0;34m\"pydot could not be loaded: http://code.google.com/p/pydot/\"\u001b[0m\u001b[0;34m\u001b[0m\u001b[0m\n\u001b[0;32m---> 47\u001b[0;31m         \u001b[0;32mraise\u001b[0m \u001b[0mImportError\u001b[0m\u001b[0;34m(\u001b[0m\u001b[0mmsg\u001b[0m\u001b[0;34m)\u001b[0m\u001b[0;34m\u001b[0m\u001b[0m\n\u001b[0m\u001b[1;32m     48\u001b[0m \u001b[0;34m\u001b[0m\u001b[0m\n\u001b[1;32m     49\u001b[0m     \u001b[0;32mreturn\u001b[0m \u001b[0mmodule\u001b[0m\u001b[0;34m\u001b[0m\u001b[0m\n",
      "\u001b[0;31mImportError\u001b[0m: pydot could not be loaded: http://code.google.com/p/pydot/"
     ]
    }
   ],
   "source": [
    "wf.write_graph(\"workflow_graph.png\", graph2use='flat')\n",
    "from IPython.display import Image\n",
    "Image(filename=\"workflow_graph.dot.png\")"
   ]
  },
  {
   "cell_type": "code",
   "execution_count": null,
   "metadata": {
    "collapsed": true
   },
   "outputs": [],
   "source": []
  }
 ],
 "metadata": {
  "kernelspec": {
   "display_name": "Python 2",
   "language": "python",
   "name": "python2"
  },
  "language_info": {
   "codemirror_mode": {
    "name": "ipython",
    "version": 2
   },
   "file_extension": ".py",
   "mimetype": "text/x-python",
   "name": "python",
   "nbconvert_exporter": "python",
   "pygments_lexer": "ipython2",
   "version": "2.7.10"
  }
 },
 "nbformat": 4,
 "nbformat_minor": 0
}
