{
 "cells": [
  {
   "cell_type": "code",
   "execution_count": 1,
   "metadata": {
    "collapsed": true
   },
   "outputs": [],
   "source": [
    "import os, json, sqlite3\n",
    "from flask import g\n",
    "from flask import Flask"
   ]
  },
  {
   "cell_type": "code",
   "execution_count": null,
   "metadata": {
    "collapsed": true
   },
   "outputs": [],
   "source": []
  },
  {
   "cell_type": "code",
   "execution_count": 17,
   "metadata": {
    "collapsed": false
   },
   "outputs": [
    {
     "name": "stdout",
     "output_type": "stream",
     "text": [
      "/Users/srothmei/Documents/iBooze/static/playerdb/playerdb.db\n",
      "/Users/srothmei/Documents/iBooze/static/playerdb/playerdb.db\n"
     ]
    }
   ],
   "source": [
    "DATABASE = '/Users/srothmei/Documents/iBooze/static/playerdb/playerdb.db'\n",
    "app = Flask(__name__)\n",
    "app.config.DATABASE = DATABASE\n",
    "\n",
    "print app.config.DATABASE\n",
    "\n",
    "with app.app_context():\n",
    "    g.app = app\n",
    "    test = getattr(g,'app', None)\n",
    "    print test.config.DATABASE"
   ]
  },
  {
   "cell_type": "code",
   "execution_count": 3,
   "metadata": {
    "collapsed": false
   },
   "outputs": [],
   "source": [
    "def connect_db():\n",
    "    return sqlite3.connect(DATABASE)\n",
    "\n",
    "#@app.before_request\n",
    "def get_db():\n",
    "    db = getattr(g, 'db', None)\n",
    "    if db is None:\n",
    "        db = g.db = connect_db()\n",
    "    db.row_factory = sqlite3.Row\n",
    "    return db\n",
    "    \n",
    "@app.teardown_request\n",
    "def teardown_request():\n",
    "    db = getattr(g, 'db', None)\n",
    "    if db is not None:\n",
    "        db.close()\n",
    "        \n",
    "def query_db(query, args=(), one=False):\n",
    "    cur = get_db().execute(query, args)\n",
    "    rv = cur.fetchall()\n",
    "    cur.close()\n",
    "    return (rv[0] if rv else None) if one else rv"
   ]
  },
  {
   "cell_type": "code",
   "execution_count": 6,
   "metadata": {
    "collapsed": false
   },
   "outputs": [
    {
     "name": "stdout",
     "output_type": "stream",
     "text": [
      "Fatima Fong\n"
     ]
    }
   ],
   "source": [
    "with app.app_context():\n",
    "    user = query_db('SELECT * FROM players')\n",
    "#db.row_factory = sqlite3.Row\n",
    "print user[0]['name']"
   ]
  },
  {
   "cell_type": "code",
   "execution_count": 18,
   "metadata": {
    "collapsed": true
   },
   "outputs": [],
   "source": [
    "app.import_name?"
   ]
  },
  {
   "cell_type": "code",
   "execution_count": null,
   "metadata": {
    "collapsed": true
   },
   "outputs": [],
   "source": []
  }
 ],
 "metadata": {
  "kernelspec": {
   "display_name": "Python 2",
   "language": "python",
   "name": "python2"
  },
  "language_info": {
   "codemirror_mode": {
    "name": "ipython",
    "version": 2
   },
   "file_extension": ".py",
   "mimetype": "text/x-python",
   "name": "python",
   "nbconvert_exporter": "python",
   "pygments_lexer": "ipython2",
   "version": "2.7.10"
  }
 },
 "nbformat": 4,
 "nbformat_minor": 0
}
