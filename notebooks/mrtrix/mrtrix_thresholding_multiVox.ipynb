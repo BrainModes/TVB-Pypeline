{
 "cells": [
  {
   "cell_type": "markdown",
   "metadata": {},
   "source": [
    "## Tracking Thresholding using Morris et al (2008)\n",
    "MultiVoxel!"
   ]
  },
  {
   "cell_type": "code",
   "execution_count": 2,
   "metadata": {
    "collapsed": true
   },
   "outputs": [],
   "source": [
    "import numpy as np\n",
    "from scipy.stats import poisson\n",
    "from scipy.ndimage.measurements import label\n",
    "from scipy.stats import mode\n",
    "import nibabel as nib\n",
    "from nipype.interfaces import mrtrix as mrt"
   ]
  },
  {
   "cell_type": "code",
   "execution_count": 45,
   "metadata": {
    "collapsed": true
   },
   "outputs": [],
   "source": [
    "theDir = \"/Users/srothmei/Desktop/charite/toronto/Adalberto/debug/\"\n",
    "csd_file = theDir + \"csd8.nii.gz\"\n",
    "csd_file_random = theDir + \"csd_random.nii.gz\"\n",
    "\n",
    "multiVoxelTracks = theDir + 'QL_10011_tracks.tck'\n",
    "multiVoxelTracksRandom = theDir + 'QL_10011_tracks_random.tck'\n",
    "\n",
    "singleVoxelTDI = theDir + 'QL_10011_tracks_multiVox_TDI.nii.gz'\n",
    "singleVoxelRandomTDI = theDir + 'QL_10011_tracks_multiVox_random_TDI.nii.gz'\n",
    "\n",
    "seedmask = theDir + 'seedmask10011_1mm.nii.gz'\n",
    "tmpMaskFileName = theDir + 'seedmask1001_tmp.nii.gz'\n",
    "\n",
    "singleVoxelTracks = theDir + 'QL_10011_tracks_singleVox.tck'\n",
    "singleVoxelTracksRandom = theDir + 'QL_10011_tracks_singleVox_random.tck'\n",
    "\n",
    "tracksPerVoxel = 500 * 200\n",
    "trackPerVoxelRandom = tracksPerVoxel * 20\n",
    "confidenceThreshold = 0.05 # P-Value"
   ]
  },
  {
   "cell_type": "markdown",
   "metadata": {},
   "source": [
    "## Generate non-informative fODF data i.e. fODF data which has equi-distributed directionality information along all possible directions, leaving a sphere"
   ]
  },
  {
   "cell_type": "code",
   "execution_count": 3,
   "metadata": {
    "collapsed": true
   },
   "outputs": [],
   "source": [
    "csd8 = nib.load(csd_file)\n",
    "csd8_data = csd8.get_data()"
   ]
  },
  {
   "cell_type": "code",
   "execution_count": 4,
   "metadata": {
    "collapsed": true
   },
   "outputs": [],
   "source": [
    "for i in range(csd8_data.shape[0]):\n",
    "    for j in range(csd8_data.shape[1]):\n",
    "        for k in range(csd8_data.shape[2]):\n",
    "            if np.sum(csd8_data[i,j,k,:] == np.zeros_like(csd8_data[30,40,32,:])) < 45:\n",
    "                csd8_data[i,j,k,:] = np.zeros_like(csd8_data[30,40,32,:])\n",
    "                csd8_data[i,j,k,0] = 1."
   ]
  },
  {
   "cell_type": "code",
   "execution_count": 5,
   "metadata": {
    "collapsed": false
   },
   "outputs": [],
   "source": [
    "csd8 = nib.Nifti1Image(csd8_data, csd8.affine, csd8.header)\n",
    "nib.save(csd8, csd_file_random)"
   ]
  },
  {
   "cell_type": "markdown",
   "metadata": {
    "collapsed": true
   },
   "source": [
    "## Now perform fiber tracking for a multi-voxel ROI using the (measurement-based) informative CSD map and the random-CSD-map.\n",
    "While using the random map, the number of tracks-per-voxel is 20x higher to achive statistical power"
   ]
  },
  {
   "cell_type": "code",
   "execution_count": null,
   "metadata": {
    "collapsed": true
   },
   "outputs": [],
   "source": [
    "tracker = mrt.StreamlineTrack()\n",
    "tracker.inputs.inputmodel = 'SD_PROB'\n",
    "tracker.inputs.stop = True\n",
    "tracker.inputs.minimum_tract_length = 30\n",
    "tracker.inputs.no_mask_interpolation = True\n",
    "tracker.inputs.step_size = 0.2\n",
    "tracker.inputs.unidirectional = True #Maybe off?\n",
    "tracker.inputs.seed_file = seedmask\n",
    "tracker.inputs.include_file = theDir + 'targetmask1001_1mm.nii.gz'\n",
    "tracker.inputs.mask_file = theDir + 'wmmask_68_1mm.nii.gz'\n",
    "\n",
    "# Now first for the \"informed case\"\n",
    "tracker.inputs.in_file = csd_file\n",
    "tracker.inputs.out_file = multiVoxelTracks\n",
    "tracker.inputs.desired_number_of_tracks = tracksPerVoxel\n",
    "# Perform the fiber tracking\n",
    "#tracker.run()\n",
    "\n",
    "# Secondly the \"uninformed case\"\n",
    "tracker.inputs.in_file = csd_file_random\n",
    "tracker.inputs.out_file = multiVoxelTracksRandom\n",
    "tracker.inputs.desired_number_of_tracks = trackPerVoxelRandom\n",
    "#tracker.run()"
   ]
  },
  {
   "cell_type": "markdown",
   "metadata": {},
   "source": [
    "## Loop over the voxels in the seedmask"
   ]
  },
  {
   "cell_type": "code",
   "execution_count": 35,
   "metadata": {
    "collapsed": false
   },
   "outputs": [],
   "source": [
    "# Load the seedmask image\n",
    "seedmask_image = nib.load(seedmask)\n",
    "seedmask_data = seedmask_image.get_data().astype(\"int8\")\n",
    "\n",
    "# Get the indices inside the cube of the seedvoxels\n",
    "seed_coords = np.transpose(np.nonzero(seedmask_data))\n",
    "\n",
    "# Init the combined P-Map for later usage\n",
    "raw_P_map_union = np.zeros_like(seedmask_data, dtype='float64')\n",
    "\n",
    "# Loop over those indices\n",
    "for seed_vox in seed_coords:\n",
    "    \n",
    "    # First generate a new temporary seedmask for the current voxel\n",
    "    seedmask_data = np.zeros_like(seedmask_data)\n",
    "    seedmask_data[seed_coords[0,0],seed_coords[0,1],seed_coords[0,2]] = 1\n",
    "    # Save the mask\n",
    "    tmpMask = nib.Nifti1Image(seedmask_data, seedmask_image.affine, seedmask_image.header)\n",
    "    nib.save(tmpMask, tmpMaskFileName)\n",
    "    \n",
    "    # Extract the tracks from the previously created tracking files \n",
    "    tracksFilter = mrt.FilterTracks()\n",
    "    tracksFilter.inputs.in_file = multiVoxelTracks\n",
    "    tracksFilter.inputs.no_mask_interpolation = True\n",
    "    tracksFilter.inputs.include_file = tmpMaskFileName\n",
    "    tracksFilter.inputs.invert = False\n",
    "    tracksFilter.inputs.out_file = singleVoxelTracks\n",
    "    tracksFilter.run()\n",
    "    \n",
    "    tracksFilter.in_file = multiVoxelTracksRandom\n",
    "    tracksFilter.out_file = singleVoxelTracksRandom\n",
    "    tracksFilter.run()"
   ]
  },
  {
   "cell_type": "markdown",
   "metadata": {},
   "source": [
    "## Generate maps of the connection probability"
   ]
  },
  {
   "cell_type": "code",
   "execution_count": null,
   "metadata": {
    "collapsed": false
   },
   "outputs": [],
   "source": [
    "tdi = mrt.Tracks2Prob()\n",
    "tdi.inputs.fraction = False\n",
    "tdi.inputs.template_file = seedmask\n",
    "\n",
    "tdi.inputs.in_file = singleVoxelTracks\n",
    "tdi.inputs.out_filename = singleVoxelTDI\n",
    "tdi.run()\n",
    "\n",
    "tdi.inputs.in_file = singleVoxelTracksRandom\n",
    "tdi.inputs.out_filename = singleVoxelRandomTDI\n",
    "tdi.run()"
   ]
  },
  {
   "cell_type": "markdown",
   "metadata": {},
   "source": [
    "## Now calculate the Z-Map"
   ]
  },
  {
   "cell_type": "code",
   "execution_count": null,
   "metadata": {
    "collapsed": true
   },
   "outputs": [],
   "source": [
    "tdi_informed = nib.load(singleVoxelTDI)\n",
    "tdi_informed_data = tdi_informed.get_data()\n",
    "\n",
    "tdi_random = nib.load(singleVoxelRandomTDI)\n",
    "tdi_random_data = tdi_random.get_data()\n",
    "\n",
    "# Equation (4)\n",
    "meanV = (tracksPerVoxel * tdi_random_data) / float(trackPerVoxelRandom)\n",
    "\n",
    "# Equation (5)\n",
    "stdV = np.sqrt(meanV)"
   ]
  },
  {
   "cell_type": "markdown",
   "metadata": {},
   "source": [
    "## Compute Stat Measures"
   ]
  },
  {
   "cell_type": "code",
   "execution_count": null,
   "metadata": {
    "collapsed": false
   },
   "outputs": [],
   "source": [
    "#Quick and dirty loop\n",
    "Z_Map = np.zeros_like(meanV, dtype='float64')\n",
    "#raw_P_Map = np.zeros_like(Z_Map)\n",
    "for x in range(np.shape(meanV)[0]):\n",
    "    for y in range(np.shape(meanV)[1]):\n",
    "        for z in range(np.shape(meanV)[2]):\n",
    "            if stdV[x,y,z] > 0.0:\n",
    "                # Equation (7)\n",
    "                tmp = (tdi_informed_data[x,y,z] - meanV[x,y,z]) / stdV[x,y,z]\n",
    "                #if tmp > 0.0:\n",
    "                #    Z_Map[x,y,z] = np.log(tmp)\n",
    "                #else:\n",
    "                Z_Map[x,y,z] = tmp\n",
    "                #Omit the negative Z-values\n",
    "                if tmp >= 0.0:\n",
    "                    k = tdi_informed_data[x,y,z]\n",
    "                    mu = meanV[x,y,z]\n",
    "                    # Only update the value if its larger\n",
    "                    raw_P_Map_union[x,y,z] = max(raw_P_Map_union[x,y,z], 1 - poisson.pmf(k, mu))\n",
    "\n",
    "# ### End the Voxel-Loop here! ###\n",
    "\n",
    "# Thresholded P-map\n",
    "P_Map_thresholded = np.zeros_like(raw_P_Map_union, dtype=\"int16\")\n",
    "P_Map_thresholded[raw_P_Map_union >= 1-(confidenceThreshold/np.shape(seed_coords)[0])] = 1\n",
    "\n",
    "                    \n",
    "# Some debug/visual stuff\n",
    "#zmapImage = nib.Nifti1Image(Z_Map, tdi_informed.affine, tdi_informed.header)\n",
    "#nib.save(zmapImage, theDir + 'Zmap.nii.gz')\n",
    "\n",
    "#pmapImage = nib.Nifti1Image(raw_P_Map, tdi_informed.affine, tdi_informed.header)\n",
    "#nib.save(pmapImage, theDir + 'Pmap_raw.nii.gz')\n",
    "\n",
    "#pmapThres = nib.Nifti1Image(P_Map_thresholded, tdi_informed.affine, tdi_informed.header)\n",
    "#nib.save(pmapThres, theDir + 'Pmap_thresholded.nii.gz')"
   ]
  },
  {
   "cell_type": "markdown",
   "metadata": {},
   "source": [
    "## False positive correction\n",
    "Check if the thresholded voxels have a connection to the seed voxel. If not remove them"
   ]
  },
  {
   "cell_type": "code",
   "execution_count": null,
   "metadata": {
    "collapsed": false
   },
   "outputs": [],
   "source": [
    "structure = np.ones((3,3,3))\n",
    "tmp = np.zeros_like(P_Map_thresholded, dtype=\"int16\")\n",
    "tmp, bar = label(P_Map_thresholded, structure)\n",
    "modal_val, modal_count = mode(tmp[tmp>0], axis=None)\n",
    "P_Map_thresholded_fpCorr = np.zeros_like(P_Map_thresholded)\n",
    "P_Map_thresholded_fpCorr[tmp == modal_val] = 1\n",
    "\n",
    "# Debugging / Testing\n",
    "#pmapThresFP = nib.Nifti1Image(P_Map_thresholded_fpCorr, tdi_informed.affine, tdi_informed.header)\n",
    "#nib.save(pmapThresFP, theDir + 'Pmap_thresholded_FPcorr.nii.gz')"
   ]
  },
  {
   "cell_type": "markdown",
   "metadata": {},
   "source": [
    "## Apply the P-Map onto the tracks"
   ]
  },
  {
   "cell_type": "code",
   "execution_count": null,
   "metadata": {
    "collapsed": false
   },
   "outputs": [],
   "source": [
    "# First invert the mask to apply it with MRTrix's tracks_filter\n",
    "P_Map_thresholded_fpCorr_inv = np.invert(P_Map_thresholded_fpCorr.astype(bool)).astype(int)\n",
    "# Now save it to use it!\n",
    "pmapThresFP_inv = nib.Nifti1Image(P_Map_thresholded_fpCorr_inv, tdi_informed.affine, tdi_informed.header)\n",
    "nib.save(pmapThresFP_inv, theDir + 'Pmap_thresholded_FPcorr_inv.nii.gz')\n",
    "\n",
    "tracksFilter = mrt.FilterTracks()\n",
    "tracksFilter.inputs.in_file = multiVoxelTracks\n",
    "tracksFilter.inputs.no_mask_interpolation = True\n",
    "tracksFilter.inputs.exclude_file = theDir + 'Pmap_thresholded_FPcorr_inv.nii.gz'\n",
    "tracksFilter.inputs.invert = False\n",
    "tracksFilter.inputs.out_file = theDir + 'QL_10011_tracks_filt.tck'\n",
    "\n",
    "tracksFilter.run()"
   ]
  }
 ],
 "metadata": {
  "kernelspec": {
   "display_name": "Python 2",
   "language": "python",
   "name": "python2"
  },
  "language_info": {
   "codemirror_mode": {
    "name": "ipython",
    "version": 2
   },
   "file_extension": ".py",
   "mimetype": "text/x-python",
   "name": "python",
   "nbconvert_exporter": "python",
   "pygments_lexer": "ipython2",
   "version": "2.7.10"
  }
 },
 "nbformat": 4,
 "nbformat_minor": 0
}
