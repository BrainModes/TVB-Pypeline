{
 "cells": [
  {
   "cell_type": "markdown",
   "metadata": {},
   "source": [
    "# MRTRix 0.2 main workflow"
   ]
  },
  {
   "cell_type": "markdown",
   "metadata": {},
   "source": [
    "This workflow connects the sub-workflows related to dwMRI processing and tractography using MRTrix 0.2,\n",
    "thus serving as a so-called \"scaffold workflow\"."
   ]
  },
  {
   "cell_type": "code",
   "execution_count": 6,
   "metadata": {
    "collapsed": false
   },
   "outputs": [],
   "source": [
    "from nipype import Node, Workflow\n",
    "from nipype.interfaces.utility import IdentityInterface, Function\n",
    "\n",
    "import mrtrix_preproc as preproc\n",
    "import mrtrix_tracking as trk\n",
    "\n",
    "import logging"
   ]
  },
  {
   "cell_type": "markdown",
   "metadata": {},
   "source": [
    "### Start the logging"
   ]
  },
  {
   "cell_type": "code",
   "execution_count": 7,
   "metadata": {
    "collapsed": true
   },
   "outputs": [],
   "source": [
    "logger = logging.getLogger('interface')\n",
    "logger.setLevel(logging.INFO)\n",
    "# create console handler and set level to debug\n",
    "ch = logging.StreamHandler()\n",
    "ch.setLevel(logging.INFO)\n",
    "# create formatter\n",
    "formatter = logging.Formatter('%(asctime)s - %(levelname)s - %(message)s')\n",
    "# add formatter to ch\n",
    "ch.setFormatter(formatter)\n",
    "# add ch to logger\n",
    "logger.addHandler(ch)"
   ]
  },
  {
   "cell_type": "markdown",
   "metadata": {},
   "source": [
    "### Define Input- and Outputnode"
   ]
  },
  {
   "cell_type": "code",
   "execution_count": 8,
   "metadata": {
    "collapsed": false
   },
   "outputs": [],
   "source": [
    "# Note that the field 'seed_target_masks' has to be a dictionary,\n",
    "# mapping each seedmask to the corresponding target mask\n",
    "# E.g.: seed_target_masks = {'seedmask1': 'targetmask1', 'seedmask2': 'targetmask2'}\n",
    "# Furthermore seed_count has to be a list of equal length as seed_targt_mask\n",
    "\n",
    "inputNode = Node(IdentityInterface(fields = ['dwi_file',\n",
    "                                            'bval_file',\n",
    "                                            'bvec_file',\n",
    "                                            'wmmask',\n",
    "                                            'wmmask_1mm',\n",
    "                                            'seed_target_masks',\n",
    "                                            'seed_count',\n",
    "                                            'tracking_dir',\n",
    "                                            'tracks_dir']), \n",
    "                 name = 'input_node')\n",
    "\n",
    "# TODO: Define output node\n",
    "outputNode = Node(IdentityInterface(fields = ['trk_files']),\n",
    "                  name = 'output_node')"
   ]
  },
  {
   "cell_type": "markdown",
   "metadata": {},
   "source": [
    "### Utility functions"
   ]
  },
  {
   "cell_type": "code",
   "execution_count": 9,
   "metadata": {
    "collapsed": true
   },
   "outputs": [],
   "source": [
    "def getSeedMasks(maskList):\n",
    "    return maskList.keys()\n",
    "\n",
    "def getTargetMasks(maskList):\n",
    "    return maskList.values()"
   ]
  },
  {
   "cell_type": "markdown",
   "metadata": {},
   "source": [
    "### Define the Workflow"
   ]
  },
  {
   "cell_type": "code",
   "execution_count": 13,
   "metadata": {
    "collapsed": false
   },
   "outputs": [],
   "source": [
    "wf = Workflow(name = 'MRTRIX_main')\n",
    "\n",
    "wf.connect([\n",
    "        (inputNode, preproc.wf, [('bval_file', 'input_node.bval_file'),\n",
    "                                ('bvec_file', 'input_node.bvec_file'),\n",
    "                                ('dwi_file', 'input_node.dwi_file'),\n",
    "                                ('wmmask', 'input_node.wmmask'),\n",
    "                                ('tracking_dir', 'input_node.tracking_dir')]),\n",
    "        (preproc.wf, trk.wf, [('output_node.spherical_harmonics_image', 'input_node.spherical_harmonics_image')]),\n",
    "        (inputNode, trk.wf, [('wmmask_1mm', 'input_node.wmmask_1mm'),\n",
    "                             ('tracks_dir', 'input_node.tracks_dir'),\n",
    "                             ('seed_count', 'input_node.seed_count'),\n",
    "                            (('seed_target_masks', getSeedMasks), 'input_node.seedmask'),\n",
    "                            (('seed_target_masks', getTargetMasks), 'input_node.targetmask')]),\n",
    "        (trk.wf, outputNode, [('output_node.trk_file', 'trk_files')])\n",
    "    ])"
   ]
  },
  {
   "cell_type": "markdown",
   "metadata": {
    "collapsed": true
   },
   "source": [
    "### Draw the workflow"
   ]
  },
  {
   "cell_type": "code",
   "execution_count": 14,
   "metadata": {
    "collapsed": false
   },
   "outputs": [
    {
     "name": "stderr",
     "output_type": "stream",
     "text": [
      "INFO:workflow:Creating detailed dot file: /Users/srothmei/Documents/TVB-Pypeline/notebooks/mrtrix/workflow_graph_detailed.dot\n",
      "INFO:workflow:Creating dot file: /Users/srothmei/Documents/TVB-Pypeline/notebooks/mrtrix/workflow_graph.dot\n"
     ]
    },
    {
     "data": {
      "image/png": "[encoded data removed]",
      "text/plain": [
       "<IPython.core.display.Image object>"
      ]
     },
     "execution_count": 14,
     "metadata": {},
     "output_type": "execute_result"
    }
   ],
   "source": [
    "#wf.write_graph(dotfilename=\"workflow_graph.dot\", graph2use='orig')\n",
    "#wf.write_graph?\n",
    "#from IPython.display import Image\n",
    "#Image(filename=\"workflow_graph.dot.png\")"
   ]
  },
  {
   "cell_type": "code",
   "execution_count": null,
   "metadata": {
    "collapsed": true
   },
   "outputs": [],
   "source": []
  }
 ],
 "metadata": {
  "kernelspec": {
   "display_name": "Python 2",
   "language": "python",
   "name": "python2"
  },
  "language_info": {
   "codemirror_mode": {
    "name": "ipython",
    "version": 2
   },
   "file_extension": ".py",
   "mimetype": "text/x-python",
   "name": "python",
   "nbconvert_exporter": "python",
   "pygments_lexer": "ipython2",
   "version": "2.7.10"
  }
 },
 "nbformat": 4,
 "nbformat_minor": 0
}
