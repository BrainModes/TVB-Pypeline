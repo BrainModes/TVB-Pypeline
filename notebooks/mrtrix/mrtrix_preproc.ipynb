{
 "cells": [
  {
   "cell_type": "markdown",
   "metadata": {},
   "source": [
    "# Pipeline MRTrix 0.2 Preprocessing Workflow"
   ]
  },
  {
   "cell_type": "markdown",
   "metadata": {},
   "source": [
    "This workflow performs the specific preprocessing of the dwMRI data in order to perform tracking using <b>MRTrix 0.2</b> as direct legacy conversion from the old pipeline"
   ]
  },
  {
   "cell_type": "markdown",
   "metadata": {},
   "source": [
    "### Handle imports"
   ]
  },
  {
   "cell_type": "code",
   "execution_count": 20,
   "metadata": {
    "collapsed": true
   },
   "outputs": [],
   "source": [
    "from nipype.interfaces import mrtrix, fsl\n",
    "from nipype import Node, Workflow\n",
    "from nipype.interfaces.utility import IdentityInterface\n",
    "\n",
    "import numpy as np\n",
    "import logging"
   ]
  },
  {
   "cell_type": "markdown",
   "metadata": {},
   "source": [
    "### Start the logging"
   ]
  },
  {
   "cell_type": "code",
   "execution_count": 2,
   "metadata": {
    "collapsed": false
   },
   "outputs": [],
   "source": [
    "logger = logging.getLogger('interface')\n",
    "logger.setLevel(logging.INFO)\n",
    "# create console handler and set level to debug\n",
    "ch = logging.StreamHandler()\n",
    "ch.setLevel(logging.INFO)\n",
    "# create formatter\n",
    "formatter = logging.Formatter('%(asctime)s - %(levelname)s - %(message)s')\n",
    "# add formatter to ch\n",
    "ch.setFormatter(formatter)\n",
    "# add ch to logger\n",
    "logger.addHandler(ch)"
   ]
  },
  {
   "cell_type": "markdown",
   "metadata": {},
   "source": [
    "### Define parameters"
   ]
  },
  {
   "cell_type": "code",
   "execution_count": 3,
   "metadata": {
    "collapsed": true
   },
   "outputs": [],
   "source": [
    "# Threshold for FA during single fiber voxel mask estimation\n",
    "absolute_threshold_value = 0.7\n",
    "# Number of erosion passes during single voxel fiber mask estimation\n",
    "number_of_passes = 1\n",
    "\n",
    "# Define default filenames\n",
    "fileNames = {\n",
    "    'gradFile': 'btable.b',\n",
    "    'dtFile': 'dt.mif',\n",
    "    'faFile': 'fa.mif',\n",
    "    'evFile': 'ev.mif',\n",
    "    'singleFiberFile': 'singleFibers.mif',\n",
    "    'responseFile': 'response.txt',\n",
    "    'csdFile': 'CSD.mif'\n",
    "            }"
   ]
  },
  {
   "cell_type": "markdown",
   "metadata": {
    "collapsed": true
   },
   "source": [
    "### Define input and outpute nodes"
   ]
  },
  {
   "cell_type": "code",
   "execution_count": 4,
   "metadata": {
    "collapsed": true
   },
   "outputs": [],
   "source": [
    "inputNode = Node(IdentityInterface(fields = ['dwi_file',\n",
    "                                            'bval_file',\n",
    "                                            'bvec_file',\n",
    "                                            'wmmask',\n",
    "                                            'tracking_dir']), \n",
    "                 name = 'input_node')\n",
    "\n",
    "\n",
    "outputNode = Node(IdentityInterface(fields = ['spherical_harmonics_image']), \n",
    "                  name = 'output_node')"
   ]
  },
  {
   "cell_type": "markdown",
   "metadata": {},
   "source": [
    "### Utility functions"
   ]
  },
  {
   "cell_type": "code",
   "execution_count": 5,
   "metadata": {
    "collapsed": true
   },
   "outputs": [],
   "source": [
    "def fileNameBuilder(path, fname):\n",
    "    return path + fname\n",
    "\n",
    "# Get the maximum possbile spherical-harmonics order \n",
    "# out of the data because mrtrix itself is not capable of doing this safely\n",
    "def estimateMaxHarmOrder(bval_file):\n",
    "    with open(bval_file,'r') as f:\n",
    "        tmp = f.read()\n",
    "        tmp = np.asarray(tmp.split())\n",
    "    \n",
    "    f.close()\n",
    "    \n",
    "    return np.count_nonzero(tmp > '0')"
   ]
  },
  {
   "cell_type": "markdown",
   "metadata": {},
   "source": [
    "### MRTrix specific preprocessing"
   ]
  },
  {
   "cell_type": "code",
   "execution_count": 6,
   "metadata": {
    "collapsed": false
   },
   "outputs": [],
   "source": [
    "# First convert the FSL-like input of bval and bvec into mrtrix format\n",
    "fsl2mrtrixNode = Node(mrtrix.FSL2MRTrix(), name = 'fsl_2_mrtrix')\n",
    "\n",
    "#Diffusion tensor images\n",
    "dwi2tensorNode = Node(mrtrix.DWI2Tensor(), name = 'dwi_2_tensor')\n",
    "#dwi2tensor dwi.mif -grad btable.b dt.mif\n",
    "\n",
    "#Fractional anisotropy (FA) map\n",
    "#tensor2FA dt.mif fa.mif\n",
    "tensor2faNode = Node(mrtrix.Tensor2FractionalAnisotropy(), name = 'tensor_2_FA')\n",
    "\n",
    "#Remove noisy background by multiplying the FA Image with the binary brainmask\n",
    "#mrmult fa.mif wmmask.mif fa_corr.mif\n",
    "mrmultNode = Node(fsl.BinaryMaths(), name = 'mrmult')\n",
    "mrmultNode.inputs.operation = 'mul'\n",
    "\n",
    "#Eigenvector (EV) map\n",
    "#tensor2vector dt.mif ev.mif\n",
    "tensor2vectorNode = Node(mrtrix.Tensor2Vector(), name = 'tensor_2_vector')\n",
    "\n",
    "#Scale the EV map by the FA Image\n",
    "#mrmult ev.mif fa_corr.mif ev_scaled.mif\n",
    "scaleEvNode = Node(fsl.BinaryMaths(), name = 'scale_ev')\n",
    "scaleEvNode.inputs.operation = 'mul'\n",
    "\n",
    "#Mask of single-fibre voxels\n",
    "#erode wmmask.mif -npass 1 - | mrmult fa_corr.mif - - | threshold - -abs 0.7 sf.mif\n",
    "erodeNode = Node(mrtrix.Erode(), name = 'erode_wmmask')\n",
    "erodeNode.inputs.number_of_passes = number_of_passes\n",
    "\n",
    "cleanFaNode = Node(fsl.BinaryMaths(), name = 'multiplyFA_Mask')\n",
    "cleanFaNode.inputs.operation = 'mul'\n",
    "\n",
    "thresholdFANode = Node(mrtrix.Threshold(), name = 'threshold_FA')\n",
    "thresholdFANode.inputs.absolute_threshold_value = absolute_threshold_value\n",
    "\n",
    "#Response function coefficient\n",
    "#estimate_response dwi.mif -grad btable.b -lmax ${lmax} sf.mif response.txt\n",
    "estResponseNode = Node(mrtrix.EstimateResponseForSH(), name = 'estimate_deconv_response')\n",
    "\n",
    "#CSD computation\n",
    "#csdeconv dwi.mif -grad btable.b response.txt -lmax ${lmax} -mask wmmask.mif CSD8.mif\n",
    "csdNode = Node(mrtrix.ConstrainedSphericalDeconvolution(), name = 'compute_CSD')"
   ]
  },
  {
   "cell_type": "markdown",
   "metadata": {},
   "source": [
    "### Connect the Nodes in the workflow"
   ]
  },
  {
   "cell_type": "code",
   "execution_count": null,
   "metadata": {
    "collapsed": false
   },
   "outputs": [],
   "source": [
    "wf = Workflow(name = 'MRTrix_preproc')\n",
    "\n",
    "# First do connect preprocessing\n",
    "wf.connect([\n",
    "        (inputNode, fsl2mrtrixNode, [('bval_file', 'bval_file'),\n",
    "                                        ('bvec_file', 'bvec_file'),\n",
    "                                        (('tracking_dir', fileNameBuilder, fileNames['gradFile']), 'out_encoding_file')]),\n",
    "        (inputNode, dwi2tensorNode, [('dwi_file', 'in_file'),\n",
    "                                    (('tracking_dir', fileNameBuilder, fileNames['dtFile']), 'out_filename')]),\n",
    "        (fsl2mrtrixNode, dwi2tensorNode, [('encoding_file', 'encoding_file')]),\n",
    "        (dwi2tensorNode, tensor2faNode, [('tensor', 'in_file')]),\n",
    "        (inputNode, tensor2faNode, [(('tracking_dir', fileNameBuilder, fileNames['faFile']), 'out_filename')]),\n",
    "        (tensor2faNode, mrmultNode, [('FA', 'in_file')]),\n",
    "        (inputNode, mrmultNode, [('wmmask', 'operand_file')]),\n",
    "        (inputNode, mrmultNode, [(('tracking_dir', fileNameBuilder, fileNames['faFile']), 'out_file')]),\n",
    "        (dwi2tensorNode, tensor2vectorNode, [('tensor', 'in_file')]),\n",
    "        (inputNode, tensor2vectorNode, [(('tracking_dir', fileNameBuilder, fileNames['evFile']), 'out_filename')]),\n",
    "        (tensor2vectorNode, scaleEvNode, [('vector', 'in_file')]),\n",
    "        (mrmultNode, scaleEvNode, [('out_file', 'operand_file')]),\n",
    "        (inputNode, scaleEvNode, [(('tracking_dir', fileNameBuilder, fileNames['evFile']), 'out_file')]),\n",
    "        (inputNode, erodeNode, [('wmmask', 'in_file'),\n",
    "                               (('tracking_dir', fileNameBuilder, fileNames['singleFiberFile']), 'out_filename')]),\n",
    "        (erodeNode, cleanFaNode, [('out_file', 'in_file')]),\n",
    "        (inputNode, cleanFaNode, [('wmmask', 'operand_file'),\n",
    "                               (('tracking_dir', fileNameBuilder, fileNames['singleFiberFile']), 'out_file')]),\n",
    "        (cleanFaNode, thresholdFANode, [('out_file', 'in_file')]),\n",
    "        (inputNode, thresholdFANode, [(('tracking_dir', fileNameBuilder, fileNames['singleFiberFile']),\n",
    "                                       'out_filename')]),\n",
    "        (inputNode, estResponseNode, [(('bval_file', estimateMaxHarmOrder), 'maximum_harmonic_order'),\n",
    "                                     (('tracking_dir', fileNameBuilder, fileNames['responseFile']), 'out_filename'),\n",
    "                                     ('dwi_file', 'in_file')]),\n",
    "        (fsl2mrtrixNode, estResponseNode, [('encoding_file', 'encoding_file')]),\n",
    "        (thresholdFANode, estResponseNode, [('out_file', 'mask_image')]),\n",
    "        (inputNode, csdNode, [(('tracking_dir', fileNameBuilder, fileNames['csdFile']), 'out_filename'),\n",
    "                             ('dwi_file', 'in_file'),\n",
    "                             (('bval_file', estimateMaxHarmOrder), 'maximum_harmonic_order'),\n",
    "                             ('wmmask', 'mask_image')]),\n",
    "        (fsl2mrtrixNode, csdNode, [('encoding_file', 'encoding_file')]),\n",
    "        (estResponseNode, csdNode, [('response', 'response_file')]),\n",
    "        (csdNode, outputNode, [('spherical_harmonics_image', 'spherical_harmonics_image')])\n",
    "        ])\n",
    "\n",
    "# Now the tracking stuff"
   ]
  },
  {
   "cell_type": "markdown",
   "metadata": {},
   "source": [
    "### Plot the workflow graph"
   ]
  },
  {
   "cell_type": "code",
   "execution_count": null,
   "metadata": {
    "collapsed": false
   },
   "outputs": [],
   "source": [
    "#wf.write_graph(\"workflow_graph.dot\")\n",
    "#from IPython.display import Image\n",
    "#Image(filename=\"workflow_graph.dot.png\")"
   ]
  },
  {
   "cell_type": "code",
   "execution_count": null,
   "metadata": {
    "collapsed": true
   },
   "outputs": [],
   "source": []
  }
 ],
 "metadata": {
  "kernelspec": {
   "display_name": "Python 2",
   "language": "python",
   "name": "python2"
  },
  "language_info": {
   "codemirror_mode": {
    "name": "ipython",
    "version": 2
   },
   "file_extension": ".py",
   "mimetype": "text/x-python",
   "name": "python",
   "nbconvert_exporter": "python",
   "pygments_lexer": "ipython2",
   "version": "2.7.10"
  }
 },
 "nbformat": 4,
 "nbformat_minor": 0
}
