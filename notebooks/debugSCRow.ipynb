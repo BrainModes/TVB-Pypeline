{
 "cells": [
  {
   "cell_type": "code",
   "execution_count": 1,
   "metadata": {
    "collapsed": true
   },
   "outputs": [],
   "source": [
    "import numpy as np\n",
    "import sys, os\n",
    "funcPath = '/Users/srothmei/Documents/TVB-Pypeline'\n",
    "sys.path.append(funcPath)\n",
    "\n",
    "import bm_functions as brainmodes\n",
    "\n",
    "debugPath = '/Users/srothmei/Desktop/charite/toronto/Adalberto/debug/'"
   ]
  },
  {
   "cell_type": "code",
   "execution_count": 2,
   "metadata": {
    "collapsed": false
   },
   "outputs": [],
   "source": [
    "wmBorder_file = debugPath + 'wmborder.npy'\n",
    "\n",
    "#wmborder = np.load(wmBorder_file)\n",
    "wmborder = wmBorder_file"
   ]
  },
  {
   "cell_type": "code",
   "execution_count": 3,
   "metadata": {
    "collapsed": false
   },
   "outputs": [],
   "source": [
    "affine_matrix_file = debugPath + 'affine_matrix.npy'\n",
    "\n",
    "affine_matrix = np.load(affine_matrix_file)"
   ]
  },
  {
   "cell_type": "code",
   "execution_count": 4,
   "metadata": {
    "collapsed": true
   },
   "outputs": [],
   "source": [
    "roi = 1\n",
    "subid = 'Adalberto'\n",
    "tracksPath = debugPath"
   ]
  },
  {
   "cell_type": "code",
   "execution_count": 5,
   "metadata": {
    "collapsed": false
   },
   "outputs": [
    {
     "name": "stderr",
     "output_type": "stream",
     "text": [
      "INFO:workflow:Executing node tckFinder in dir: /var/folders/tg/2g576vk174s3m9znw1sgjpbm0000gn/T/tmpuC7E7W/tckFinder\n"
     ]
    }
   ],
   "source": [
    "from nipype import Node\n",
    "from nipype.interfaces.io import DataFinder\n",
    "tckFinder = Node(DataFinder(match_regex = '.*\\.npy', root_paths = tracksPath), name = 'tckFinder')\n",
    "\n",
    "res = tckFinder.run()\n",
    "track_files = res.outputs.out_paths"
   ]
  },
  {
   "cell_type": "code",
   "execution_count": 6,
   "metadata": {
    "collapsed": false
   },
   "outputs": [
    {
     "name": "stdout",
     "output_type": "stream",
     "text": [
      "Computing SC for ROI 1\n",
      "Generate ROI-ID to voxel hashtable...\n",
      "/Users/srothmei/Desktop/charite/toronto/Adalberto/debug/10011_tracks.npy: Tracks loaded .....\n",
      "/Users/srothmei/Desktop/charite/toronto/Adalberto/debug/10012_tracks.npy: Tracks loaded .....\n",
      "/Users/srothmei/Desktop/charite/toronto/Adalberto/debug/10013_tracks.npy: Tracks loaded .....\n",
      "Storing....\n",
      "Done!\n"
     ]
    },
    {
     "data": {
      "text/plain": [
       "('/Users/srothmei/Desktop/charite/toronto/Adalberto/debug/SC_cap_row_1Adalberto.json',\n",
       " '/Users/srothmei/Desktop/charite/toronto/Adalberto/debug/SC_dist_row_1Adalberto.json')"
      ]
     },
     "execution_count": 6,
     "metadata": {},
     "output_type": "execute_result"
    }
   ],
   "source": [
    "brainmodes.compute_connectivity_row(roi, subid, affine_matrix, wmborder, tracksPath, track_files)"
   ]
  },
  {
   "cell_type": "code",
   "execution_count": null,
   "metadata": {
    "collapsed": false
   },
   "outputs": [],
   "source": [
    "    region_table = np.unique(wmborder[wmborder > 0]).astype(int)\n",
    "    region_table = region_table.tolist()\n",
    "    print('Test')\n",
    "    # Generate ROI-ID to voxel hashtable\n",
    "    print('Generate ROI-ID to voxel hashtable...')\n",
    "    region_id_table = np.array((0, 0)).astype('int16')  # Init Variable\n",
    "    for regid in region_table:\n",
    "        tmpids = np.ravel_multi_index(np.nonzero(wmborder == regid), wmborder.shape, order='F')\n",
    "        tmpids.sort()\n",
    "        tmpids = np.vstack((np.ones_like(tmpids) * regid, tmpids))\n",
    "        region_id_table = np.vstack((region_id_table, np.transpose(tmpids)))\n",
    "    region_id_table = region_id_table[1:, :].astype(int)"
   ]
  },
  {
   "cell_type": "code",
   "execution_count": null,
   "metadata": {
    "collapsed": false
   },
   "outputs": [],
   "source": [
    "import re\n",
    "from os.path import basename\n",
    "tileFiles = list()\n",
    "for trackFile in track_files:\n",
    "    #print(basename(trackFile))\n",
    "        # Select only files that have max. of 2 trailing number depicting the ordering...\n",
    "        # i.e. don't select files like '10012_subID.tck' when processing for region 10...\n",
    "    if re.search(\"^\" + str(region_table[roi - 1]) + \"\\d{1,2}_.*\\.npy$\", basename(trackFile)):\n",
    "        tileFiles.append(trackFile)\n",
    "            \n",
    "print type(tileFiles)\n",
    "print tileFiles[0]"
   ]
  },
  {
   "cell_type": "code",
   "execution_count": null,
   "metadata": {
    "collapsed": false
   },
   "outputs": [],
   "source": [
    "region_id_table[1:10,:]"
   ]
  },
  {
   "cell_type": "code",
   "execution_count": null,
   "metadata": {
    "collapsed": false
   },
   "outputs": [],
   "source": [
    "def tck2voxel_cluster(tck, affineMatrix):\n",
    "    from numpy import hstack, round, dot, ones, shape, transpose\n",
    "\n",
    "    # Loop over all tracks in the data structure\n",
    "    for i in range(shape(tck)[0]):\n",
    "        # Transform the coordinates by multiplying the affine matrix with the coords\n",
    "        # => First add a column of 1 to the right side of the matrix\n",
    "        zw = hstack((tck[i], ones((shape(tck[i])[0], 1))))\n",
    "        # => Second multiply the actual matrices\n",
    "        zw = round(dot(zw, transpose(affineMatrix)))\n",
    "        # => Third store the result excluding the righthand-side column\n",
    "        tck[i] = zw[:, :3].astype('int16')\n",
    "\n",
    "    return tck\n",
    "\n",
    "tile = tileFiles[0]\n",
    "tracks_header = np.load(tile).item()\n",
    "tracks_header['tracks'] = tck2voxel_cluster(tracks_header['tracks'], affine_matrix)\n"
   ]
  },
  {
   "cell_type": "code",
   "execution_count": null,
   "metadata": {
    "collapsed": false
   },
   "outputs": [],
   "source": [
    "for trackind in range(np.shape(tracks_header['tracks'])[0]):\n",
    "    inRegIDs = wmborder[tracks_header['tracks'][trackind][:, 0], tracks_header['tracks'][trackind][:, 1], tracks_header['tracks'][trackind][:, 2]]\n",
    "    print inRegIDs\n",
    "    inRegLin = np.flatnonzero(inRegIDs[:-1])\n",
    "    print np.flatnonzero(inRegIDs[:-1])\n",
    "    pathIndices = np.ravel_multi_index(\n",
    "                    (tracks_header['tracks'][trackind][:, 0], tracks_header['tracks'][trackind][:, 1], tracks_header['tracks'][trackind][:, 2]), np.shape(wmborder),\n",
    "                    order='F')\n",
    "    print pathIndices\n",
    "    break"
   ]
  },
  {
   "cell_type": "code",
   "execution_count": null,
   "metadata": {
    "collapsed": false
   },
   "outputs": [],
   "source": [
    "foo = [np.where(region_id_table[:,1] == x)[0][0] for x in pathIndices if np.where(region_id_table[:,1] == x)[0]]\n",
    "inRegIDs = region_id_table[foo,0]\n",
    "print inRegIDs\n",
    "print foo\n",
    "inRegLin2 = range(len(region_id_table[foo,0])-1)\n",
    "print np.flatnonzero(region_id_table[:, 1] == pathIndices[inRegLin2[-1]])[0]\n",
    "print foo[inRegLin2[-1]]"
   ]
  },
  {
   "cell_type": "code",
   "execution_count": null,
   "metadata": {
    "collapsed": false
   },
   "outputs": [],
   "source": [
    "if np.where(region_id_table[:,1] == pathIndices[0])[0]:\n",
    "    print \"Besart\""
   ]
  },
  {
   "cell_type": "code",
   "execution_count": null,
   "metadata": {
    "collapsed": false
   },
   "outputs": [],
   "source": [
    "wmborder = \"/Users/srothmei/Desktop/charite/temp/wmborder.npy\"\n",
    "print type(wmborder)\n",
    "wmborder = np.load(wmborder)\n",
    "print type(wmborder)\n",
    "region_table = np.unique(wmborder[wmborder > 0]).astype('int32')\n",
    "region_table = region_table.tolist()\n",
    "\n",
    "print type(int(np.count_nonzero(wmborder == region_table[roi - 1]) * 200))\n",
    "qualityMetrics = {'off_seed': 0, 'too_short': 0, 'good_tracks': 0, 'wrong_seed': 0,\n",
    "                      'expected_tracks': np.count_nonzero(wmborder == region_table[roi - 1]) * 200, 'wrong_target': 0,\n",
    "                      'generated_tracks': 0}\n",
    "print qualityMetrics"
   ]
  },
  {
   "cell_type": "code",
   "execution_count": null,
   "metadata": {
    "collapsed": false
   },
   "outputs": [],
   "source": [
    "region_table[roi -1]"
   ]
  },
  {
   "cell_type": "code",
   "execution_count": null,
   "metadata": {
    "collapsed": true
   },
   "outputs": [],
   "source": []
  }
 ],
 "metadata": {
  "kernelspec": {
   "display_name": "Python 2",
   "language": "python",
   "name": "python2"
  },
  "language_info": {
   "codemirror_mode": {
    "name": "ipython",
    "version": 2
   },
   "file_extension": ".py",
   "mimetype": "text/x-python",
   "name": "python",
   "nbconvert_exporter": "python",
   "pygments_lexer": "ipython2",
   "version": "2.7.10"
  }
 },
 "nbformat": 4,
 "nbformat_minor": 0
}
