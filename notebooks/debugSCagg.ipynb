{
 "cells": [
  {
   "cell_type": "code",
   "execution_count": null,
   "metadata": {
    "collapsed": true
   },
   "outputs": [],
   "source": [
    "import numpy as np\n",
    "import sys, os\n",
    "funcPath = '/Users/srothmei/Documents/TVB-Pypeline'\n",
    "sys.path.append(funcPath)\n",
    "\n",
    "import bm_functions as brainmodes"
   ]
  },
  {
   "cell_type": "markdown",
   "metadata": {},
   "source": [
    "### General stuff"
   ]
  },
  {
   "cell_type": "code",
   "execution_count": null,
   "metadata": {
    "collapsed": true
   },
   "outputs": [],
   "source": [
    "workingDir = '/Users/srothmei/Desktop/charite/toronto/AJ_20140516_1600/mrtrix_68/'\n",
    "maskDir = workingDir + '/masks_68/'\n",
    "tracksPath = workingDir + '/tracks_68/'\n",
    "\n",
    "\n",
    "sub_id = 'AJ_20140516_1600'\n",
    "\n",
    "#wmborder\n",
    "wmBorder_file = maskDir + 'wmborder.npy'\n",
    "wmborder = np.load(wmBorder_file)"
   ]
  },
  {
   "cell_type": "markdown",
   "metadata": {},
   "source": [
    "### Find the CAP & DIST files"
   ]
  },
  {
   "cell_type": "code",
   "execution_count": null,
   "metadata": {
    "collapsed": false
   },
   "outputs": [],
   "source": [
    "from nipype import Node\n",
    "from nipype.interfaces.io import DataFinder\n",
    "tckFinder = Node(DataFinder(match_regex = 'SC_cap.*\\.json', root_paths = tracksPath), name = 'tckFinder')\n",
    "\n",
    "res_cap = tckFinder.run()\n",
    "cap_row_files = res_cap.outputs.out_paths\n",
    "\n",
    "tckFinder.inputs.match_regex = 'SC_dist.*\\.json'\n",
    "res_dist = tckFinder.run()\n",
    "dist_row_files = res_dist.outputs.out_paths"
   ]
  },
  {
   "cell_type": "code",
   "execution_count": null,
   "metadata": {
    "collapsed": false
   },
   "outputs": [],
   "source": [
    "brainmodes.aggregate_connectivity(sub_id, wmborder, tracksPath, cap_row_files, dist_row_files)"
   ]
  },
  {
   "cell_type": "code",
   "execution_count": 6,
   "metadata": {
    "collapsed": false
   },
   "outputs": [
    {
     "name": "stdout",
     "output_type": "stream",
     "text": [
      "<type 'str'>\n"
     ]
    }
   ],
   "source": [
    "from nipype import Node\n",
    "from nipype.interfaces import freesurfer\n",
    "\n",
    "mriConverter = Node(freesurfer.preprocess.MRIConvert(), name = 'convertAparcAseg')\n",
    "mriConverter.inputs.out_type = 'niigz'\n",
    "mriConverter.inputs.out_orientation = 'RAS'\n",
    "\n",
    "mriConverter.inputs.in_file = '/Users/srothmei/Desktop/charite/toronto/QL_20120814/recon_all/mri/aparc+aseg.mgz'\n",
    "mriConverter.inputs.out_file = '/Users/srothmei/Desktop/charite/toronto/QL_20120814/recon_all/mri/aparc+aseg.nii.gz'\n",
    "\n",
    "print type(mriConverter.inputs.in_file)\n",
    "\n",
    "#mriConverter.run()"
   ]
  },
  {
   "cell_type": "code",
   "execution_count": null,
   "metadata": {
    "collapsed": true
   },
   "outputs": [],
   "source": []
  }
 ],
 "metadata": {
  "kernelspec": {
   "display_name": "Python 2",
   "language": "python",
   "name": "python2"
  },
  "language_info": {
   "codemirror_mode": {
    "name": "ipython",
    "version": 2
   },
   "file_extension": ".py",
   "mimetype": "text/x-python",
   "name": "python",
   "nbconvert_exporter": "python",
   "pygments_lexer": "ipython2",
   "version": "2.7.10"
  }
 },
 "nbformat": 4,
 "nbformat_minor": 0
}
